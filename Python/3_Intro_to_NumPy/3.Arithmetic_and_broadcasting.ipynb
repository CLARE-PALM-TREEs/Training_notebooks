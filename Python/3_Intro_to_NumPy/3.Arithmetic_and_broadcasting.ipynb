{
 "cells": [
  {
   "cell_type": "markdown",
   "id": "eb84ab98",
   "metadata": {},
   "source": [
    "<img src=\"images/Project_logos.png\" width=\"500\" height=\"300\" align=\"center\">"
   ]
  },
  {
   "cell_type": "markdown",
   "id": "901d4171",
   "metadata": {},
   "source": [
    "## Application: Arithmetic and Broadcasting<a class=\"anchor\" id=\"app-calc\"></a>\n",
    "\n",
    "**Learning outcome:** by the end of this section you will be able to explain how broadcasting allows mathematical operations between NumPy arrays."
   ]
  },
  {
   "cell_type": "markdown",
   "id": "38cffde8",
   "metadata": {},
   "source": [
    "### Elementwise Arithmetic <a class=\"anchor\" id=\"arithmetic_and_broadcasting\"></a>\n",
    "\n",
    "You can use NumPy to perform arithmetic operations between two arrays in an element-by-element fashion."
   ]
  },
  {
   "cell_type": "code",
   "execution_count": null,
   "id": "1eba83d6",
   "metadata": {},
   "outputs": [],
   "source": [
    "import numpy as np\n",
    "\n",
    "arr1 = np.arange(4)\n",
    "arr2 = np.arange(4)\n",
    "\n",
    "print('{} + {} = {}'.format(arr1, arr2, arr1 + arr2))"
   ]
  },
  {
   "cell_type": "markdown",
   "id": "61ab632e",
   "metadata": {},
   "source": [
    "#### Exercise \n",
    "\n",
    "Explore arithmetic operations between arrays:\n",
    "\n",
    "* Create a number of arrays of different shapes and dtypes. Make sure some of them include values of `0`.\n",
    "* Make use of all the basic Python mathematical operators (i.e. `+`, `-`, `*`, `/`, `//`, `%`).\n",
    "\n",
    "What operations work? What operations do not work? Can you explain why operations do or do not work?"
   ]
  },
  {
   "cell_type": "code",
   "execution_count": null,
   "id": "a2c4cde1",
   "metadata": {},
   "outputs": [],
   "source": []
  },
  {
   "cell_type": "markdown",
   "id": "e05728d2",
   "metadata": {},
   "source": [
    "It makes intrinsic sense that you should be able to add a constant to all values in an array:"
   ]
  },
  {
   "cell_type": "code",
   "execution_count": null,
   "id": "4b79a1cb",
   "metadata": {},
   "outputs": [],
   "source": [
    "arr = np.arange(4)\n",
    "const = 5\n",
    "\n",
    "print(\"Original array: {}\".format(arr))\n",
    "print(\"\")\n",
    "print(\"Array + const: {}\".format(arr + const))"
   ]
  },
  {
   "cell_type": "markdown",
   "id": "3ec4a680",
   "metadata": {},
   "source": [
    "### Broadcasting\n",
    "\n",
    "There are times when you need to perform calculations between NumPy arrays of different sizes. NumPy allows you to do this easily using a powerful piece of functionality called **broadcasting**.\n",
    "\n",
    "Broadcasting is a way of treating the arrays as if they had the same dimensions and thus have elements all corresponding.  It is then easy to perform the calculation, element-wise. It does this by matching dimensions in one array to the other where possible, and using repeated values where there is no corresponding dimension in the other array."
   ]
  },
  {
   "cell_type": "markdown",
   "id": "d936c4a5",
   "metadata": {},
   "source": [
    "#### Rules of Broadcasting\n",
    "\n",
    "Broadcasting applies these three rules:\n",
    "\n",
    "1.    If the two arrays differ in their number of dimensions, the shape of the array with fewer dimensions is padded with ones on its leading (left) side.\n",
    "\n",
    "1.    If the shape of the two arrays does not match in any dimension, either array with shape equal to 1 in a given dimension is stretched to match the other shape.\n",
    "\n",
    "1.    If in any dimension the sizes disagree and neither has shape equal to 1, an error is raised.\n",
    "\n",
    "Note that all of this happens without ever actually creating the expanded arrays in memory! This broadcasting behavior is in practice enormously powerful, especially given that when NumPy broadcasts to create new dimensions or to 'stretch' existing ones, it doesn't actually duplicate the data. In the example above the operation is carried out as if the scalar 1.5 was a 1D array with 1.5 in all of its entries, but no actual array is ever created. This can save lots of memory in cases when the arrays in question are large. As such this can have significant performance implications."
   ]
  },
  {
   "cell_type": "markdown",
   "id": "f021ad20",
   "metadata": {},
   "source": [
    "![Illustration of broadcasting](images/fig_broadcast_visual_1.png)\n",
    "\n",
    "([image source](http://www.astroml.org/book_figures/appendix/fig_broadcast_visual.html))"
   ]
  },
  {
   "cell_type": "markdown",
   "id": "37cf19dc",
   "metadata": {},
   "source": [
    "#### Exercise\n",
    "\n",
    "For the following cases:\n",
    "\n",
    "* What will be the result of adding `arr1` to `arr2`? \n",
    "* What will be the shape of the resulting array?\n",
    "* What rules of broadcasting are being used?"
   ]
  },
  {
   "cell_type": "code",
   "execution_count": null,
   "id": "693d3d59",
   "metadata": {},
   "outputs": [],
   "source": [
    "arr1 = np.ones((2, 3))\n",
    "arr2 = np.ones((2, 1))\n",
    "\n",
    "# (arr1 + arr2).shape"
   ]
  },
  {
   "cell_type": "code",
   "execution_count": null,
   "id": "cbb27356",
   "metadata": {},
   "outputs": [],
   "source": [
    "arr1 = np.ones((2, 3))\n",
    "arr2 = np.ones(3)\n",
    "\n",
    "# (arr1 + arr2).shape"
   ]
  },
  {
   "cell_type": "code",
   "execution_count": null,
   "id": "0ca6645d",
   "metadata": {},
   "outputs": [],
   "source": [
    "arr1 = np.ones((1, 3))\n",
    "arr2 = np.ones((2, 1))\n",
    "\n",
    "# (arr1 + arr2).shape"
   ]
  },
  {
   "cell_type": "code",
   "execution_count": null,
   "id": "aa30d13e",
   "metadata": {},
   "outputs": [],
   "source": [
    "arr1 = np.ones((1, 3))\n",
    "arr2 = np.ones((1, 2))\n",
    "\n",
    "# (arr1 + arr2).shape"
   ]
  },
  {
   "cell_type": "markdown",
   "id": "032ead43",
   "metadata": {},
   "source": [
    "#### Reshaping arrays to aid broadcasting\n",
    "\n",
    "NumPy allows you to change the shape of an array, so long as the total number of elements in the array does not change. For example, we could reshape a flat array with 12 elements to a 2D array with shape `(2, 6)`, or `(3, 2, 2)`, or even `(3, 4, 1)`. We could not, however, reshape it to have shape `(2, 5)`, because the total number of elements would not be kept constant."
   ]
  },
  {
   "cell_type": "markdown",
   "id": "54d23036",
   "metadata": {},
   "source": [
    "#### Exercise, continued\n",
    "\n",
    "For the failing example above, what reshape operation could you apply to `arr2` so that it can be broadcast with `arr1`?"
   ]
  },
  {
   "cell_type": "code",
   "execution_count": null,
   "id": "d1cf4506",
   "metadata": {},
   "outputs": [],
   "source": []
  },
  {
   "cell_type": "markdown",
   "id": "45a73ce0",
   "metadata": {},
   "source": [
    "#### Arithmetic and Broadcasting: Summary of key  points\n",
    "\n",
    " * arithmetic operations are performed in an element-by-element fashion,\n",
    " * operations can be performed between arrays of different shapes,\n",
    " * the arrays' dimensions are aligned according to fixed rules; where one input lacks a given dimension, values are repeated,\n",
    " * reshaping can be used to get arrays to combine as required."
   ]
  }
 ],
 "metadata": {
  "kernelspec": {
   "display_name": "Python 3 (ipykernel)",
   "language": "python",
   "name": "python3"
  },
  "language_info": {
   "codemirror_mode": {
    "name": "ipython",
    "version": 3
   },
   "file_extension": ".py",
   "mimetype": "text/x-python",
   "name": "python",
   "nbconvert_exporter": "python",
   "pygments_lexer": "ipython3",
   "version": "3.9.16"
  }
 },
 "nbformat": 4,
 "nbformat_minor": 5
}
