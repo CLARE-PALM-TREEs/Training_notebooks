{
 "cells": [
  {
   "cell_type": "markdown",
   "id": "cdba5f7e",
   "metadata": {},
   "source": [
    "## The Array Object <a class=\"anchor\" id=\"array-object\"></a>\n",
    "\n",
    "**Learning outcome:** by the end of this section, you will be able to manipulate NumPy array objects through indexing and explain key features and properties of NumPy arrays.\n",
    "\n",
    "The multidimensional array object is at the core of all of NumPy's functionality.  Let's explore this object some more."
   ]
  },
  {
   "cell_type": "markdown",
   "id": "5faa2d64",
   "metadata": {},
   "source": [
    "### Array properties\n",
    "\n",
    "Let's create a NumPy array and take a look at some of its properties."
   ]
  },
  {
   "cell_type": "code",
   "execution_count": null,
   "id": "b6961e3a",
   "metadata": {},
   "outputs": [],
   "source": [
    "import numpy as np\n",
    "\n",
    "arr = np.ones((3, 2, 4))\n",
    "\n",
    "print(\"Array shape:\", arr.shape)\n",
    "print(\"Array element dtype:\", arr.dtype)"
   ]
  },
  {
   "cell_type": "markdown",
   "id": "94d59c7a",
   "metadata": {},
   "source": [
    "Note that although the data we put into the array are integers, the default behaviour of NumPy is to create arrays in  has automatically"
   ]
  },
  {
   "cell_type": "markdown",
   "id": "8f035077",
   "metadata": {},
   "source": [
    "#### Exercise\n",
    "\n",
    "##### Part 1\n",
    "\n",
    "Use the code cells below to explore features of this array.\n",
    "\n",
    "* What is the `type` of the array created above? (Hint: you can find the type of an object in Python using `type(<object>)`, where `<object>` is replaced with the name of the variable containing the object.)"
   ]
  },
  {
   "cell_type": "code",
   "execution_count": null,
   "id": "e8513361",
   "metadata": {},
   "outputs": [],
   "source": []
  },
  {
   "cell_type": "markdown",
   "id": "6bc6d9e7",
   "metadata": {},
   "source": [
    "##### Part 2\n",
    "\n",
    "Consider the following NumPy array properties:\n",
    "\n",
    "* `ndim`,\n",
    "* `nbytes`,\n",
    "* `size`,\n",
    "* `T`.\n",
    "\n",
    "For each of these properties:\n",
    "\n",
    "* Use information from the array documentation to find out more about each array property.\n",
    "* Apply each property to the array `arr` defined above. Can you explain the results you get in each case?"
   ]
  },
  {
   "cell_type": "markdown",
   "id": "170b3d0f",
   "metadata": {},
   "source": [
    "### Indexing\n",
    "\n",
    "You can index NumPy arrays in the same way as other Python objects, by using square brackets `[]`. This means we can index to retrieve a single element, multiple consecutive elements, or a more complex sequence:"
   ]
  },
  {
   "cell_type": "code",
   "execution_count": null,
   "id": "f1f13a03",
   "metadata": {},
   "outputs": [],
   "source": [
    "arr = np.array([1, 2, 3, 4, 5, 6])\n",
    "print(arr)"
   ]
  },
  {
   "cell_type": "code",
   "execution_count": null,
   "id": "77f07487",
   "metadata": {},
   "outputs": [],
   "source": [
    "print(\"arr[2] = {}\".format(arr[2]))\n",
    "print(\"arr[2:5] = {}\".format(arr[2:5]))\n",
    "print(\"arr[::2] = {}\".format(arr[::2]))"
   ]
  },
  {
   "cell_type": "markdown",
   "id": "5a9a0f79",
   "metadata": {},
   "source": [
    "You can also index multidimensional arrays using an enhanced indexing syntax, which allows for multi-element indexing. (Sometimes this is referred to as \"extended slicing\".) Remember that Python uses zero-based indexing!"
   ]
  },
  {
   "cell_type": "code",
   "execution_count": null,
   "id": "73df3917",
   "metadata": {},
   "outputs": [],
   "source": [
    "lst_2d = [[1, 2, 3], [4, 5, 6]]\n",
    "arr_2d = arr.reshape(2, 3)\n",
    "\n",
    "print(\"2D list:\")\n",
    "print(lst_2d)"
   ]
  },
  {
   "cell_type": "code",
   "execution_count": null,
   "id": "4d8af71b",
   "metadata": {},
   "outputs": [],
   "source": [
    "print(\"2D array:\")\n",
    "print(arr_2d)"
   ]
  },
  {
   "cell_type": "code",
   "execution_count": null,
   "id": "8faf9f25",
   "metadata": {},
   "outputs": [],
   "source": [
    "print(\"Single array element:\")\n",
    "print(arr_2d[1, 2])"
   ]
  },
  {
   "cell_type": "code",
   "execution_count": null,
   "id": "cbdc51d5",
   "metadata": {},
   "outputs": [],
   "source": [
    "print(\"Single row:\")\n",
    "print(arr_2d[1])\n",
    "print(\"First two columns:\")\n",
    "print(arr_2d[:, :2])"
   ]
  },
  {
   "cell_type": "markdown",
   "id": "597ef1f6",
   "metadata": {},
   "source": [
    "If you only provide one index to slice a multidimensional array, then the slice will be expanded to \"`:`\" for all of the remaining dimensions:"
   ]
  },
  {
   "cell_type": "code",
   "execution_count": null,
   "id": "25ebd9ac",
   "metadata": {},
   "outputs": [],
   "source": [
    "print('Second row: {} is equivalent to {}'.format(arr_2d[1], arr_2d[1, :]))"
   ]
  },
  {
   "cell_type": "markdown",
   "id": "4f0ee1c0",
   "metadata": {},
   "source": [
    "This is known as **ellipsis**. Ellipsis can be specified explicitly using \"`...`\", which automatically expands to \"`:`\" for each dimension unspecified in the slice:"
   ]
  },
  {
   "cell_type": "code",
   "execution_count": null,
   "id": "2f592a9e",
   "metadata": {},
   "outputs": [],
   "source": [
    "arr1 = np.empty((4, 6, 3))\n",
    "print('Original shape: ', arr1.shape)\n",
    "print(arr1[...].shape)\n",
    "print(arr1[..., 0:2].shape)\n",
    "print(arr1[2:4, ..., ::2].shape)\n",
    "print(arr1[2:4, :, ..., ::-1].shape)"
   ]
  },
  {
   "cell_type": "markdown",
   "id": "ac903638",
   "metadata": {},
   "source": [
    "#### Boolean Indexing\n",
    "\n",
    "NumPy provides syntax to index conditionally, based on the data in the array.\n",
    "\n",
    "You can pass in an array of True and False values (a boolean array), or, more commonly, a condition that returns a boolean array."
   ]
  },
  {
   "cell_type": "code",
   "execution_count": null,
   "id": "0130d5bf",
   "metadata": {},
   "outputs": [],
   "source": [
    "print(arr_2d)"
   ]
  },
  {
   "cell_type": "code",
   "execution_count": null,
   "id": "97d1a05d",
   "metadata": {},
   "outputs": [],
   "source": [
    "bools = arr_2d % 2 == 0\n",
    "print(bools)"
   ]
  },
  {
   "cell_type": "code",
   "execution_count": null,
   "id": "eff84885",
   "metadata": {},
   "outputs": [],
   "source": [
    "print(arr_2d[bools])"
   ]
  },
  {
   "cell_type": "markdown",
   "id": "0b4e02c3",
   "metadata": {},
   "source": [
    "#### Exercise\n",
    "\n",
    "##### Part 1\n",
    "\n",
    "Why do these indexing examples give the stated results?\n",
    "\n",
    " * result of `arr_2d[1, 0]` is `4`\n",
    " * result of `arr_2d[0]` is `[1, 2, 3]`\n",
    " * result of `arr_2d[1, 1:]` is `[5, 6]`\n",
    " * result of `arr_2d[0:, ::2]` is `[[1, 3], [4, 6]]`"
   ]
  },
  {
   "cell_type": "code",
   "execution_count": null,
   "id": "3ef07a86",
   "metadata": {},
   "outputs": [],
   "source": []
  },
  {
   "cell_type": "markdown",
   "id": "c0742314",
   "metadata": {},
   "source": [
    "##### Part 2\n",
    "\n",
    "How would you index `arr_2d` to retrieve:\n",
    "\n",
    " * the third value: resulting in `3`\n",
    " * the second row: resulting in `[4 5 6]` \n",
    " * the first column: resulting in `[1 4]`\n",
    " * the first column, retaining the outside dimension: resulting in `[[1] [4]]`\n",
    " * only values greater than or equal to 3: resulting in `[3 4 5 6]`"
   ]
  },
  {
   "cell_type": "code",
   "execution_count": null,
   "id": "7f2f1614",
   "metadata": {},
   "outputs": [],
   "source": []
  },
  {
   "cell_type": "markdown",
   "id": "0873277d",
   "metadata": {},
   "source": [
    "### Arrays are not lists"
   ]
  },
  {
   "cell_type": "markdown",
   "id": "4617ad84",
   "metadata": {},
   "source": [
    "Question: why do the following examples produce different results?"
   ]
  },
  {
   "cell_type": "code",
   "execution_count": null,
   "id": "f1fa0767",
   "metadata": {},
   "outputs": [],
   "source": [
    "print(lst_2d[0:2][1])\n",
    "print(arr_2d[0:2, 1])"
   ]
  },
  {
   "cell_type": "markdown",
   "id": "e9312a95",
   "metadata": {},
   "source": [
    "The result we just received points to an important piece of learning, which is that in most cases NumPy arrays behave very differently to Python lists. Let's explore the differences (and some similarities) between the two."
   ]
  },
  {
   "cell_type": "markdown",
   "id": "9dc94a99",
   "metadata": {},
   "source": [
    "#### dtype\n",
    "\n",
    "A NumPy array has a fixed data type, called `dtype`.  This is the type of all the elements of the array.  \n",
    "\n",
    "This is in contrast to Python lists, which can hold elements of different types.\n",
    "\n",
    "#### Exercise\n",
    "\n",
    "* What happens in Python when you add an integer to a float?\n",
    "* What happens when you put an integer into a NumPy float array?\n",
    "* What happens when you do numerical calculations between arrays of different types?\n"
   ]
  },
  {
   "cell_type": "code",
   "execution_count": null,
   "id": "e01173de",
   "metadata": {},
   "outputs": [],
   "source": []
  },
  {
   "cell_type": "markdown",
   "id": "861858c1",
   "metadata": {},
   "source": [
    "### Generating 2D coordinate arrays\n",
    "\n",
    "A common requirement of NumPy arrays is to generate arrays that represent the coordinates of our data.\n",
    "\n",
    "When orthogonal 1d coordinate arrays already exist, NumPy's meshgrid function is very useful:"
   ]
  },
  {
   "cell_type": "code",
   "execution_count": null,
   "id": "368e49ae",
   "metadata": {},
   "outputs": [],
   "source": [
    "x = np.linspace(0, 9, 3)\n",
    "y = np.linspace(4, 8, 3)\n",
    "x2d, y2d = np.meshgrid(x, y)\n",
    "print(x2d)\n",
    "print(y2d)"
   ]
  },
  {
   "cell_type": "markdown",
   "id": "0d87e1b8",
   "metadata": {},
   "source": [
    "#### The Array Object: Summary of key  points\n",
    " * properties : `shape`, `dtype`.\n",
    " * arrays are homogeneous; all elements have the same type: `dtype`.\n",
    " * indexing arrays to produce further arrays: views on the original arrays.\n",
    " * multi-dimensional indexing (slicing) and boolean indexing.\n",
    " * combinations to form 2D arrays: `meshgrid`\n",
    " "
   ]
  }
 ],
 "metadata": {
  "kernelspec": {
   "display_name": "Python 3 (ipykernel)",
   "language": "python",
   "name": "python3"
  },
  "language_info": {
   "codemirror_mode": {
    "name": "ipython",
    "version": 3
   },
   "file_extension": ".py",
   "mimetype": "text/x-python",
   "name": "python",
   "nbconvert_exporter": "python",
   "pygments_lexer": "ipython3",
   "version": "3.9.16"
  }
 },
 "nbformat": 4,
 "nbformat_minor": 5
}
