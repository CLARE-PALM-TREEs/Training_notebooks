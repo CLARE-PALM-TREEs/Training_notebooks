{
 "cells": [
  {
   "cell_type": "markdown",
   "id": "55b4db65",
   "metadata": {},
   "source": [
    "## Getting Started with NumPy <a class=\"anchor\" id=\"getting-started\"></a>\n",
    "\n",
    "**Learning outcome:** by the end of this section, you will be able to define what an array is, understand the difference between 1-, 2- and n-dimensional arrays in NumPy and how to create one using the NumPy library.\n",
    "\n",
    "### What is an array?\n",
    "An array can be thought of as a store of boxes that each holds a single item of data. The boxes can be stacked in multiple dimensions and can range from a single box, a single row of boxes, a single column of boxes, a wall of boxes, to a grid of boxes. An array is a single variable with a single name but each of the boxes within it can be accessed individually or in combination through indexing. The image below shows arrays of varying dimensions, note that there is no limit to the number of dimensions an array can hold, but it becomes impossible to draw them!\n",
    "\n",
    "<img src=\"images/Arrays.png\" width=\"600\" height=\"400\" align=\"center\">\n",
    "\n",
    "### Indexing an array\n",
    "Using the example arrays in the image above, let's assume that we want to access the array box element containing the number 23. First, we need to import the NumPy library."
   ]
  },
  {
   "cell_type": "code",
   "execution_count": null,
   "id": "933c28b0",
   "metadata": {},
   "outputs": [],
   "source": [
    "# NumPy is generally imported as 'np'.\n",
    "import numpy as np"
   ]
  },
  {
   "cell_type": "markdown",
   "id": "3864c2e2",
   "metadata": {},
   "source": [
    "In its simplest form as a 0-dimensional array we would access the box element containing the number 23 directly. To create this array in Python we use the NumPy function \"array\" and pass in 23 as the argument."
   ]
  },
  {
   "cell_type": "code",
   "execution_count": null,
   "id": "2c890b85",
   "metadata": {},
   "outputs": [],
   "source": [
    "a = np.array(23)\n",
    "print(a)"
   ]
  },
  {
   "cell_type": "markdown",
   "id": "b5dd947f",
   "metadata": {},
   "source": [
    "As a 1-dimensional array we would access the box element containing the number 23 via the index value 0 (in Python, indices begin at 0). To create this array in Python we again use the NumPy function \"array\" but this time we add the element as a list and we index the array by using square brackets `[]`"
   ]
  },
  {
   "cell_type": "code",
   "execution_count": null,
   "id": "5ccc0ecc",
   "metadata": {},
   "outputs": [],
   "source": [
    "a = np.array([23])\n",
    "print(a[0])"
   ]
  },
  {
   "cell_type": "markdown",
   "id": "93e3b972",
   "metadata": {},
   "source": [
    "To replicate the full example from the image we can add the other array elements by adding them to the list. Accessing the element 23 is done in exactly the same way as before, with the index 0. "
   ]
  },
  {
   "cell_type": "code",
   "execution_count": null,
   "id": "8c23bbae",
   "metadata": {},
   "outputs": [],
   "source": [
    "a = np.array([23, 3, 58])\n",
    "print(a[0])\n",
    "\n",
    "# To access the element containing the number 3 we use the index value 1.\n",
    "\n",
    "print(a[1])\n",
    "\n",
    "# To access the element containing the number 58 we use the index value 2.\n",
    "\n",
    "print(a[2])"
   ]
  },
  {
   "cell_type": "markdown",
   "id": "ba0038b3",
   "metadata": {},
   "source": [
    "As a 2-dimensional array we would access the box element containing the number 23 via the index value 0 in the first dimension and 0 in the second dimension. To create this array in Python we again use the NumPy function \"array\" but this time we add the element as a list of lists."
   ]
  },
  {
   "cell_type": "code",
   "execution_count": null,
   "id": "1d00fa8b",
   "metadata": {},
   "outputs": [],
   "source": [
    "a = np.array([[23, 3, 58], [74,8,54]])\n",
    "print(a)\n",
    "print(a[0,0])\n",
    "\n",
    "# To access the element containing the number 58 we use the index value 0 in the first dimension and 2 in \n",
    "# the second dimension because it is the third element in the first list \n",
    "# (remember we subtract 1 because the index starts at 0).\n",
    "\n",
    "print(a[0,2])\n",
    "\n",
    "# To access the element containing the number 8 we use the index value 1 in the first dimension and 1 in \n",
    "# the second dimension because it is the second element in the second list \n",
    "# (remember we subtract 1 because the index starts at 0).\n",
    "\n",
    "print(a[1,1])"
   ]
  },
  {
   "cell_type": "markdown",
   "id": "8c83c988",
   "metadata": {},
   "source": [
    "As a 3-dimensional array we would access the box element containing the number 23 via the index value 0 in the first dimension, 0 in the second dimension and 0 in the third dimension. To create this array in Python we again use the NumPy function \"array\" but this time we add the element as a list of lists of lists."
   ]
  },
  {
   "cell_type": "code",
   "execution_count": null,
   "id": "577d6860",
   "metadata": {},
   "outputs": [],
   "source": [
    "a = np.array([[[23, 3, 58], [74, 8, 54], [12, 2, 14]]])\n",
    "print(a)\n",
    "print(a[0,0,0])\n",
    "\n",
    "# To access the element containing the number 58 this time we use the index values 0, 0 and 2\n",
    "# because it is the third element in the first list of the first list.\n",
    "\n",
    "print(a[0,0,2])\n",
    "\n",
    "# To access the element containing the number 8 this time we use the index values 1, 1 and 1\n",
    "# because it is the second element in the second list of the first list.\n",
    "\n",
    "print(a[0,1,1])"
   ]
  },
  {
   "cell_type": "markdown",
   "id": "8e8c253a",
   "metadata": {},
   "source": [
    "### Documentation\n",
    "Here is a link to the NumPy documentation for v1.25:\n",
    "https://numpy.org/doc/stable/user/index.html#user\n",
    "\n",
    "There are many online forums with tips and suggestions for solving problems with NumPy, such as http://stackoverflow.com/"
   ]
  },
  {
   "cell_type": "markdown",
   "id": "c3793e6a",
   "metadata": {},
   "source": [
    "### Creating arrays\n",
    "\n",
    "In the examples above, you have used one method to create an array, but NumPy provides many different ways to create arrays. The NumPy function `zeros` creates an array full of the value 0, the function `ones` creates an array full of the value 1, the function `empty` creates an array full of random numbers. By default the type assigned to these arrays is `float64`, but this can be altered using the argument `dtype`, e.g. including `dtype=np.int16` will assign the elements of the array to integers.\n",
    "\n",
    "To create an array using a sequence of numbers, use the NumPy function `arange` with at least two arguments: the `start` value and the `end value`:"
   ]
  },
  {
   "cell_type": "code",
   "execution_count": null,
   "id": "aa558b29",
   "metadata": {},
   "outputs": [],
   "source": [
    "# To create an array from 1-10:\n",
    "a = np.arange(1,11)\n",
    "print(a)\n",
    "\n",
    "# Note that the function is exclusive so you need to add one to the end value\n",
    "\n",
    "a = np.arange(1,11, dtype=float)\n",
    "print(a)"
   ]
  },
  {
   "cell_type": "markdown",
   "id": "e14bd60d",
   "metadata": {},
   "source": [
    "The third argument for the arange function is the `step` value."
   ]
  },
  {
   "cell_type": "code",
   "execution_count": null,
   "id": "5dc49e1a",
   "metadata": {},
   "outputs": [],
   "source": [
    "# To create an array from 1-10 but with a spacing of 2:\n",
    "a = np.arange(1,11,2)\n",
    "print(a)\n",
    "\n",
    "# To create an array from 1-10 but with a spacing of 0.2:\n",
    "a = np.arange(1,10.2,0.2)\n",
    "print(a)\n",
    "\n",
    "# Remember that the stop value is exclusive, so we need to add the step value to get to 10."
   ]
  },
  {
   "cell_type": "markdown",
   "id": "2ce6aafb",
   "metadata": {},
   "source": [
    "Another way to create arrays is to use the function `linspace` where instead of the third argument being the step value it is the `num` of evenly spaced elements to create. Note that with linspace, the stop value is inclusive."
   ]
  },
  {
   "cell_type": "code",
   "execution_count": null,
   "id": "d38bd36a",
   "metadata": {},
   "outputs": [],
   "source": [
    "a = np.linspace(1,10,10)\n",
    "print(a)\n",
    "\n",
    "a = np.linspace(1.,10.,25)\n",
    "print(a)"
   ]
  },
  {
   "cell_type": "markdown",
   "id": "9f1cdece",
   "metadata": {},
   "source": [
    "#### Exercise\n",
    "\n",
    "##### Part 1\n",
    "\n",
    "Try out some of these ways of creating NumPy arrays. See if you can produce:\n",
    "\n",
    "* a NumPy array from a list of numbers"
   ]
  },
  {
   "cell_type": "code",
   "execution_count": null,
   "id": "e4f0062f",
   "metadata": {},
   "outputs": [],
   "source": []
  },
  {
   "cell_type": "markdown",
   "id": "265ebc76",
   "metadata": {},
   "source": [
    "* a 3-dimensional NumPy array filled with a constant value -- either `0` or `1`,"
   ]
  },
  {
   "cell_type": "code",
   "execution_count": null,
   "id": "2e52df34",
   "metadata": {},
   "outputs": [],
   "source": []
  },
  {
   "cell_type": "markdown",
   "id": "7460b398",
   "metadata": {},
   "source": [
    "* a NumPy array filled with a constant value -- **not** `0` or `1`. \n",
    "\n",
    "(**Hint:** this can be achieved using the last array you created, or you could use `np.empty` and find a way of filling the array with a constant value),"
   ]
  },
  {
   "cell_type": "code",
   "execution_count": null,
   "id": "7d5d882f",
   "metadata": {},
   "outputs": [],
   "source": []
  },
  {
   "cell_type": "markdown",
   "id": "50106eb3",
   "metadata": {},
   "source": [
    "* a NumPy array of 8 elements with a range of values starting from `0` and a spacing of `3` between each element"
   ]
  },
  {
   "cell_type": "code",
   "execution_count": null,
   "id": "2bd50870",
   "metadata": {},
   "outputs": [],
   "source": []
  },
  {
   "cell_type": "markdown",
   "id": "ced60181",
   "metadata": {},
   "source": [
    "* a NumPy array of 10 elements that are logarithmically spaced."
   ]
  },
  {
   "cell_type": "markdown",
   "id": "90350612",
   "metadata": {},
   "source": [
    "##### Part 2\n",
    "\n",
    "How could you change the shape of the 8-element array you created previously to have shape `(2, 2, 2)`? **Hint:** this can be done without creating a new array."
   ]
  },
  {
   "cell_type": "code",
   "execution_count": null,
   "id": "d8134532",
   "metadata": {},
   "outputs": [],
   "source": []
  }
 ],
 "metadata": {
  "kernelspec": {
   "display_name": "Python 3 (ipykernel)",
   "language": "python",
   "name": "python3"
  },
  "language_info": {
   "codemirror_mode": {
    "name": "ipython",
    "version": 3
   },
   "file_extension": ".py",
   "mimetype": "text/x-python",
   "name": "python",
   "nbconvert_exporter": "python",
   "pygments_lexer": "ipython3",
   "version": "3.9.16"
  }
 },
 "nbformat": 4,
 "nbformat_minor": 5
}
