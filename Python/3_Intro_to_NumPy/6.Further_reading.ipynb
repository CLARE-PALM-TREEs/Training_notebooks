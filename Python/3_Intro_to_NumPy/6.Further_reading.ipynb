{
 "cells": [
  {
   "cell_type": "markdown",
   "id": "440ed2db",
   "metadata": {},
   "source": [
    "## Further Reading <a class=\"anchor\" id=\"further_reading\"></a>\n",
    "\n",
    "Here are a selection of topics we chose not to include in this workshop, or only touched upon briefly.  You may come across some of them or find these links and terms useful in the future.\n",
    "\n",
    "### Concepts:\n",
    "\n",
    "  * [NaN](https://docs.scipy.org/doc/numpy/user/misc.html)s and NaN functions\n",
    "  * [Random number arrays](https://docs.scipy.org/doc/numpy-1.11.0/reference/routines.random.html)\n",
    "  * matrix multiplication (for example using [dot](https://docs.scipy.org/doc/numpy/reference/generated/numpy.dot.html))\n",
    "  * C and Fortran storage order -- see \"C order\" and \"Fortran order\" in [the glossary](https://docs.scipy.org/doc/numpy/glossary.html)\n",
    "  * [file I/O](https://docs.scipy.org/doc/numpy/reference/routines.io.html)\n",
    "  * [Universal Functions (ufunc)](https://docs.scipy.org/doc/numpy/reference/ufuncs.html)\n",
    "  * [indexing with arrays of indices](https://docs.scipy.org/doc/numpy/user/basics.indexing.html#index-arrays)\n",
    "\n",
    "### Functions:\n",
    "\n",
    "  * [empty](https://docs.scipy.org/doc/numpy/reference/generated/numpy.empty.html)\n",
    "  * [stack](https://docs.scipy.org/doc/numpy/reference/generated/numpy.stack.html), [concatenate](https://docs.scipy.org/doc/numpy/reference/generated/numpy.concatenate.html#numpy.concatenate) and [split](https://docs.scipy.org/doc/numpy/reference/generated/numpy.split.html#numpy.split)\n",
    "  * [transpose](https://docs.scipy.org/doc/numpy/reference/generated/numpy.transpose.html) ([`array.T`](https://docs.scipy.org/doc/numpy/reference/generated/numpy.ndarray.T.html#numpy.ndarray.T))\n",
    "  * [roll](https://docs.scipy.org/doc/numpy/reference/generated/numpy.roll.html) and [rollaxis](https://docs.scipy.org/doc/numpy/reference/generated/numpy.rollaxis.html#numpy.rollaxis)"
   ]
  }
 ],
 "metadata": {
  "kernelspec": {
   "display_name": "Python 3 (ipykernel)",
   "language": "python",
   "name": "python3"
  },
  "language_info": {
   "codemirror_mode": {
    "name": "ipython",
    "version": 3
   },
   "file_extension": ".py",
   "mimetype": "text/x-python",
   "name": "python",
   "nbconvert_exporter": "python",
   "pygments_lexer": "ipython3",
   "version": "3.9.16"
  }
 },
 "nbformat": 4,
 "nbformat_minor": 5
}
