{
 "cells": [
  {
   "cell_type": "markdown",
   "id": "ff38cb8a",
   "metadata": {},
   "source": [
    "<img src=\"images/Project_logos.png\" width=\"500\" height=\"300\" align=\"center\">"
   ]
  },
  {
   "cell_type": "markdown",
   "id": "4d8a861c",
   "metadata": {},
   "source": [
    "## Application: Statistics and Masked Arrays <a class=\"anchor\" id=\"statistics\"></a>\n",
    "\n",
    "**Learning outcome:** By the end of this section, you will be able to apply statistical operations and masked arrays to real-world problems."
   ]
  },
  {
   "cell_type": "markdown",
   "id": "a28793fa",
   "metadata": {},
   "source": [
    "### Statistics\n",
    "\n",
    "Numpy arrays support many common statistical calculations. For a list of common operations, see: https://docs.scipy.org/doc/numpy/reference/routines.statistics.html.\n",
    "\n",
    "The simplest operations consist of calculating a single statistical value from an array of numbers -- such as a mean value, a variance or a minimum.\n",
    "\n",
    "For example:"
   ]
  },
  {
   "cell_type": "code",
   "execution_count": null,
   "id": "a59e3e3f",
   "metadata": {},
   "outputs": [],
   "source": [
    "import numpy as np\n",
    "\n",
    "a = np.arange(12).reshape((3, 4))\n",
    "mean = np.mean(a)\n",
    "print(a)\n",
    "print(mean)"
   ]
  },
  {
   "cell_type": "markdown",
   "id": "bd510ec2",
   "metadata": {},
   "source": [
    "Used without any further arguments, statistical functions simply reduce the whole array to a single value.  In practice, however, we very often want to calculate statistics over only *some* of the dimensions. The most common requirement is to calculate a statistic along a single array dimension, while leaving all the other dimensions intact.   This is referred to as \"collapsing\" or \"reducing\" the chosen dimension.\n",
    "\n",
    "This is done by adding an \"axis\" keyword specifying the dimension to collapse:"
   ]
  },
  {
   "cell_type": "code",
   "execution_count": null,
   "id": "03c05121",
   "metadata": {},
   "outputs": [],
   "source": [
    "print(np.mean(a, axis=1))"
   ]
  },
  {
   "cell_type": "markdown",
   "id": "453dbb10",
   "metadata": {},
   "source": [
    "#### Exercise \n",
    "\n",
    "* What other similar statistical operations exist (see above link)?\n",
    "* A mean value can also be calculated with `<array>.mean()`.  Is that the same thing?\n",
    "* Create a 3D array (that could be considered to describe `[time, x, y]`) and find the mean over all `x` and `y` at each timestep.\n",
    "* What shape does the result have?"
   ]
  },
  {
   "cell_type": "code",
   "execution_count": null,
   "id": "1f507768",
   "metadata": {},
   "outputs": [],
   "source": []
  },
  {
   "cell_type": "markdown",
   "id": "141a892e",
   "metadata": {},
   "source": [
    "### Masked Arrays\n",
    "\n",
    "Real-world measurements processes often result in certain datapoint values being uncertain or simply \"missing\".  This is usually indicated by additional data quality information, stored alongside the data values.\n",
    "\n",
    "In these cases we often need to make calculations that count only the valid datapoints.  NumPy provides a special \"masked array\" type for this type of calculation. Here's a link to the documentation for NumPy masked arrays: https://docs.scipy.org/doc/numpy-1.11.0/reference/maskedarray.generic.html#maskedarray-generic-constructing.\n",
    "\n",
    "To construct a masked array we need some data and a mask. The data can be any kind of NumPy array, but the mask array must contain a boolean-type values only (either `True` and `False` or `1` and `0`). Let's make each of these and convert them together into a NumPy masked array:"
   ]
  },
  {
   "cell_type": "code",
   "execution_count": null,
   "id": "60e896ff",
   "metadata": {},
   "outputs": [],
   "source": [
    "data = np.arange(4)\n",
    "mask = np.array([0, 0, 1, 0])\n",
    "print('Data: {}'.format(data))\n",
    "print('Mask: {}'.format(mask))\n",
    "masked_data = np.ma.masked_array(data, mask)\n",
    "print('Masked data: {}'.format(masked_data))"
   ]
  },
  {
   "cell_type": "markdown",
   "id": "0e3f9e06",
   "metadata": {},
   "source": [
    "The mask is applied where the values in the mask array are **`True`**. Masked arrays are printed with a double-dash `--` denoting the locations in the array where the mask has been applied.\n",
    "\n",
    "The statistics of masked data are different:"
   ]
  },
  {
   "cell_type": "code",
   "execution_count": null,
   "id": "1ef84bff",
   "metadata": {},
   "outputs": [],
   "source": [
    "print('Unmasked average: {}'.format(np.mean(data)))\n",
    "print('Masked average: {}'.format(np.ma.mean(masked_data)))"
   ]
  },
  {
   "cell_type": "markdown",
   "id": "3b2c244b",
   "metadata": {},
   "source": [
    "Note that most file formats represent missing data in a _different_ way, using a distinct \"missing data\" value appearing in the data. There is special support for converting between this type of representation and NumPy masked arrays. Every masked array has a `fill_value` property and a `filled()` method to fill the masked points with the fill value."
   ]
  },
  {
   "cell_type": "markdown",
   "id": "f805be6c",
   "metadata": {},
   "source": [
    "#### Exercise\n",
    "\n",
    "  * Create a masked array from the numbers 0-11, where all the values less than 5 are masked.\n",
    "  * Create a masked array of positive values, with a value of `-1.0` to represent missing points.\n",
    "  * Look up the masked array creation documentation. What routines exist to produce masked arrays like the ones you've just created more efficiently?\n",
    "  * Use `np.ma.filled()` to create a 'plain' (i.e. unmasked) array from a masked array.\n",
    "  * How can you create a plain array from a masked array, but using a _different_ fill-value for masked points?\n",
    "  * Try performing a mathematical operation between two masked arrays. What happens to the 'fill_value' properties when you do so?"
   ]
  },
  {
   "cell_type": "code",
   "execution_count": null,
   "id": "95f546ec",
   "metadata": {},
   "outputs": [],
   "source": []
  },
  {
   "cell_type": "markdown",
   "id": "9c97a107",
   "metadata": {},
   "source": [
    "#### Statistics and Masked Arrays: Summary of key points\n",
    " * most statistical functions are available in two different forms, as in `array.mean()` and also `np.mean(array)`,\n",
    "   the choice being mostly a question of style.\n",
    " * statistical operations operate over, and remove (or \"collapse\") the array dimensions that they are applied to.\n",
    " * an \"axis\" keyword specifies operation over dimensions : this can be one; multiple; or all.\n",
    "   * NOTE: not all operations permit operation over specifically selected dimensions\n",
    " * Statistical operations are not really part of NumPy itself, but are defined by the higher-level Scipy project.\n",
    " * Missing datapoints can be represented using \"masked arrays\"\n",
    "   * these are useful for calculation, but usually require converting to another form for data storage\n"
   ]
  }
 ],
 "metadata": {
  "kernelspec": {
   "display_name": "Python 3 + Jaspy",
   "language": "python",
   "name": "jaspy"
  },
  "language_info": {
   "codemirror_mode": {
    "name": "ipython",
    "version": 3
   },
   "file_extension": ".py",
   "mimetype": "text/x-python",
   "name": "python",
   "nbconvert_exporter": "python",
   "pygments_lexer": "ipython3",
   "version": "3.10.5"
  }
 },
 "nbformat": 4,
 "nbformat_minor": 5
}
