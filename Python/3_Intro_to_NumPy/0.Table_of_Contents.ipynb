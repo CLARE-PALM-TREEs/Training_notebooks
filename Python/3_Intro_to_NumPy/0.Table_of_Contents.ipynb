{
 "cells": [
  {
   "cell_type": "markdown",
   "id": "3f07c134",
   "metadata": {},
   "source": [
    "<img src=\"images/MO_MASTER_black_mono_for_light_backg_RBG.png\" width=\"500\" height=\"300\" align=\"center\">"
   ]
  },
  {
   "cell_type": "markdown",
   "id": "1a5ede78",
   "metadata": {},
   "source": [
    "## NumPy\n",
    "\n",
    "NumPy is a Python library containing tools for working with data arrays. "
   ]
  },
  {
   "cell_type": "markdown",
   "id": "c975a62f",
   "metadata": {},
   "source": [
    "## Aims\n",
    "\n",
    "This course will teach you how to use NumPy to:\n",
    "\n",
    "  - manipulate numerical arrays, and\n",
    "  - perform efficient array calculations."
   ]
  },
  {
   "cell_type": "markdown",
   "id": "c6079311",
   "metadata": {},
   "source": [
    "## Table of Contents\n",
    "\n",
    "* [Getting Started with NumPy](1.Getting_started.ipynb)\n",
    "* [The Array Object](2.Array_object.ipynb)\n",
    "* [Application: Arithmetic and Broadcasting](3.Arithmetic_and_broadcasting.ipynb)\n",
    "* [Application: Statistics and Masked Arrays](4.Statistics.ipynb)\n",
    "* [Application: Efficiency](5.Efficiency.ipynb)\n",
    "* [Further Reading](6.Further_reading.ipynb)"
   ]
  }
 ],
 "metadata": {
  "kernelspec": {
   "display_name": "Python 3 (ipykernel)",
   "language": "python",
   "name": "python3"
  },
  "language_info": {
   "codemirror_mode": {
    "name": "ipython",
    "version": 3
   },
   "file_extension": ".py",
   "mimetype": "text/x-python",
   "name": "python",
   "nbconvert_exporter": "python",
   "pygments_lexer": "ipython3",
   "version": "3.11.5"
  }
 },
 "nbformat": 4,
 "nbformat_minor": 5
}
