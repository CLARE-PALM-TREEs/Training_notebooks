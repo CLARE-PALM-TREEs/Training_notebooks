{
 "cells": [
  {
   "cell_type": "markdown",
   "metadata": {
    "internals": {
     "slide_type": "subslide"
    },
    "slideshow": {
     "slide_type": "slide"
    }
   },
   "source": [
    "<img src=\"images/MO_MASTER_black_mono_for_light_backg_RBG.png\" width=\"500\" height=\"300\" align=\"center\">"
   ]
  },
  {
   "cell_type": "markdown",
   "metadata": {},
   "source": [
    "## Getting Started\n",
    "\n",
    "To check if you have Python installed run the following command: "
   ]
  },
  {
   "cell_type": "code",
   "execution_count": null,
   "metadata": {},
   "outputs": [],
   "source": [
    "print(\"Hello, World!\")"
   ]
  },
  {
   "cell_type": "markdown",
   "metadata": {},
   "source": [
    "## Running a Python script\n",
    "\n",
    "Python script filename endings are `.py`\n",
    "\n",
    "To run a Python script, simply type `python example_script.py`\n",
    "\n",
    "An example of the general structure of a Python script:"
   ]
  },
  {
   "cell_type": "code",
   "execution_count": null,
   "metadata": {},
   "outputs": [],
   "source": [
    "# Import Python packages and modules\n",
    "import numpy as np\n",
    "\n",
    "# Write functions\n",
    "def add_three_values(a, b, c):\n",
    "    value_sum = a + b + c\n",
    "    return value_sum\n",
    "\n",
    "# Indicate that the next section is the main part of the script\n",
    "if __name__ == \"__main__\":\n",
    "    \n",
    "    # Main part of the script\n",
    "    number_sum = add_three_values(5, 6, 3)\n",
    "    print(number_sum)\n",
    "    "
   ]
  },
  {
   "cell_type": "markdown",
   "metadata": {},
   "source": [
    "## Python on the command line\n",
    "\n",
    "Python can also be used on the command line by invoking Python and then typing Python commands.\n",
    "\n",
    "- `python`\n",
    "- `print('Hello World')`\n",
    "\n",
    "To end the Python session, type:\n",
    "\n",
    "- `exit()`"
   ]
  },
  {
   "cell_type": "markdown",
   "metadata": {},
   "source": [
    "## Python in Jupyter notebooks\n",
    "\n",
    "Jupyter notebooks are a web application for interactive programming with computational notebooks. Further information can be found at https://jupyter-notebook.readthedocs.io/en/latest/notebook.html.\n",
    "\n",
    "Jupyter notebooks allow code to be embedded, and the programming language can be set in the kernel. The default kernel is for Python code."
   ]
  },
  {
   "cell_type": "markdown",
   "metadata": {},
   "source": [
    "## Key points\n",
    "\n",
    "- Python uses new lines to complete commands\n",
    "- Python relies on indentation"
   ]
  },
  {
   "cell_type": "markdown",
   "metadata": {},
   "source": [
    "## Indentation\n",
    "\n",
    "Indentation is needed in Python to identify blocks of code. Indenting is done by including spaces at the start of lines. The number of spaces doesn't matter, as long as you are consistent - 4 is a fairly typical number of spaces to use."
   ]
  },
  {
   "cell_type": "markdown",
   "metadata": {},
   "source": [
    "## Print statements\n",
    "\n",
    "You can print variables or values using `print()`."
   ]
  },
  {
   "cell_type": "code",
   "execution_count": null,
   "metadata": {},
   "outputs": [],
   "source": [
    "print(4)"
   ]
  },
  {
   "cell_type": "code",
   "execution_count": null,
   "metadata": {},
   "outputs": [],
   "source": [
    "x = 4\n",
    "print(x)"
   ]
  },
  {
   "cell_type": "markdown",
   "metadata": {},
   "source": [
    "## Creating variables\n",
    "\n",
    "A variable is created by assigning a value to it."
   ]
  },
  {
   "cell_type": "code",
   "execution_count": null,
   "metadata": {},
   "outputs": [],
   "source": [
    "x = 8 # creating the variable x\n",
    "y = 2 # creating the variable y\n",
    "\n",
    "z = x + y # creating the variable z"
   ]
  },
  {
   "cell_type": "markdown",
   "metadata": {},
   "source": [
    "There are a few rules for variable names:\n",
    "- has to begin with a letter or underscore\n",
    "- can only contain alpha-numeric characters and underscores\n",
    "- you cannot use a Python keyword as a variable name (https://docs.python.org/3/reference/lexical_analysis.html#keywords)\n",
    "\n",
    "and tips:\n",
    "- variable names are case sensitive (X and x would be different variables)\n",
    "- camel case is useful for making long variable names more readable (e.g. winterStationTemp)\n"
   ]
  },
  {
   "cell_type": "markdown",
   "metadata": {},
   "source": [
    "## Adding comments to code\n",
    "\n",
    "It is good practice to include comments as a form of in-code documentation (both for yourself and others). Comments are indicated by using `#` at the start of a comment. Text on a line following `#` will be ignored when the code is run. Comments can use a whole line themself, or be added to the end of a line of code."
   ]
  },
  {
   "cell_type": "code",
   "execution_count": null,
   "metadata": {},
   "outputs": [],
   "source": [
    "# This is a comment to remind you that the next line of code prints \"Hello, world\".\n",
    "print('Hello, world.') # code prints \"Hello, world.\""
   ]
  },
  {
   "cell_type": "markdown",
   "metadata": {},
   "source": [
    "For comments that extend over multiple lines, `#` can be used at the start of each line of the comment, or triple quote marks can indicate the start and end of a comment."
   ]
  },
  {
   "cell_type": "code",
   "execution_count": null,
   "metadata": {},
   "outputs": [],
   "source": [
    "\"\"\"\n",
    "I am learning how to comment\n",
    "my code on multiple lines\n",
    "\"\"\"\n",
    "\n",
    "print('We can use # or triple quotes for comments on multiple lines.')"
   ]
  },
  {
   "cell_type": "markdown",
   "metadata": {},
   "source": [
    "## Python modules\n",
    "\n",
    "Python code can be shared between scripts by importing code from modules and packages (collections of modules). Modules contain Python functions to perform specific tasks.\n",
    "\n",
    "Some commonly used Python packages include:\n",
    "- numpy\n",
    "- matplotlib\n",
    "- pandas\n",
    "\n",
    "Iris is a Python package developed for analysing and visualising Earth science data.\n",
    "\n",
    "The wider set of training notebooks has sections on these packages."
   ]
  }
 ],
 "metadata": {
  "kernelspec": {
   "display_name": "Python 3 + Jaspy",
   "language": "python",
   "name": "jaspy"
  },
  "language_info": {
   "codemirror_mode": {
    "name": "ipython",
    "version": 3
   },
   "file_extension": ".py",
   "mimetype": "text/x-python",
   "name": "python",
   "nbconvert_exporter": "python",
   "pygments_lexer": "ipython3",
   "version": "3.10.5"
  }
 },
 "nbformat": 4,
 "nbformat_minor": 4
}
