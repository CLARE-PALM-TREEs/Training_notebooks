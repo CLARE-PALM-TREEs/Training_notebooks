{
 "cells": [
  {
   "cell_type": "markdown",
   "id": "c576f574",
   "metadata": {},
   "source": [
    "<img src=\"images/MO_MASTER_black_mono_for_light_backg_RBG.png\" width=\"500\" height=\"300\" align=\"center\">"
   ]
  },
  {
   "cell_type": "markdown",
   "id": "33028f09",
   "metadata": {},
   "source": [
    "# If statements, while and for loops\n",
    "\n",
    "## If statements\n",
    "\n",
    "If statements are used to identify different segments of code to run depending on a condition.\n",
    "\n",
    "We can tell the code to run a segment of code if the condition is True using `if`.\n",
    "\n",
    "Remember to use indentation!"
   ]
  },
  {
   "cell_type": "code",
   "execution_count": null,
   "id": "070e433e",
   "metadata": {},
   "outputs": [],
   "source": [
    "x = 285\n",
    "units = 'Kelvin'\n",
    "\n",
    "if units == 'Kelvin':\n",
    "    x -= 273.15\n",
    "    print('x is now in degrees Celsius')"
   ]
  },
  {
   "cell_type": "markdown",
   "id": "1a14ec94",
   "metadata": {},
   "source": [
    "We can tell the code to run a segment of code if the condition is True, and a different segment of code if it is False using `if` and `else`."
   ]
  },
  {
   "cell_type": "code",
   "execution_count": null,
   "id": "1da87c97",
   "metadata": {},
   "outputs": [],
   "source": [
    "phoneNumbers = {\n",
    "    'Laura': 495632,\n",
    "    'Richard': 864254,\n",
    "    'Grace': 294571\n",
    "}\n",
    "\n",
    "if 'Grace' in phoneNumbers.keys():\n",
    "    print(\"We have Grace's phone number.\")\n",
    "else:\n",
    "    print(\"We do not have Grace's phone number.\")"
   ]
  },
  {
   "cell_type": "markdown",
   "id": "4587a5ab",
   "metadata": {},
   "source": [
    "We can tell the code to run a segment of code if condition 1 is True, then if condition 1 is False and condition 2 is True, we can tell it to run an alternative segment of code, and if condition 2 is also False, we can tell it to run another different segment of code. We do this using `if`, `elif` and `else`."
   ]
  },
  {
   "cell_type": "code",
   "execution_count": null,
   "id": "03c959ba",
   "metadata": {},
   "outputs": [],
   "source": [
    "bagA = ['apple', 'banana', 'orange']\n",
    "\n",
    "if len(bagA) > 3:\n",
    "    print('The bag is too full')\n",
    "elif len(bagA) == 3:\n",
    "    print('The bag is full')\n",
    "else:\n",
    "    print('The bag is not full')"
   ]
  },
  {
   "cell_type": "markdown",
   "id": "840eb8f5",
   "metadata": {},
   "source": [
    "We can use `pass` when we have no action to take within an if statement."
   ]
  },
  {
   "cell_type": "code",
   "execution_count": null,
   "id": "2be027eb",
   "metadata": {},
   "outputs": [],
   "source": [
    "x = 285\n",
    "units = 'Celsius'\n",
    "\n",
    "if units == 'Kelvin':\n",
    "    x -= 273.15\n",
    "    print('x is now in degrees Celsius')\n",
    "elif units == 'Celsius':\n",
    "    pass\n",
    "else:\n",
    "    print('The units are not Kelvin or Celsius')"
   ]
  },
  {
   "cell_type": "markdown",
   "id": "9c941da2",
   "metadata": {},
   "source": [
    "An error will be raised if an if statement is empty."
   ]
  },
  {
   "cell_type": "code",
   "execution_count": null,
   "id": "f4e1e4f7",
   "metadata": {},
   "outputs": [],
   "source": [
    "x = 285\n",
    "units = 'Celsius'\n",
    "\n",
    "if units == 'Kelvin':\n",
    "    x -= 273.15\n",
    "    print('x is now in degrees Celsius')\n",
    "elif units == 'Celsius':\n",
    "    pass\n",
    "else:\n",
    "    print('The units are not Kelvin or Celsius')"
   ]
  },
  {
   "cell_type": "markdown",
   "id": "07807dcf",
   "metadata": {},
   "source": [
    "## While loops\n",
    "\n",
    "While loops allow code to run as long as a condition remains true."
   ]
  },
  {
   "cell_type": "code",
   "execution_count": null,
   "id": "38995776",
   "metadata": {},
   "outputs": [],
   "source": [
    "x = 3\n",
    "\n",
    "while x < 10:\n",
    "    x += 2\n",
    "    print(x)"
   ]
  },
  {
   "cell_type": "markdown",
   "id": "8694cf53",
   "metadata": {},
   "source": [
    "`break` can be used to exit loops even while the condition is true."
   ]
  },
  {
   "cell_type": "code",
   "execution_count": null,
   "id": "626484ea",
   "metadata": {},
   "outputs": [],
   "source": [
    "x = 3\n",
    "\n",
    "while x < 10:\n",
    "    x += 2\n",
    "    if x / 3 > 3:\n",
    "        break\n",
    "    print(x)"
   ]
  },
  {
   "cell_type": "markdown",
   "id": "584fad5b",
   "metadata": {},
   "source": [
    "`continue` can be used to skip to the next iteration of the loop."
   ]
  },
  {
   "cell_type": "code",
   "execution_count": null,
   "id": "20d90a19",
   "metadata": {},
   "outputs": [],
   "source": [
    "x = 3\n",
    "\n",
    "while x < 10:\n",
    "    x += 2\n",
    "    if x % 3 == 0:\n",
    "        continue\n",
    "    print(x)"
   ]
  },
  {
   "cell_type": "markdown",
   "id": "caff7de6",
   "metadata": {},
   "source": [
    "## For loops\n",
    "\n",
    "For loops allow us to iterate through a sequence. This can be a list, tuple, set, dictionary or string."
   ]
  },
  {
   "cell_type": "code",
   "execution_count": null,
   "id": "477d3119",
   "metadata": {},
   "outputs": [],
   "source": [
    "bagA = ['apple', 'banana', 'orange']\n",
    "\n",
    "for fruit in bagA:\n",
    "    print(fruit.upper())"
   ]
  },
  {
   "cell_type": "code",
   "execution_count": null,
   "id": "8a880c05",
   "metadata": {},
   "outputs": [],
   "source": [
    "numberTuple = (3, 5, 4, 6, 9)\n",
    "\n",
    "for num in numberTuple:\n",
    "    if num == 4:\n",
    "        print('We have reached 4!')\n",
    "    else:\n",
    "        print(num)"
   ]
  },
  {
   "cell_type": "code",
   "execution_count": null,
   "id": "bb6d9e53",
   "metadata": {},
   "outputs": [],
   "source": [
    "for letter in \"Hello\":\n",
    "    print(letter)"
   ]
  },
  {
   "cell_type": "markdown",
   "id": "3a2354d4",
   "metadata": {},
   "source": [
    "We can use a function called `range()` to loop through code a set number of times."
   ]
  },
  {
   "cell_type": "code",
   "execution_count": null,
   "id": "208c0033",
   "metadata": {},
   "outputs": [],
   "source": [
    "for x in range(3):\n",
    "    print(x)"
   ]
  }
 ],
 "metadata": {
  "kernelspec": {
   "display_name": "Python 3 + Jaspy",
   "language": "python",
   "name": "jaspy"
  },
  "language_info": {
   "codemirror_mode": {
    "name": "ipython",
    "version": 3
   },
   "file_extension": ".py",
   "mimetype": "text/x-python",
   "name": "python",
   "nbconvert_exporter": "python",
   "pygments_lexer": "ipython3",
   "version": "3.10.5"
  }
 },
 "nbformat": 4,
 "nbformat_minor": 5
}
