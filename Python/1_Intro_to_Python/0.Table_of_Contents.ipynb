{
 "cells": [
  {
   "cell_type": "markdown",
   "id": "7ca2eec7",
   "metadata": {},
   "source": [
    "<img src=\"images/MO_MASTER_black_mono_for_light_backg_RBG.png\" width=\"500\" height=\"300\" align=\"center\">"
   ]
  },
  {
   "cell_type": "markdown",
   "id": "4ad88b27",
   "metadata": {},
   "source": [
    "## Course Intro\n",
    "\n",
    "The aim of this course is to introduce Python and its main features and functionality, with a focus on how these relate to data analysis.\n",
    "\n",
    "This course is intended as a beginners course and assumes no prior knowledge.\n",
    "\n",
    "The course will cover:\n",
    "- 1. [The Basics](1.The_Basics.ipynb)\n",
    "- 2. [Data types](2.Data_types.ipynb)\n",
    "- 3. [Operations](3.Operations.ipynb)\n",
    "- 4. [If, Else and Looping](4.If_Else_Looping.ipynb)\n",
    "- 5. [Writing tidy, modular code](5.Writing_tidy_modular_code.ipynb)\n",
    "- 6. [Error handling](6.Error_handling.ipynb)\n"
   ]
  }
 ],
 "metadata": {
  "kernelspec": {
   "display_name": "Python 3 (ipykernel)",
   "language": "python",
   "name": "python3"
  },
  "language_info": {
   "codemirror_mode": {
    "name": "ipython",
    "version": 3
   },
   "file_extension": ".py",
   "mimetype": "text/x-python",
   "name": "python",
   "nbconvert_exporter": "python",
   "pygments_lexer": "ipython3",
   "version": "3.9.16"
  }
 },
 "nbformat": 4,
 "nbformat_minor": 5
}
