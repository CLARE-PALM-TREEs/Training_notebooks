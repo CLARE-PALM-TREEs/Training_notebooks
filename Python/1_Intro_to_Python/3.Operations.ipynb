{
 "cells": [
  {
   "cell_type": "markdown",
   "id": "f4f4102a",
   "metadata": {},
   "source": [
    "<img src=\"images/MO_MASTER_black_mono_for_light_backg_RBG.png\" width=\"500\" height=\"300\" align=\"center\">"
   ]
  },
  {
   "cell_type": "markdown",
   "id": "b3fcb015",
   "metadata": {},
   "source": [
    "# Operations\n",
    "\n",
    "Operators can be used to perform operations on variables and values.\n",
    "\n",
    "In Python, these are grouped into:\n",
    "- arithmetic - used for mathematical operations\n",
    "- assignment - used to assign values to variables\n",
    "- comparison - used to compare two values or variables\n",
    "- logical - used to check if a combination of conditional statements is True or False\n",
    "- identity - used to check if two items are the same object\n",
    "- membership - used to check if a value/sequence is in a variable/value\n",
    "- bitwise - used to compare numbers (in binary)\n",
    "\n",
    "More detail can be found below for how a range of these operators can be used."
   ]
  },
  {
   "cell_type": "markdown",
   "id": "1780c9e6",
   "metadata": {},
   "source": [
    "## Arithmetic Operators\n",
    "\n",
    "Arithmetic operators are used for mathematical operations."
   ]
  },
  {
   "cell_type": "code",
   "execution_count": null,
   "id": "d7f9d2e0",
   "metadata": {},
   "outputs": [],
   "source": [
    "x = 12.0\n",
    "y = 3.0\n",
    "\n",
    "print(x + y) # addition\n",
    "print(x - y) # subtraction\n",
    "print(x * y) # multiplication\n",
    "print(x / y) # division\n",
    "print(x % y) # modulus\n",
    "print(x ** y) # exponentiation, e.g. x to the power of y\n",
    "print((x + 2) // y) # floor division"
   ]
  },
  {
   "cell_type": "markdown",
   "id": "905852f0",
   "metadata": {},
   "source": [
    "## Assignment operators\n",
    "\n",
    "Assignment operators are used to assign a value to a variable. Equivalents to the arithmetic operators are available.\n",
    "\n",
    "They follow a pattern of `x = x + y` is the same as `x += y`, and `x = x * 2` is the same as `x *= 2`."
   ]
  },
  {
   "cell_type": "code",
   "execution_count": null,
   "id": "ae971f00",
   "metadata": {},
   "outputs": [],
   "source": [
    "x = 12.0\n",
    "y = 3.0\n",
    "\n",
    "x += y\n",
    "print(x)"
   ]
  },
  {
   "cell_type": "code",
   "execution_count": null,
   "id": "30546fb3",
   "metadata": {},
   "outputs": [],
   "source": [
    "x = 12.0\n",
    "y = 3.0\n",
    "\n",
    "x -= y\n",
    "print(x)"
   ]
  },
  {
   "cell_type": "markdown",
   "id": "9a538842",
   "metadata": {},
   "source": [
    "## Comparison operators\n",
    "\n",
    "Comparison operators are used to compare two values or variables. They return a boolean."
   ]
  },
  {
   "cell_type": "code",
   "execution_count": null,
   "id": "110064e1",
   "metadata": {},
   "outputs": [],
   "source": [
    "x = 12\n",
    "y = 3\n",
    "\n",
    "print(x == y) # check if x and y are equal"
   ]
  },
  {
   "cell_type": "code",
   "execution_count": null,
   "id": "02aa006e",
   "metadata": {},
   "outputs": [],
   "source": [
    "print(x != y) # check if x and y are unequal"
   ]
  },
  {
   "cell_type": "code",
   "execution_count": null,
   "id": "f41ce1ee",
   "metadata": {},
   "outputs": [],
   "source": [
    "print(x > y) # check if x is greater than y"
   ]
  },
  {
   "cell_type": "code",
   "execution_count": null,
   "id": "5f2ac38a",
   "metadata": {},
   "outputs": [],
   "source": [
    "print(x < y) # check if x is smaller than y"
   ]
  },
  {
   "cell_type": "code",
   "execution_count": null,
   "id": "e45062be",
   "metadata": {},
   "outputs": [],
   "source": [
    "print(x >= y) # check if x is greater than, or equal to, y"
   ]
  },
  {
   "cell_type": "code",
   "execution_count": null,
   "id": "07fcbb82",
   "metadata": {},
   "outputs": [],
   "source": [
    "print(x <= y) # check if x is smaller than, or equal to, y"
   ]
  },
  {
   "cell_type": "markdown",
   "id": "a7aad657",
   "metadata": {},
   "source": [
    "## Logical operators\n",
    "\n",
    "Logical operators are used to check if a combination of conditional statements is True or False."
   ]
  },
  {
   "cell_type": "code",
   "execution_count": null,
   "id": "74c3d17b",
   "metadata": {},
   "outputs": [],
   "source": [
    "x = 5\n",
    "y = 3\n",
    "\n",
    "print(x > 0)\n",
    "print(y < 10)\n",
    "\n",
    "print(x > 0 and y < 10) # check if BOTH x is greater than 0 and y is lower than 10"
   ]
  },
  {
   "cell_type": "code",
   "execution_count": null,
   "id": "9a38ab45",
   "metadata": {},
   "outputs": [],
   "source": [
    "print(x < 0)\n",
    "print(y < 10)\n",
    "\n",
    "print(x < 0 or y < 10) # check if EITHER x is smaller than 0 OR y is lower than 10"
   ]
  },
  {
   "cell_type": "markdown",
   "id": "c3833aaf",
   "metadata": {},
   "source": [
    "## Membership operators\n",
    "\n",
    "Membership operators are used to check if a value/sequence is in (or not in) a variable/value."
   ]
  },
  {
   "cell_type": "code",
   "execution_count": null,
   "id": "f4358d48",
   "metadata": {},
   "outputs": [],
   "source": [
    "myShoppingList = ['apples', 'bananas', 'milk', 'flour', 'beans']\n",
    "\n",
    "print('milk' in myShoppingList) # check if 'milk' is in the list"
   ]
  },
  {
   "cell_type": "code",
   "execution_count": null,
   "id": "044f7c03",
   "metadata": {},
   "outputs": [],
   "source": [
    "print('oil' in myShoppingList) # check if 'oil' is in the list"
   ]
  },
  {
   "cell_type": "code",
   "execution_count": null,
   "id": "b2af18d4",
   "metadata": {},
   "outputs": [],
   "source": [
    "print('rice' not in myShoppingList) # check if 'rice' is NOT in the list"
   ]
  }
 ],
 "metadata": {
  "kernelspec": {
   "display_name": "Python 3 + Jaspy",
   "language": "python",
   "name": "jaspy"
  },
  "language_info": {
   "codemirror_mode": {
    "name": "ipython",
    "version": 3
   },
   "file_extension": ".py",
   "mimetype": "text/x-python",
   "name": "python",
   "nbconvert_exporter": "python",
   "pygments_lexer": "ipython3",
   "version": "3.10.5"
  }
 },
 "nbformat": 4,
 "nbformat_minor": 5
}
