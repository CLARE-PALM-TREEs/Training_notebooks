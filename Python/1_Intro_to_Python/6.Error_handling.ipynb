{
 "cells": [
  {
   "cell_type": "markdown",
   "id": "186dd4d6",
   "metadata": {},
   "source": [
    "<img src=\"images/Project_logos.png\" width=\"500\" height=\"300\" align=\"center\">"
   ]
  },
  {
   "cell_type": "markdown",
   "id": "e2a34727",
   "metadata": {},
   "source": [
    "# Error handling\n",
    "\n",
    "When there is an error, Python normally stops and generates an error message describing the problem."
   ]
  },
  {
   "cell_type": "code",
   "execution_count": null,
   "id": "a621eda8",
   "metadata": {},
   "outputs": [],
   "source": [
    "print(2/0)\n",
    "print('The code is carrying on') # this line prints if code continues running after the previous code"
   ]
  },
  {
   "cell_type": "markdown",
   "id": "3bd67abd",
   "metadata": {},
   "source": [
    "We can handle this using `try` and `except`. `try` checks a section of code for errors/exceptions. `except` is used to handle the error - if there is an error in the `try` section of code, then the `except` section of code will be run. After the error has been handled, the script will continue running after the `except` section of code has been run."
   ]
  },
  {
   "cell_type": "code",
   "execution_count": null,
   "id": "8add1ecc",
   "metadata": {},
   "outputs": [],
   "source": [
    "try:\n",
    "    print(2/0)\n",
    "except ZeroDivisionError:\n",
    "    print(\"You cannot divide by zero!\")\n",
    "\n",
    "print('The code is carrying on') # this line prints if code continues running after the previous code"
   ]
  }
 ],
 "metadata": {
  "kernelspec": {
   "display_name": "Python 3 + Jaspy",
   "language": "python",
   "name": "jaspy"
  },
  "language_info": {
   "codemirror_mode": {
    "name": "ipython",
    "version": 3
   },
   "file_extension": ".py",
   "mimetype": "text/x-python",
   "name": "python",
   "nbconvert_exporter": "python",
   "pygments_lexer": "ipython3",
   "version": "3.10.5"
  }
 },
 "nbformat": 4,
 "nbformat_minor": 5
}
