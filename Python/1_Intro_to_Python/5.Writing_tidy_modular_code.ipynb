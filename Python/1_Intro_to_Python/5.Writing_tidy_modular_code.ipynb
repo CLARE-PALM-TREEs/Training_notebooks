{
 "cells": [
  {
   "cell_type": "markdown",
   "id": "ed96bcc1",
   "metadata": {},
   "source": [
    "<img src=\"images/MO_MASTER_black_mono_for_light_backg_RBG.png\" width=\"500\" height=\"300\" align=\"center\">"
   ]
  },
  {
   "cell_type": "markdown",
   "id": "a10f355a",
   "metadata": {},
   "source": [
    "## Aims\n",
    "\n",
    "This course will teach you:\n",
    "\n",
    "  - what a function is\n",
    "  - how to write tidy, modular code\n",
    "  "
   ]
  },
  {
   "cell_type": "markdown",
   "id": "3f16ed95",
   "metadata": {},
   "source": [
    "## Table of Contents\n",
    "\n",
    "* [What is modular code](#what_is_modular_code)\n",
    "* [Writing functions](#writing_functions)\n",
    "* [Exercise 1](#exercise_1)"
   ]
  },
  {
   "cell_type": "markdown",
   "id": "9a0451f6",
   "metadata": {},
   "source": [
    "**Learning outcome:** by the end of this section, you will be able to write modular code that is separated into discrete chunks that perform one task with predictable results"
   ]
  },
  {
   "cell_type": "markdown",
   "id": "3ec097cc",
   "metadata": {},
   "source": [
    "## What is modular code?<a class=\"anchor\" id=\"what_is_modular_code\"></a>\n",
    "Modular code is self-describing small functions with clearly specified inputs and outputs that enables code to be reused rather than duplicated and is easy to test. Code is read much more often than it is written; readability counts.\n",
    "\n",
    "Writing tidy, modular code helps to ensure consistency within a project and makes it easy to:\n",
    "\n",
    "- read\n",
    "- understand\n",
    "- reuse\n",
    "- maintain\n",
    "- refactor\n",
    "- test\n",
    "\n",
    "The modular approach can also structure your development process. Even when creating a small script to explore some data, its a good idea to start by writing down the high-level steps to be performed. An example might be:\n",
    "\n",
    "1. read in and clean data\n",
    "2. calculate derived fields\n",
    "3. calculate analysis values\n",
    "4. create plots of analysis\n",
    "\n",
    "After defining the steps, you can decide what should go into each step and what should come out. You can then write and debug the code for each step separately. Bugs should be easier to find, and if you decide to change what happens in one step, you will still be able to reuse the code for other steps."
   ]
  },
  {
   "cell_type": "markdown",
   "id": "10599a51",
   "metadata": {},
   "source": [
    "## Writing functions<a class=\"anchor\" id=\"writing_functions\"></a>\n",
    "\n",
    "Functions in Python must be defined using the keyword `def` followed by the name of the function. The function name should explain what the function does. \n",
    "\n",
    "In brackets/parentheses following the function name we define the variables the function needs to be given in order to work, these are called `arguments`. The variables names given to the arguments are only used within the function and can be different to the name given to the same variables elsewhere in the code. \n",
    "\n",
    "The function definition ends with a colon. Inside the function is the code that the function will perform on the arguments. Note that a function does not need to have any arguments at all, in which case the brackets/parentheses are left empty. \n",
    "\n",
    "To `call` a function, write the function name followed by brackets/parentheses with any arguments required by the function inside. These arguments can be `passed` into the function as the variables names used elsewhere in the code, or as actual values.\n",
    "\n",
    "Functions can return variables.\n",
    "\n",
    "<font color='red'>**NOTE**</font>: the following cell is for reference only; there is no need to execute this cell.\n"
   ]
  },
  {
   "cell_type": "code",
   "execution_count": null,
   "id": "a1e537d5",
   "metadata": {},
   "outputs": [],
   "source": [
    "def function_name(argument_1, argument_2):\n",
    "    # Code for this function using argument_1 and argument_2\n",
    "\n",
    "# Use function_name to call the function.\n",
    "function_name(value_1, value_2)"
   ]
  },
  {
   "cell_type": "markdown",
   "id": "138e6e66",
   "metadata": {},
   "source": [
    "Here's a simple example of a program that contains duplicate code:\n"
   ]
  },
  {
   "cell_type": "code",
   "execution_count": null,
   "id": "a5b44fcc",
   "metadata": {},
   "outputs": [],
   "source": [
    "print(\"This model is HadGEM3\")\n",
    "print(\"Model data exists\")\n",
    "\n",
    "print(\"This model is ACCESS1-0\")\n",
    "print(\"Model data exists\")\n",
    "\n",
    "print(\"This model is CESM2\")\n",
    "print(\"Model data exists\")"
   ]
  },
  {
   "cell_type": "markdown",
   "id": "641cfee3",
   "metadata": {},
   "source": [
    "And here is that same code using a function:"
   ]
  },
  {
   "cell_type": "code",
   "execution_count": null,
   "id": "0cb309f6",
   "metadata": {},
   "outputs": [],
   "source": [
    "def model_checker(model_name):\n",
    "    print(f\"This model is {model_name}\")\n",
    "    print(\"Model data exists\")\n",
    "\n",
    "model_checker(\"HadGEM3\")\n",
    "model_checker(\"ACCESS1-0\")\n",
    "model_checker(\"CESM2\")"
   ]
  },
  {
   "cell_type": "markdown",
   "id": "bddf8187",
   "metadata": {},
   "source": [
    "## Exercise 1<a class=\"anchor\" id=\"exercise_1\"></a>\n",
    "\n",
    "The code to be refactored in this exercise (improve by reorganising its internal structure without altering its external behaviour) converts pressure data in pascal to atmospheres and millibars; it is monolithic and contains duplicate code.\n",
    "\n",
    "When code is not contained within a function, it can be difficult to test:\n",
    "\n",
    "<font color='red'>**NOTE**</font>: the following cell is for reference only; there is no need to execute this cell.\n",
    "\n"
   ]
  },
  {
   "cell_type": "code",
   "execution_count": null,
   "id": "6d71667f",
   "metadata": {},
   "outputs": [],
   "source": [
    "def convert(filename):\n",
    "    input_file_object = open(filename, 'r')\n",
    "    raw_data = input_file_object.read()\n",
    "    data = []\n",
    "    for item in raw_data.split(','):\n",
    "        data.append(float(item))\n",
    "\n",
    "    atmospheres_file_object = open('atmospheres.txt', 'w')\n",
    "    atmospheres = []\n",
    "    for item in data:\n",
    "        if not isinstance(item, Number):\n",
    "            raise TypeError('Not a number')\n",
    "        atmosphere=float(item / 101325.0)\n",
    "        atmospheres.append(str(atmosphere))\n",
    "    atmospheres_file_object.write(','.join(atmospheres))\n",
    "\n",
    "    millibars_file_object = open('millibars.txt', 'w')\n",
    "    millibars = []\n",
    "    for item in data:\n",
    "        if not isinstance(item, Number):\n",
    "            raise TypeError('Please provide a numerical value')\n",
    "        millibar = float(item / 100.0)\n",
    "        millibars.append(str(millibar))\n",
    "    millibars_file_object.write(','.join(millibars))\n",
    "\n",
    "    input_file_object.close()\n",
    "    atmospheres_file_object.close()\n",
    "    millibars_file_object.close()"
   ]
  },
  {
   "cell_type": "markdown",
   "id": "50e5c323",
   "metadata": {},
   "source": [
    "To create modular code, we need to ask the question:\n",
    "\n",
    "What steps are being performed that could be moved into separate, smaller, independent, testable functions?\n",
    "\n",
    "For this example, the steps are:\n",
    "- open file\n",
    "- calculate atmospheres\n",
    "- calculate millibars\n",
    "- write file\n",
    "\n",
    "Now, using the code example above, find the lines that you would need to create a `pascal_to_atmosphere` function to convert a single value in pascal to a single value in atmospheres, then check your function against the solution in the solutions folder.\n",
    "\n",
    "<font color='red'>**NOTE**</font>: the following cell is for reference only; there is no need to execute this cell."
   ]
  },
  {
   "cell_type": "code",
   "execution_count": null,
   "id": "58df7487",
   "metadata": {},
   "outputs": [],
   "source": [
    "def pascal_to_atmosphere(pascal):\n",
    "    <replace_this_line_with_your_code>\n",
    "    return atmosphere"
   ]
  },
  {
   "cell_type": "markdown",
   "id": "ee2f0ba0",
   "metadata": {},
   "source": [
    "**HINT** There are 3 lines of code that can be put into this function.\n",
    "<br>\n",
    "<br>\n",
    "<br>\n",
    "<br>\n",
    "<br>\n",
    "<br>\n",
    "<br>\n",
    "<br>\n",
    "<br>\n",
    "<br>\n",
    "<br>\n",
    "<br>\n",
    "**Solution**\n",
    "\n",
    "<font color='red'>**NOTE**</font>: the following cell is for reference only; there is no need to execute this cell."
   ]
  },
  {
   "cell_type": "code",
   "execution_count": null,
   "id": "d23dec3c",
   "metadata": {},
   "outputs": [],
   "source": [
    "def pascal_to_atmosphere(pascal):\n",
    "    if not isinstance(pascal, Number):\n",
    "        raise TypeError('Please provide a numerical value')\n",
    "    atmosphere = float(pascal / 101325.0)\n",
    "    return atmosphere"
   ]
  },
  {
   "cell_type": "markdown",
   "id": "111cbc63",
   "metadata": {},
   "source": [
    "And to call this function in the main code, we replace those lines of code with the function name and pass in the item variables as an argument:\n",
    "\n",
    "<font color='red'>**NOTE**</font>: the following cell is for reference only; there is no need to execute this cell."
   ]
  },
  {
   "cell_type": "code",
   "execution_count": null,
   "id": "048d841a",
   "metadata": {},
   "outputs": [],
   "source": [
    "def convert(filename):\n",
    "    input_file_object = open(filename, 'r')\n",
    "    raw_data = input_file_object.read()\n",
    "    data = []\n",
    "    for item in raw_data.split(','):\n",
    "        data.append(float(item))\n",
    "\n",
    "    atmospheres_file_object = open('atmospheres.txt', 'w')\n",
    "    atmospheres = []\n",
    "    for item in data:\n",
    "        atmosphere=pascal_to_atmosphere(item)\n",
    "        atmospheres.append(str(atmosphere))\n",
    "    atmospheres_file_object.write(','.join(atmospheres))\n",
    "\n",
    "    millibars_file_object = open('millibars.txt', 'w')\n",
    "    millibars = []\n",
    "    for item in data:\n",
    "        if not isinstance(item, Number):\n",
    "            raise TypeError('Please provide a numerical value')\n",
    "        millibar = float(item / 100.0)\n",
    "        millibars.append(str(millibar))\n",
    "    millibars_file_object.write(','.join(millibars))\n",
    "\n",
    "    input_file_object.close()\n",
    "    atmospheres_file_object.close()\n",
    "    millibars_file_object.close()"
   ]
  },
  {
   "cell_type": "markdown",
   "id": "a617a00f",
   "metadata": {},
   "source": [
    "**Helpful Hints**\n",
    "- Make changes gradually, and test the code still works after each change"
   ]
  }
 ],
 "metadata": {
  "kernelspec": {
   "display_name": "Python 3 + Jaspy",
   "language": "python",
   "name": "jaspy"
  },
  "language_info": {
   "codemirror_mode": {
    "name": "ipython",
    "version": 3
   },
   "file_extension": ".py",
   "mimetype": "text/x-python",
   "name": "python",
   "nbconvert_exporter": "python",
   "pygments_lexer": "ipython3",
   "version": "3.10.5"
  }
 },
 "nbformat": 4,
 "nbformat_minor": 5
}
