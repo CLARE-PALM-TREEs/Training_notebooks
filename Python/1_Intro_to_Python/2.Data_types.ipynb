{
 "cells": [
  {
   "cell_type": "markdown",
   "id": "6197130c",
   "metadata": {},
   "source": [
    "<img src=\"images/Project_logos.png\" width=\"500\" height=\"300\" align=\"center\">"
   ]
  },
  {
   "cell_type": "markdown",
   "id": "24ef9e30",
   "metadata": {},
   "source": [
    "# Data Types"
   ]
  },
  {
   "cell_type": "markdown",
   "id": "f0e084e9",
   "metadata": {},
   "source": [
    "## Numeric Data Types\n",
    "\n",
    "There are 3 numeric data types in Python:\n",
    "- integers - these are of type `int` - a positive or negative whole number with no decimals\n",
    "- floating-point numbers - these are of type `float` - a positive or negative number with decimals\n",
    "- complex numbers - these are of type `complex`"
   ]
  },
  {
   "cell_type": "code",
   "execution_count": null,
   "id": "0e96a118",
   "metadata": {},
   "outputs": [],
   "source": [
    "type(3)"
   ]
  },
  {
   "cell_type": "code",
   "execution_count": null,
   "id": "fb0f98ff",
   "metadata": {},
   "outputs": [],
   "source": [
    "type(3.0) # checking the type of a value with a decimal point"
   ]
  },
  {
   "cell_type": "code",
   "execution_count": null,
   "id": "5adf46fe",
   "metadata": {},
   "outputs": [],
   "source": [
    "type(3 + 4j) # checking the type of a value with real part 3 and imaginary part 4"
   ]
  },
  {
   "cell_type": "markdown",
   "id": "e7370794",
   "metadata": {},
   "source": [
    "## Strings\n",
    "\n",
    "A string is a sequence of characters, type `str`. Strings can be specified using single or double quotes."
   ]
  },
  {
   "cell_type": "code",
   "execution_count": null,
   "id": "2da1eb64",
   "metadata": {},
   "outputs": [],
   "source": [
    "single_quote_string = 'String text'\n",
    "double_quote_string = \"String text\"\n",
    "\n",
    "print(single_quote_string)\n",
    "print(double_quote_string)"
   ]
  },
  {
   "cell_type": "markdown",
   "id": "a2a536ea",
   "metadata": {},
   "source": [
    "There are some built-in methods for the `str` type (https://docs.python.org/3/library/stdtypes.html#text-sequence-type-str)."
   ]
  },
  {
   "cell_type": "code",
   "execution_count": null,
   "id": "91298b6e",
   "metadata": {},
   "outputs": [],
   "source": [
    "x = 'I am learning about strings in Python.'\n",
    "\n",
    "print(x.upper())\n",
    "print(x.lower())\n",
    "print(x.replace('.', '!'))"
   ]
  },
  {
   "cell_type": "markdown",
   "id": "aa748786",
   "metadata": {},
   "source": [
    "Strings can be joined together using `+`."
   ]
  },
  {
   "cell_type": "code",
   "execution_count": null,
   "id": "a433ab92",
   "metadata": {},
   "outputs": [],
   "source": [
    "print('This sentence' + ' is 2 strings joined together.')"
   ]
  },
  {
   "cell_type": "markdown",
   "id": "2e8342e5",
   "metadata": {},
   "source": [
    "Strings and numbers can be combined using the string method `format()`. A string can be defined with `{}` as placeholders for other variables. These variables are passed into the string `format()` method as arguments. This can be particularly helpful for filenames."
   ]
  },
  {
   "cell_type": "code",
   "execution_count": null,
   "id": "f8e7fe53",
   "metadata": {},
   "outputs": [],
   "source": [
    "first_year = 1995 # this is of type int\n",
    "\n",
    "fname = \"temperature_plot_{}.png\" # this is a string with {} as a placeholder\n",
    "# this used the format string method to combine the string fname and the int first_year into a string\n",
    "print(fname.format(first_year))"
   ]
  },
  {
   "cell_type": "markdown",
   "id": "8b92335e",
   "metadata": {},
   "source": [
    "## Booleans\n",
    "\n",
    "Booleans (type `bool`) are either True or False. These are used to evaluate an expression as True or False."
   ]
  },
  {
   "cell_type": "code",
   "execution_count": null,
   "id": "c6313768",
   "metadata": {},
   "outputs": [],
   "source": [
    "x = 1\n",
    "y = 5\n",
    "\n",
    "x < y # Evaluate expression to check if x is less than y"
   ]
  },
  {
   "cell_type": "code",
   "execution_count": null,
   "id": "5acc639f",
   "metadata": {},
   "outputs": [],
   "source": [
    "y - 3 > x + 2 # Evaluate expression to check if y minus 3 is greater than x plus 2"
   ]
  },
  {
   "cell_type": "markdown",
   "id": "2410610f",
   "metadata": {},
   "source": [
    "You can evaluate any value as type `bool`. Most will return True, but some such as `None` and `0` return False. Empty values also return False."
   ]
  },
  {
   "cell_type": "code",
   "execution_count": null,
   "id": "aa8b5581",
   "metadata": {},
   "outputs": [],
   "source": [
    "bool(None)"
   ]
  },
  {
   "cell_type": "code",
   "execution_count": null,
   "id": "115d175b",
   "metadata": {},
   "outputs": [],
   "source": [
    "bool(0)"
   ]
  },
  {
   "cell_type": "code",
   "execution_count": null,
   "id": "aac11bf7",
   "metadata": {},
   "outputs": [],
   "source": [
    "bool(\"\")"
   ]
  },
  {
   "cell_type": "markdown",
   "id": "d73f26b9",
   "metadata": {},
   "source": [
    "## Lists\n",
    "\n",
    "Lists are a Python data type that store a collection of data. They are created using square brackets.\n",
    "\n",
    "Lists:\n",
    "- are ordered - there is a defined order that will not change\n",
    "- are changeable - can change, add, and remove items from a list\n",
    "- allow duplicate values\n",
    "- are indexed"
   ]
  },
  {
   "cell_type": "markdown",
   "id": "1592f1f1",
   "metadata": {},
   "source": [
    "NOTE: Indexing starts at 0 in Python!"
   ]
  },
  {
   "cell_type": "code",
   "execution_count": null,
   "id": "85fafbd2",
   "metadata": {},
   "outputs": [],
   "source": [
    "myLetterList = ['a', 'b', 'c', 'd', 'e'] # create list\n",
    "\n",
    "print(len(myLetterList)) # print the length of the list\n",
    "\n",
    "print(myLetterList[3]) # print the 4th item in the list\n",
    "\n",
    "myLetterList[3] = 'D' # replace the 4th item in the list with 'D'\n",
    "print(myLetterList) # print the list\n",
    "\n",
    "myLetterList.append('g') # add an item to the end of the list\n",
    "print(myLetterList)\n",
    "\n",
    "myLetterList.insert(5, 'f') # add an item in the 6th position of the list\n",
    "print(myLetterList)\n",
    "\n",
    "myOtherLetterList = ['h', 'i', 'j']\n",
    "\n",
    "myLetterList.extend(myOtherLetterList) # extend a list with another list\n",
    "print(myLetterList)\n",
    "\n",
    "myLetterList.remove('a') # remove an item 'a' from the list\n",
    "print(myLetterList)\n",
    "\n",
    "myNewList = myLetterList + myOtherLetterList # join two lists\n",
    "print(myNewList)\n",
    "\n",
    "myNewList.sort() # sort list alphabetically (or numerically)\n",
    "print(myNewList)"
   ]
  },
  {
   "cell_type": "markdown",
   "id": "c8e22f8e",
   "metadata": {},
   "source": [
    "## Tuples\n",
    "\n",
    "Tuples are a Python data type that store a collection of data. They are created using round brackets.\n",
    "\n",
    "Tuples:\n",
    "- are ordered - there is a defined order that will not change\n",
    "- are unchangeable - cannot change, add or remove items from a tuple\n",
    "- allow duplicate values"
   ]
  },
  {
   "cell_type": "code",
   "execution_count": null,
   "id": "096de5c5",
   "metadata": {},
   "outputs": [],
   "source": [
    "myNumberTuple = (4, 7, 3, 2, 6) # create tuple\n",
    "\n",
    "print(len(myNumberTuple)) # print the length of the tuple\n",
    "\n",
    "print(myNumberTuple[3]) # print the 4th item in the tuple\n",
    "\n",
    "myOtherNumberTuple = (3, 5)\n",
    "\n",
    "myNewNumberTuple = myNumberTuple + myOtherNumberTuple # joining 2 tuples\n",
    "print(myNewNumberTuple)\n",
    "\n",
    "print(myNewNumberTuple * 2) # Repeat the tuple content twice"
   ]
  },
  {
   "cell_type": "markdown",
   "id": "2beff210",
   "metadata": {},
   "source": [
    "Tuples are unchangeable. However, it is possible to convert a tuple into a list, change the list and then convert that list back into a tuple."
   ]
  },
  {
   "cell_type": "code",
   "execution_count": null,
   "id": "ab4911a1",
   "metadata": {},
   "outputs": [],
   "source": [
    "myNumberList = list(myNumberTuple) # convert to a list\n",
    "myNumberList[1] = 0 # change the 2nd item in the list to 0\n",
    "myNumberTuple = tuple(myNumberList) # convert to a tuple\n",
    "\n",
    "print(myNumberTuple)"
   ]
  },
  {
   "cell_type": "markdown",
   "id": "a2786b19",
   "metadata": {},
   "source": [
    "## Sets\n",
    "\n",
    "Sets are a Python data type that store a collection of data. They are created using curly brackets.\n",
    "\n",
    "Sets:\n",
    "- are unordered - there is no defined order so cannot use indexing\n",
    "- are unchangeable - cannot change items in a set, but can add or remove items\n",
    "- do not allow duplicate values"
   ]
  },
  {
   "cell_type": "code",
   "execution_count": null,
   "id": "ed427142",
   "metadata": {
    "scrolled": true
   },
   "outputs": [],
   "source": [
    "myWeatherSet = {'Rainfall', 'Wind speed', 'Wind direction', 'Temperature'} # create set\n",
    "\n",
    "print(myWeatherSet)\n",
    "\n",
    "print(len(myWeatherSet)) # print size of set\n",
    "\n",
    "print('Wind speed' in myWeatherSet) # check if 'Wind speed' is in the set\n",
    "\n",
    "myWeatherSet.add('Snow cover') # Add 'Snow cover' to the set\n",
    "print(myWeatherSet)\n",
    "\n",
    "myWeatherSet.discard('Wind direction') # Remove 'Wind direction' from the set\n",
    "print(myWeatherSet)"
   ]
  },
  {
   "cell_type": "code",
   "execution_count": null,
   "id": "b4466d43",
   "metadata": {},
   "outputs": [],
   "source": [
    "yourWeatherSet = {'Relative humidity', 'Mean Sea Level Pressure'} # create another set\n",
    "yourWeatherSet.update(myWeatherSet) # add set contents from myWeatherSet to yourWeatherSet\n",
    "print(yourWeatherSet)\n",
    "\n",
    "ourWeatherSet = yourWeatherSet.union(myWeatherSet) # create a set of all items in either set\n",
    "print(ourWeatherSet)\n",
    "\n",
    "herWeatherSet = {'Temperature', 'Relative humidity', 'Mean Sea Level Pressure'}\n",
    "hisWeatherSet = {'Temperature', 'Mean Sea Level Pressure', 'Rainfall'}\n",
    "\n",
    "theirWeatherSet = herWeatherSet.intersection(hisWeatherSet) # create a set of the items in both sets\n",
    "print(theirWeatherSet)\n",
    "\n",
    "herWeatherSet.intersection_update(hisWeatherSet) # update herWeatherSet to just include items in both sets\n",
    "print(herWeatherSet)\n",
    "\n",
    "herWeatherSet = {'Temperature', 'Relative humidity', 'Mean Sea Level Pressure'}\n",
    "notBothWeatherSets = herWeatherSet.symmetric_difference(hisWeatherSet) # create a set of the items only in 1 of the sets\n",
    "print(notBothWeatherSets)\n",
    "\n",
    "herWeatherSet.symmetric_difference_update(hisWeatherSet) # update herWeatherSet to just include the items only in 1 of the sets\n",
    "print(herWeatherSet)"
   ]
  },
  {
   "cell_type": "markdown",
   "id": "57860a4b",
   "metadata": {},
   "source": [
    "## Dictionaries\n",
    "\n",
    "Dictionaries are a Python data type that store a collection of data. They contain key:value pairs, and are surrounded by curly brackets.\n",
    "\n",
    "Dictionaries:\n",
    "- are ordered - there is a defined order so can use indexing\n",
    "- are changeable - can change, add and remove items\n",
    "- do not allow duplicate values - cannot have multiple values with the same key"
   ]
  },
  {
   "cell_type": "code",
   "execution_count": null,
   "id": "15aa8fe3",
   "metadata": {},
   "outputs": [],
   "source": [
    "# create a dictionary\n",
    "\n",
    "myDict = {\n",
    "    'Oak': 'tree',\n",
    "    'Ash': 'tree',\n",
    "    'Baobab': 'tree',\n",
    "    'Acacia': 'tree',\n",
    "    'Gorse': 'shrub',\n",
    "    'Boxwood': 'shrub',\n",
    "    'Corn': 'grain',\n",
    "    'Wheat': 'grain'\n",
    "}\n",
    "\n",
    "print(len(myDict)) # print size of the dictionary\n",
    "\n",
    "print(myDict['Acacia']) # print the value from the dictionary for the key 'Acacia'\n",
    "\n",
    "print(myDict.keys()) # print the keys\n",
    "\n",
    "print(myDict.values()) # print the values\n",
    "\n",
    "print(myDict)\n",
    "myDict['Rice'] = 'grain' # add an item to the dictionary\n",
    "print(myDict)\n",
    "\n",
    "myDict.pop(\"Ash\") # remove an item from the dictionary using the key\n",
    "print(myDict)"
   ]
  },
  {
   "cell_type": "markdown",
   "id": "224c954e",
   "metadata": {},
   "source": [
    "## Converting between types\n",
    "\n",
    "You can convert a variable to a different type using methods, e.g. `int()`, `float()`, `complex()`."
   ]
  },
  {
   "cell_type": "code",
   "execution_count": null,
   "id": "070ba4fb",
   "metadata": {},
   "outputs": [],
   "source": [
    "x = 3\n",
    "y = 5.0\n",
    "\n",
    "type(x)\n",
    "type(y)\n",
    "\n",
    "print(int(y))\n",
    "print(float(x))\n",
    "print(complex(x))"
   ]
  },
  {
   "cell_type": "markdown",
   "id": "95595f31",
   "metadata": {},
   "source": [
    "You can also convert between data types used for collections of data, using `list()`, `tuple()`, `set()`."
   ]
  },
  {
   "cell_type": "code",
   "execution_count": null,
   "id": "95a362ba",
   "metadata": {},
   "outputs": [],
   "source": [
    "myList = [1, 2, 3, 4, 5]\n",
    "\n",
    "print(tuple(myList))\n",
    "print(set(myList))"
   ]
  }
 ],
 "metadata": {
  "kernelspec": {
   "display_name": "Python 3 + Jaspy",
   "language": "python",
   "name": "jaspy"
  },
  "language_info": {
   "codemirror_mode": {
    "name": "ipython",
    "version": 3
   },
   "file_extension": ".py",
   "mimetype": "text/x-python",
   "name": "python",
   "nbconvert_exporter": "python",
   "pygments_lexer": "ipython3",
   "version": "3.10.5"
  }
 },
 "nbformat": 4,
 "nbformat_minor": 5
}
