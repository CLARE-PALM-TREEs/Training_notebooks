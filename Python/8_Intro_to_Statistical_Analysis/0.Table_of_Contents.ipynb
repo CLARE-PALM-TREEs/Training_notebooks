{
 "cells": [
  {
   "cell_type": "markdown",
   "id": "075a1fba-dc53-4c6b-8861-e7b74e020e04",
   "metadata": {},
   "source": [
    "# Introducing Statistical Analysis\n",
    "\n",
    "## Course aims and objectives\n",
    "\n",
    "The **aim** of the statistical analysis course is to introduce the the different statistical methods available within some python libraries.\n",
    "\n",
    "The **learning outcomes** of the statistical analysis course are as follows. By the end of the course, you will be able to:\n",
    "\n",
    "* understand the basis for choosing an appropriate statistical analysis method,\n",
    "* use an appropriate Python library to implement different statistical analysis methods.\n",
    "\n",
    "The course will cover:\n",
    "\n",
    "1. [Descriptive statistics](1.Descriptive_statistics.ipynb)\n",
    "2. [Correlation](2.Correlation.ipynb)\n",
    "3. [Advanced correlation and EOFs](3.Advanced_Correlation_and_EOFs.ipynb)\n",
    "4. [Probability](4.Probability.ipynb)\n",
    "5. [Introduction to statistical models](5.Intro_to_Statistical_Models.ipynb)\n",
    "\n",
    "\n"
   ]
  },
  {
   "cell_type": "code",
   "execution_count": null,
   "id": "f46971e6",
   "metadata": {},
   "outputs": [],
   "source": []
  }
 ],
 "metadata": {
  "kernelspec": {
   "display_name": "Python 3 + Jaspy",
   "language": "python",
   "name": "jaspy"
  },
  "language_info": {
   "codemirror_mode": {
    "name": "ipython",
    "version": 3
   },
   "file_extension": ".py",
   "mimetype": "text/x-python",
   "name": "python",
   "nbconvert_exporter": "python",
   "pygments_lexer": "ipython3",
   "version": "3.10.5"
  }
 },
 "nbformat": 4,
 "nbformat_minor": 5
}
