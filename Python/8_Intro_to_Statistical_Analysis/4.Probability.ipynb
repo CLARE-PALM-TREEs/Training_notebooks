{
 "cells": [
  {
   "cell_type": "markdown",
   "id": "67dfdac3",
   "metadata": {},
   "source": [
    "<img src=\"images/Project_logos.png\" width=\"500\" height=\"300\" align=\"center\">"
   ]
  },
  {
   "cell_type": "markdown",
   "id": "a7d5c9bd",
   "metadata": {},
   "source": [
    "## Aims\n",
    "\n",
    "This course will teach you some methods for quantifying the probability of events happening from the statistics in your data. By knowing the probability of events happening, there is the ability to make predictions of how frequently the might occur or how big they might be.\n",
    "\n",
    "\n",
    "Prior knowledge of Python, NumPy, Pandas, Iris, and Matplolib are assumed for this course."
   ]
  },
  {
   "cell_type": "markdown",
   "id": "a9dd8cba",
   "metadata": {},
   "source": [
    "## Table of Contents\n",
    "\n",
    "* [Normal Distribution](#normal_distribution)\n",
    "* [Binomial Distribution](#bionomial_distribution)\n",
    "* [Poisson Distribution](#poisson_distribution)\n",
    "* [Exercise 1](#exercise1)"
   ]
  },
  {
   "cell_type": "markdown",
   "id": "43b39b9d",
   "metadata": {},
   "source": [
    "## Normal Distribution<a class=\"anchor\" id=\"normal_distribution\"></a>\n",
    "\n",
    "The normal distribution (also known as the Gaussian Distribution) is the most commonly used distribution to be fit to data. It is symmetrical about the mean with a bell-shaped curve. \n",
    "\n",
    "**Central Limit Theorem** dictates that the more observations in the data, the more the distribution will look like a normal distribution and the more the probabilility of the event happening will approach the true mean.\n",
    "\n",
    "The **Three Sigma Rule** dictates that a certain number of the observations in the data will fall within a certain distance of the mean. For a normal distribution, the Three Sigma rule states that:\n",
    "- 68% of the data will fall within one standard deviation of the mean\n",
    "- 95% of the data will fall within two standard deviations of the mean\n",
    "- 99.7% of the data will fall within three standard deviations of the mean\n",
    "\n",
    "Any observation that is more than three standard deviations from the mean should be treated with caution.\n",
    "\n",
    "The **z-score** is a measure of how many standard deviations away from the mean a given data point is. A z-table of the cumulative probability of a standard normal distribution is used to place the z-score in context.\n",
    "\n",
    "Using an example of weather station data, we may wish to substitute the data from one station to another in the case of missing data at the one you want to use. In order to do this though, it is necessary to confirm that the weather at the replacement station is representative of the weather that the station with missing data. For this example, we want to know whether we can use maximum temperature data from Heathrow to replace missing data from Oxford in July 2012."
   ]
  },
  {
   "cell_type": "code",
   "execution_count": null,
   "id": "6860a0b7",
   "metadata": {},
   "outputs": [],
   "source": [
    "import pandas as pd\n",
    "import matplotlib.pyplot as plt\n",
    "import seaborn as sns\n",
    "import scipy.stats\n",
    "import numpy as np\n",
    "\n",
    "# Load in the data\n",
    "df_heathrow = pd.read_csv('data/heathrow_weather_station_data.csv')\n",
    "df_oxford = pd.read_csv('data/oxford_weather_station_data.csv')\n",
    "\n",
    "# select the maximum temperature data for July\n",
    "df_july_heathrow = df_heathrow[df_heathrow['Month']==7]\n",
    "df_july_oxford = df_oxford[df_oxford['Month']==7]\n",
    "df_tmax_jul_heathrow = df_july_heathrow['Max_temperature']\n",
    "df_tmax_jul_oxford = df_july_oxford['Max_temperature']\n",
    "\n",
    "# combine the two datasets\n",
    "df_tmax_jul = pd.DataFrame(zip(df_tmax_jul_heathrow.values, df_tmax_jul_oxford.values),\n",
    "                           columns=['Heathrow_tmax_jul', 'Oxford_tmax_jul'])\n",
    "\n",
    "# print the distributions of the two datasets\n",
    "sns.kdeplot(data=df_tmax_jul)\n",
    "plt.show()\n",
    "\n",
    "# test the data for normality\n",
    "test_normal_heathrow = scipy.stats.shapiro(df_tmax_jul_heathrow)\n",
    "print(f'Heathrow data looks normally distributed: p-value = {test_normal_heathrow[1]}, p-value > 0.05')\n",
    "test_normal_oxford = scipy.stats.shapiro(df_tmax_jul_oxford)\n",
    "print(f'Oxford data looks normally distributed: p-value = {test_normal_oxford[1]}, p-value > 0.05')"
   ]
  },
  {
   "cell_type": "markdown",
   "id": "2e9c000a",
   "metadata": {},
   "source": [
    "The data are normally distributed, therefore we can use the **z-distribution** (the standard normal distribution), a normal distriubtion with a mean of 0 and a standard deviation of 1 to examine the data further. Any normal distribution can be standardised by converting its values into z-scores. Z-scores indicate how many standard deviations away from the mean each value is. Z-distributions allow us to calculate the probability of values occuring and to compare different datasets. Here we are using it to compare two different datasets."
   ]
  },
  {
   "cell_type": "code",
   "execution_count": null,
   "id": "9aad3358",
   "metadata": {},
   "outputs": [],
   "source": [
    "# calculate the z-score\n",
    "oxford_mean = df_tmax_jul['Oxford_tmax_jul'].mean()\n",
    "heathrow_mean = df_tmax_jul['Heathrow_tmax_jul'].mean()\n",
    "oxford_std = df_tmax_jul['Oxford_tmax_jul'].std()\n",
    "\n",
    "z_score = (heathrow_mean - oxford_mean)/oxford_std\n",
    "print(f'z-score = {z_score}')"
   ]
  },
  {
   "cell_type": "markdown",
   "id": "59434aa1",
   "metadata": {},
   "source": [
    "The z-score indicates that the mean of the Heathrow maximum July temperatures is within one standard deviation of the mean of the Oxford maximum July temperatures, but we can see from the plot that the mean of the July temperatures at Heathrow is larger than the mean of the July temperatures at Oxford and so we need to test if they are significantly different distributions."
   ]
  },
  {
   "cell_type": "code",
   "execution_count": null,
   "id": "0b134564",
   "metadata": {},
   "outputs": [],
   "source": [
    "#find p-value for two-tailed test\n",
    "print(f'p-value = {scipy.stats.norm.sf(abs(z_score))*2}')"
   ]
  },
  {
   "cell_type": "markdown",
   "id": "87dfedbd",
   "metadata": {},
   "source": [
    "This p-value > 0.05, so the result is NOT significant at the 95% confidence interval. Therefore, the data from the Heathrow weather station cannot be used to replace the missing data from the Oxford weather station.\n",
    "\n",
    "In this instance, since the Oxford data are normally distributed, using the mean to infill the missing data values is a better choice."
   ]
  },
  {
   "cell_type": "markdown",
   "id": "e88017c6",
   "metadata": {},
   "source": [
    "To obtain a normal distribution to sample from, use the numpy function `random`:"
   ]
  },
  {
   "cell_type": "code",
   "execution_count": null,
   "id": "902f9f36",
   "metadata": {},
   "outputs": [],
   "source": [
    "from numpy import random\n",
    "\n",
    "# For sampling a single value from a normal distribution:\n",
    "x = random.normal()\n",
    "print(f'Random sample for a normal distribution with the default setting of \\nmean=0, \\nstandard deviation=1\\n{x}\\n\\n')\n",
    "      \n",
    "# For sampling a single value from a normal distribution with a mean (loc) of 2 and a \n",
    "# standard deviation (scale) of 1:\n",
    "x = random.normal(loc=2, scale=1)\n",
    "print(f'Random sample for a normal distribution with\\nmean=2\\nstandard deviation=1\\n{x}\\n\\n')\n",
    "\n",
    "# To return more than one value, use the 'size' keyword to specify the number and shape of the sample:\n",
    "x = random.normal(loc=2, scale=1, size=3)\n",
    "print(f'3 Random samples for a normal distribution with\\nmean=2\\nstandard deviation=1\\n{x}\\n\\n')\n",
    "x = random.normal(loc=2, scale=1, size=(2,3))\n",
    "print(f'6 Random samples for a normal distribution with\\nmean=2\\nstandard deviation=1\\n{x}\\n\\n')\n"
   ]
  },
  {
   "cell_type": "markdown",
   "id": "9c3527d3",
   "metadata": {},
   "source": [
    "## Binomial Distribution<a class=\"anchor\" id=\"binomial_distribution\"></a>\n",
    "The binomial distribution is the discrete probability distribution for a variable that can only take one of two independent values, e.g. raining or not raining. The probability of each outcome remains fixed.\n",
    "\n",
    "Using the weather station data from Heathrow, we can calculate the probability of a wet day as the number of wet days divided by the total number of days."
   ]
  },
  {
   "cell_type": "code",
   "execution_count": null,
   "id": "6d12e1dd",
   "metadata": {},
   "outputs": [],
   "source": [
    "import pandas as pd\n",
    "\n",
    "# Load in the data\n",
    "df_heathrow = pd.read_csv('data/heathrow_weather_station_data_daily.csv')\n",
    "\n",
    "# Remove the days with missing data\n",
    "df_heathrow.dropna(inplace=True)\n",
    "print(df_heathrow)\n",
    "\n",
    "# Calculate the wet days (assume a threshold of 0.01 mm/day constitutes a wet day)\n",
    "df_heathrow['wetday'] = 'Wet'\n",
    "df_heathrow.loc[df_heathrow[\"PRCP\"] <= 0.01, \"wetday\"] = 'Dry'\n",
    "\n",
    "# Calculate the probabilities\n",
    "rainfall_probs = df_heathrow.groupby('wetday').size().div(len(df_heathrow))\n",
    "print(f'The probability of a wet day at Heathrow is {rainfall_probs[1]:.2f}')"
   ]
  },
  {
   "cell_type": "markdown",
   "id": "d7fec1a6",
   "metadata": {},
   "source": [
    "We could also calculate the conditional probability, e.g. the probability of a wet day given a maximum temperature above 20'C"
   ]
  },
  {
   "cell_type": "code",
   "execution_count": null,
   "id": "7ace1b5d",
   "metadata": {},
   "outputs": [],
   "source": [
    "import pandas as pd\n",
    "\n",
    "# Load in the data\n",
    "df_heathrow = pd.read_csv('data/heathrow_weather_station_data_daily.csv')\n",
    "\n",
    "# Remove the days with missing data\n",
    "df_heathrow.dropna(inplace=True)\n",
    "\n",
    "# Convert the temperature units to metric\n",
    "df_heathrow[\"TMAX\"] = (df_heathrow[\"TMAX\"]-32) * 5/9\n",
    "\n",
    "# Calculate the wet days (assume a threshold of 0.01 mm/day constitutes a wet day)\n",
    "df_heathrow['wetday'] = 'Wet'\n",
    "df_heathrow.loc[df_heathrow[\"PRCP\"] <= 0.01, \"wetday\"] = 'Dry'\n",
    "\n",
    "# Calculate the days above 15'C\n",
    "df_heathrow['tmax_gt_15'] = 'TMAX < 15C'\n",
    "df_heathrow.loc[df_heathrow[\"TMAX\"] >= 15, \"tmax_gt_15\"] = 'TMAX >= 15C'\n",
    "\n",
    "# Calculate the probabilities\n",
    "rainfall_probs = df_heathrow.groupby('wetday').size().div(len(df_heathrow))\n",
    "print(f'The probability of a wet day at Heathrow is {rainfall_probs[1]:.2f}')\n",
    "temperature_probs = df_heathrow.groupby('tmax_gt_15').size().div(len(df_heathrow))\n",
    "print(f'The probability of a day with tmax > 15C at Heathrow is {temperature_probs[1]:.2f}\\n\\n')\n",
    "\n",
    "conditional_probs = df_heathrow.groupby('tmax_gt_15')['wetday'].value_counts() / df_heathrow.groupby('tmax_gt_15')['wetday'].count()\n",
    "print(f'The conditional probabilities are: \\n{conditional_probs}\\n')\n",
    "\n",
    "conditional_prob = conditional_probs.loc['TMAX >= 15C']['Wet']\n",
    "print(f'Therefore, the probability of a wet day at Heathrow given a maximum temperature >= 15C is {conditional_prob*100:.0f}%')"
   ]
  },
  {
   "cell_type": "code",
   "execution_count": null,
   "id": "be3dff13",
   "metadata": {},
   "outputs": [],
   "source": [
    "from numpy import random\n",
    "     \n",
    "# For sampling a single value from a binomial distribution with 10 trials and a probability of success of 0.5:\n",
    "x = random.binomial(10, 0.5)\n",
    "print(f'Random sample for a binomial distribution with 10 trials and a probability of success of 0.5:\\n{x}\\n\\n')\n",
    "\n",
    "# To return more than one value, use the 'size' keyword to specify the number and shape of the sample:\n",
    "x = random.binomial(10, 0.5, size=3)\n",
    "print(f'Three Random samples for a binomial distribution with 10 trials and a probability of success of 0.5:\\n{x}\\n\\n')\n",
    "x = random.binomial(10, 0.5, size=(2,3))\n",
    "print(f'Six Random samples for a binomial distribution with 10 trials and a probability of success of 0.5:\\n{x}\\n\\n')\n"
   ]
  },
  {
   "cell_type": "markdown",
   "id": "e7e480a4",
   "metadata": {},
   "source": [
    "Using our wet day example again, we know the number of days with observations and the probability of a wet day occuring. We could therefore work out the probability of 5% more wet days occuring than was observed"
   ]
  },
  {
   "cell_type": "code",
   "execution_count": null,
   "id": "aea8dc1a",
   "metadata": {},
   "outputs": [],
   "source": [
    "import pandas as pd\n",
    "import numpy as np\n",
    "\n",
    "# Load in the data\n",
    "df_heathrow = pd.read_csv('data/heathrow_weather_station_data_daily.csv')\n",
    "\n",
    "# Remove the days with missing data\n",
    "df_heathrow.dropna(inplace=True)\n",
    "\n",
    "# Calculate the wet days (assume a threshold of 0.01 mm/day constitutes a wet day)\n",
    "df_heathrow['wetday'] = 'Wet'\n",
    "df_heathrow.loc[df_heathrow[\"PRCP\"] <= 0.01, \"wetday\"] = 'Dry'\n",
    "\n",
    "# Calculate the probabilities\n",
    "rainfall_probs = df_heathrow.groupby('wetday').size().div(len(df_heathrow))\n",
    "print(f'The probability of a wet day at Heathrow is {rainfall_probs[1]:.2f}')\n",
    "\n",
    "# Calculate the number of observations\n",
    "num_obs = len(df_heathrow)\n",
    "print(f'There are {num_obs} observations')\n",
    "num_wetdays = len(df_heathrow[df_heathrow['wetday']=='Wet'])\n",
    "print(f'There are {num_wetdays} wet days in the record')\n",
    "\n",
    "# Calculate the threshold\n",
    "threshold = num_wetdays*1.05\n",
    "print(f'5% more wet days = {threshold}')\n",
    "\n",
    "# Draw a random 10,000 samples from the binomial distribution for the dataset\n",
    "random_sample = np.random.binomial(num_obs, rainfall_probs[1], 10000)\n",
    "# print(f'Random sample of 1000 drawn from the binomial distribution = {random_sample}')\n",
    "prob = sum(random_sample >= threshold)/10000\n",
    "print(f'The probability of 5% more wet days than was observed at Heathrow is {prob*100:.2f}%')"
   ]
  },
  {
   "cell_type": "markdown",
   "id": "46880396",
   "metadata": {},
   "source": [
    "## Poisson Distribution<a class=\"anchor\" id=\"poisson\"></a>\n",
    "The poisson distribution is the probability of an event occuring a given number of times within a given time frame, provided that the mean rate of occurrence is known and each event is independent. The poisson distribution is therefore useful for determining how often an event should be expected.\n",
    "\n",
    "Using the weather station data from Heathrow, we can calculate the 99th percentile rainfall amount and call it a storm"
   ]
  },
  {
   "cell_type": "code",
   "execution_count": null,
   "id": "e3ec742b",
   "metadata": {},
   "outputs": [],
   "source": [
    "import pandas as pd\n",
    "import numpy as np\n",
    "import matplotlib.pyplot as plt\n",
    "import seaborn as sns\n",
    "from scipy.stats import poisson\n",
    "\n",
    "# Load in the data from Heathrow which covers the 30 year period 1991 to 2010\n",
    "df_heathrow = pd.read_csv('data/heathrow_weather_station_data_daily.csv')\n",
    "\n",
    "\n",
    "# Remove the days with missing data\n",
    "df_heathrow.dropna(inplace=True)\n",
    "\n",
    "# Calculate the 99th percentile rainfall amount\n",
    "rain99 = df_heathrow[\"PRCP\"].quantile(0.99)\n",
    "print(f'The 99th percentile rainfall amount is {rain99} mm/day')\n",
    "      \n",
    "# Calculate the number of storm days\n",
    "df_heathrow['storm'] = 0\n",
    "df_heathrow.loc[df_heathrow[\"PRCP\"] >= rain99, \"storm\"] = 1\n",
    "df_heathrow['DATE'] = pd.to_datetime(df_heathrow['DATE'], format='%d/%m/%Y')\n",
    "df_heathrow['Year'] = pd.to_datetime(df_heathrow['DATE']).dt.strftime('%Y')\n",
    "\n",
    "# Calculate the mean number of storm events per year in the timeseries\n",
    "mean_storms = df_heathrow.groupby(['Year'])['storm'].sum().mean()\n",
    "print(f'The mean number of storm events per year is {mean_storms:.2f}')\n",
    "\n",
    "# Plot the probability of different numbers of storms per year occurring\n",
    "num_occurrences = np.arange(0, step=1, stop=df_heathrow.groupby(['Year'])['storm'].sum().max()+1)\n",
    "pmf = poisson.pmf(k=num_occurrences, mu=mean_storms)\n",
    "fig, ax = plt.subplots(1, 1, figsize=(12, 9))\n",
    "plt.bar(num_occurrences, pmf * 100)\n",
    "plt.xlabel('Number of storms')\n",
    "plt.ylabel('Probability')\n",
    "plt.show()\n",
    "\n",
    "prob = poisson.pmf(k=5, mu=mean_storms)*100\n",
    "print(f'The probability of Heathrow having 5 storms a year is {prob:.2f}%')\n",
    "print(f'This is equivalent to a 1-in-{100/prob:.0f} year event')"
   ]
  },
  {
   "cell_type": "markdown",
   "id": "74d0530d",
   "metadata": {},
   "source": [
    "## Exercise 1<a class=\"anchor\" id=\"exercise_1\"></a>\n",
    "\n",
    "Using any Python methods, assume an increase in rainfall per day at Heathrow due to climate change of 20% but assume that the definition of a storm remains the same as 99th percentile rainfall amount for the current climate.  Calculate the number of storm days, the mean number of storm events per year, and the probability of Heathrow having 5 storms a year.\n"
   ]
  },
  {
   "cell_type": "code",
   "execution_count": null,
   "id": "0b8ea754",
   "metadata": {},
   "outputs": [],
   "source": [
    "\n"
   ]
  },
  {
   "cell_type": "markdown",
   "id": "e8daa2be",
   "metadata": {},
   "source": [
    "<br>\n",
    "<br>\n",
    "<br>\n",
    "<br>\n",
    "<br>\n",
    "<br>\n",
    "<br>\n",
    "<br>\n",
    "<br>\n",
    "<br>\n",
    "<br>\n",
    "<br>\n",
    "**Solution**\n",
    "\n",
    "<font color='red'>**NOTE**</font>: Your methods can include any Python library\n",
    "\n"
   ]
  },
  {
   "cell_type": "code",
   "execution_count": null,
   "id": "ebbc7836",
   "metadata": {},
   "outputs": [],
   "source": [
    "import pandas as pd\n",
    "import numpy as np\n",
    "import matplotlib.pyplot as plt\n",
    "import seaborn as sns\n",
    "from scipy.stats import poisson\n",
    "\n",
    "# Load in the data from Heathrow which covers the 30 year period 1991 to 2010\n",
    "df_heathrow = pd.read_csv('data/heathrow_weather_station_data_daily.csv')\n",
    "\n",
    "\n",
    "# Remove the days with missing data\n",
    "df_heathrow.dropna(inplace=True)\n",
    "\n",
    "# Calculate the 99th percentile rainfall amount\n",
    "rain99 = df_heathrow[\"PRCP\"].quantile(0.99)\n",
    "print(f'The 99th percentile rainfall amount is {rain99} mm/day')\n",
    "\n",
    "df_heathrow[\"PRCP\"] = df_heathrow[\"PRCP\"]*1.2\n",
    "      \n",
    "# Calculate the number of storm days\n",
    "df_heathrow['storm'] = 0\n",
    "df_heathrow.loc[df_heathrow[\"PRCP\"] >= rain99, \"storm\"] = 1\n",
    "df_heathrow['DATE'] = pd.to_datetime(df_heathrow['DATE'], format='%d/%m/%Y')\n",
    "df_heathrow['Year'] = pd.to_datetime(df_heathrow['DATE']).dt.strftime('%Y')\n",
    "\n",
    "# Calculate the mean number of storm events per year in the timeseries\n",
    "mean_storms = df_heathrow.groupby(['Year'])['storm'].sum().mean()\n",
    "print(f'The mean number of storm events per year is now {mean_storms:.2f}')\n",
    "\n",
    "# Plot the probability of different numbers of storms per year occurring\n",
    "num_occurrences = np.arange(0, step=1, stop=df_heathrow.groupby(['Year'])['storm'].sum().max()+1)\n",
    "pmf = poisson.pmf(k=num_occurrences, mu=mean_storms)\n",
    "fig, ax = plt.subplots(1, 1, figsize=(12, 9))\n",
    "plt.bar(num_occurrences, pmf * 100)\n",
    "plt.xlabel('Number of storms')\n",
    "plt.ylabel('Probability')\n",
    "plt.show()\n",
    "\n",
    "prob = poisson.pmf(k=5, mu=mean_storms)*100\n",
    "print(f'The probability of Heathrow having 5 storms a year is now {prob:.2f}%')\n",
    "print(f'This is equivalent to a 1-in-{100/prob:.0f} year event')"
   ]
  },
  {
   "cell_type": "code",
   "execution_count": null,
   "id": "6d0a2429-d0f7-4b69-bea8-2a0b0a386cf7",
   "metadata": {},
   "outputs": [],
   "source": []
  }
 ],
 "metadata": {
  "kernelspec": {
   "display_name": "Python 3 + Jaspy",
   "language": "python",
   "name": "jaspy"
  },
  "language_info": {
   "codemirror_mode": {
    "name": "ipython",
    "version": 3
   },
   "file_extension": ".py",
   "mimetype": "text/x-python",
   "name": "python",
   "nbconvert_exporter": "python",
   "pygments_lexer": "ipython3",
   "version": "3.10.5"
  }
 },
 "nbformat": 4,
 "nbformat_minor": 5
}
