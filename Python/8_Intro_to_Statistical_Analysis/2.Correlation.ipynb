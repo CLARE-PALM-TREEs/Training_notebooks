{
 "cells": [
  {
   "cell_type": "markdown",
   "id": "a7d5c9bd",
   "metadata": {},
   "source": [
    "## Aims\n",
    "\n",
    "This course will teach you about calculating correlations and significance testing, and introduce some ways to visualise the results.\n",
    "\n",
    "\n",
    "Prior knowledge of Python, NumPy, Pandas, Iris, and Matplolib are assumed for this course."
   ]
  },
  {
   "cell_type": "markdown",
   "id": "a9dd8cba",
   "metadata": {},
   "source": [
    "## Table of Contents\n",
    "\n",
    "* [Correlation](#correlation)\n",
    "* [Correlation Coefficient](#correlation_coefficient)\n",
    "* [Significance Testing](#significance_testing)\n",
    "* [Examples using SciPy](#examples_scipy)\n",
    "* [Examples using NumPy](#examples_numpy)\n",
    "* [Examples using Pandas](#examples_pandas)\n",
    "* [Correlation Coefficient Matrices](#correlation_matrix)\n",
    "* [Examples using Iris](#examples_iris)\n",
    "* [Exercise 1](#exercise1)\n"
   ]
  },
  {
   "cell_type": "markdown",
   "id": "43b39b9d",
   "metadata": {},
   "source": [
    "## Correlation<a class=\"anchor\" id=\"correlation\"></a>\n",
    "\n",
    "Measures of correlation describe the relationship between two pairs of data. \n",
    "\n",
    "**Positive correlation** exists when the values in one dataset increase as the values in the other dataset increase, or when the values in one dataset decrease as the values in the other dataset decrease (the elements in the two datasets change in the same direction).\n",
    "\n",
    "**Negative correlation** exists when the values in one dataset decrease as the values in the other dataset increase (the elements in the two datasets change in the oppposite direction. \n",
    "\n",
    "**No correlation** exists between two datasets that show no linear relationship to each other. "
   ]
  },
  {
   "cell_type": "code",
   "execution_count": null,
   "id": "f3b9cada",
   "metadata": {},
   "outputs": [],
   "source": [
    "import matplotlib.pyplot as plt\n",
    "\n",
    "\n",
    "fig, (ax1, ax2, ax3) = plt.subplots(3, figsize=(5, 15))\n",
    "\n",
    "datapos1 = [5, 9, 7, 6, 4, 3, 2]\n",
    "datapos2 = [5, 2, 3, 4, 5, 6, 7]\n",
    "\n",
    "ax1.scatter(datapos1, datapos2)\n",
    "ax1.set_title('Negative Correlation')\n",
    "\n",
    "datano1 = [5, 5, 4, 6, 3, 6, 7]\n",
    "datano2 = [5, 6, 7, 6, 4, 8, 4]\n",
    "\n",
    "ax2.scatter(datano1, datano2)\n",
    "ax2.set_title('No Correlation')\n",
    "\n",
    "dataneg1 = [5, 9, 7, 6, 4, 3, 2]\n",
    "dataneg2 = [4, 7, 5, 4, 3, 2, 1]\n",
    "\n",
    "ax3.scatter(dataneg1, dataneg2)\n",
    "ax3.set_title('Positive Correlation')\n",
    "\n",
    "for ax in [ax1, ax2, ax3]:\n",
    "    ax.set_xlim(1,10)\n",
    "    ax.set_ylim(1,10)\n",
    "    ax.set_xticks([1,2,3,4,5,6,7,8,9,10])\n",
    "    ax.set_xticklabels([1,2,3,4,5,6,7,8,9,10])\n",
    "    \n",
    "fig.tight_layout()"
   ]
  },
  {
   "cell_type": "markdown",
   "id": "6277c546",
   "metadata": {},
   "source": [
    "## Correlation coefficient<a class=\"anchor\" id=\"correlation_coefficient\"></a>\n",
    "\n",
    "The correlation coefficient is the measure of the relationship between the two datasets. The correlation coefficient can range from -1 to 1, where:\n",
    "- values less than 0 denote a negative correlation, \n",
    "- values greater than 0 denote a positive correlation and \n",
    "- 0 itself denotes no correlation. \n",
    "\n",
    "The closer the correlation coefficient is to either 1 or -1, the stronger the correlation and the closer the correlation coefficient is to 0, the weaker the correlation.\n",
    "\n",
    "The correlation between datasets can be calculated by using the **Pearson's correlation** if the data are normally distributed and by using the **Spearman's correlation** if the relationship is non-linear or the data are not normally distributed. The Spearman's correlation may also be used for linearly-related data but the computed correlations will be weaker. If the distribution of the data or the possible relationships are not known, use the Spearman's correlation."
   ]
  },
  {
   "cell_type": "markdown",
   "id": "230b7c3b",
   "metadata": {},
   "source": [
    "## Significance testing<a class=\"anchor\" id=\"significance_testing\"></a>\n",
    "\n",
    "The correlation coefficient quantifies the relationship between two datasets, but the datasets are samples of the total population and if a different sample were drawn from the population, the relationship could be different. In order to identify whether the correlation between datasets is likely to be indiciative of the population not just the sample, significance testing must be performed.\n",
    "\n",
    "The **p-value** is the probability that the correlation in the sample datasets occured by chance. The evaluation of the p-value is determined at a **significance level**, which is typically 0.01, 0.05 or 0.1:\n",
    "\n",
    "- A p=value of 0.01 or below means that we can reject the null hypothesis and conclude that the correlation is statistically significant with 99% confidence (there is a 1% chance that the null hypothesis was correct). \n",
    "- A p=value of 0.05 or below means that we can reject the null hypothesis and conclude that the correlation is statistically significant with 95% confidence (there is a 5% chance that the null hypothesis was correct). \n",
    "- A p=value of 0.1 or below means that we can reject the null hypothesis and conclude that the correlation is statistically significant with 90% confidence (there is a 10% chance that the null hypothesis was correct). \n",
    "\n"
   ]
  },
  {
   "cell_type": "markdown",
   "id": "2d3b60a0",
   "metadata": {},
   "source": [
    "## Examples using the SciPy library<a class=\"anchor\" id=\"examples_scipy\"></a>"
   ]
  },
  {
   "cell_type": "code",
   "execution_count": null,
   "id": "05b9712e",
   "metadata": {},
   "outputs": [],
   "source": [
    "from scipy.stats import pearsonr\n",
    "from scipy.stats import spearmanr\n",
    "\n",
    "\n",
    "sample1 = [2, 5, 4, 23, 4, 5, 15, 1]\n",
    "sample2 = [1, 3, 5, 20, 2, 6, 12, 2]\n",
    "\n",
    "'''Pearsons correlation'''\n",
    "coefficient,pval = pearsonr(sample1,sample2)\n",
    "print(f'''Pearson's Correlation coefficient = {coefficient}''')\n",
    "print(f'P-value = {pval}')\n",
    "\n",
    "'''Spearmans correlation'''\n",
    "coefficient,pval = spearmanr(sample1,sample2)\n",
    "print(f'''Spearman's Correlation coefficient = {coefficient}''')\n",
    "print(f'P-value = {pval}')\n",
    "\n",
    "print(f'This is a strong positive correlation that is significant at the 99% confidence interval')"
   ]
  },
  {
   "cell_type": "markdown",
   "id": "55257917",
   "metadata": {},
   "source": [
    "<font color='red'>**NOTE**</font>:  It is good practice to **always** plot the data because it is possible to get high correlations when no relationship exists and low correlations when a relationship does exist, e.g. see below."
   ]
  },
  {
   "cell_type": "code",
   "execution_count": null,
   "id": "b7e6b5ba",
   "metadata": {},
   "outputs": [],
   "source": [
    "import matplotlib.pyplot as plt\n",
    "from scipy.stats import pearsonr\n",
    "from scipy.stats import spearmanr\n",
    "\n",
    "fig, (ax1, ax2) = plt.subplots(2)\n",
    "\n",
    "sample1 = [5, 5, 5, 5, 5, 5, 15]\n",
    "sample2 = [5, 2, 3, 4, 5, 6, 7]\n",
    "coefficient,pval = pearsonr(sample1,sample2)\n",
    "\n",
    "ax1.scatter(sample1, sample2)\n",
    "ax1.set_title(f'Correlated ({coefficient:.2f})')\n",
    "\n",
    "sample3 = [1, 2, 3, 4, 5, 6, 7]\n",
    "sample4 = [1, 4, 8, 16, 8, 4, 1]\n",
    "coefficient,pval = pearsonr(sample3,sample4)\n",
    "\n",
    "ax2.scatter(sample3, sample4)\n",
    "ax2.set_title(f'Not correlated ({coefficient:.2f})')\n",
    "    \n",
    "fig.tight_layout()"
   ]
  },
  {
   "cell_type": "markdown",
   "id": "d5d7d8d4",
   "metadata": {},
   "source": [
    "## Examples using the NumPy library<a class=\"anchor\" id=\"examples_numpy\"></a>"
   ]
  },
  {
   "cell_type": "code",
   "execution_count": null,
   "id": "9aad3358",
   "metadata": {},
   "outputs": [],
   "source": [
    "import numpy as np\n",
    "\n",
    "'''Pearsons correlation'''\n",
    "sample1 = [2, 5, 4, 23, 4, 5, 15, 1]\n",
    "sample2 = [1, 3, 5, 20, 2, 6, 12, 2]\n",
    "coefficient = np.corrcoef(sample1, sample2)\n",
    "print(f'Correlation coefficient =')\n",
    "print(f'{coefficient}\\n')\n",
    "\n",
    "# Note that this returns the correlation coefficient matrix, meaning that the value in\n",
    "# the upper-left is the correlation between sample1 and sample1\n",
    "# the upper-right is the correlation between sample1 and sample2\n",
    "# the lower-left is the correlation between sample2 and sample2\n",
    "# the lower-right is the correlation between sample2 and sample1\n",
    "# so to extract the correlation we are interested in this must be specified:\n",
    "\n",
    "print(f'Correlation coefficient = {coefficient[0,1]}')\n",
    "\n",
    "# Note that NumPy does not return the p-value\n"
   ]
  },
  {
   "cell_type": "markdown",
   "id": "9c3527d3",
   "metadata": {},
   "source": [
    "## Examples using the Pandas library<a class=\"anchor\" id=\"examples_pandas\"></a>"
   ]
  },
  {
   "cell_type": "code",
   "execution_count": null,
   "id": "6d12e1dd",
   "metadata": {},
   "outputs": [],
   "source": [
    "import pandas as pd\n",
    "\n",
    "'''Pearsons correlation'''\n",
    "sample1 = [2, 5, 4, 23, 4, 5, 15, 1]\n",
    "sample2 = [1, 3, 5, 20, 2, 6, 12, 2]\n",
    "sample_df = pd.DataFrame(list(zip(sample1, sample2)), columns=['sample1', 'sample2'])\n",
    "coefficient = sample_df.sample1.corr(sample_df.sample2)\n",
    "print(coefficient)\n",
    "\n",
    "# Note that Pandas does not return the p-value directly, use:\n",
    "\n",
    "import numpy as np\n",
    "from scipy.stats import pearsonr\n",
    "pval = sample_df.corr(method=lambda x, y: pearsonr(x, y)[1]) - np.eye(len(sample_df.columns))\n",
    "print(f'P-value = \\n{pval}')\n",
    "\n",
    "print(f'This is a strong positive correlation that is significant at the 99% confidence interval')"
   ]
  },
  {
   "cell_type": "markdown",
   "id": "46880396",
   "metadata": {},
   "source": [
    "## Correlation Coefficient Matrices<a class=\"anchor\" id=\"correlation_matrix\"></a>\n",
    "It can be useful to compute the correlations between all combinations of more than two datasets and visualise the correlations. The correlation matrix can be generated using `pandas` and then visualised using a Python library called `seaborn`. Another method of visualising the relationships (including correlations) is also demonstrated."
   ]
  },
  {
   "cell_type": "code",
   "execution_count": null,
   "id": "99bdc88f",
   "metadata": {},
   "outputs": [],
   "source": [
    "import seaborn as sn\n",
    "import pandas as pd\n",
    "\n",
    "sample1 = [2, 5, 4, 23, 4, 5, 15, 1]\n",
    "sample2 = [1, 3, 5, 20, 2, 6, 12, 2]\n",
    "sample3 = [3, 3, 6, 26, 4, 8, 13, 1]\n",
    "sample_df = pd.DataFrame(list(zip(sample1, sample2, sample3)), columns=['sample1', 'sample2', 'sample3'])\n",
    "correlation_matrix = sample_df.corr()\n",
    "sn.heatmap(correlation_matrix, annot=True, cmap='BuPu')"
   ]
  },
  {
   "cell_type": "code",
   "execution_count": null,
   "id": "2b4644dd",
   "metadata": {},
   "outputs": [],
   "source": [
    "import seaborn as sn\n",
    "import pandas as pd\n",
    "from scipy.stats import pearsonr\n",
    "import matplotlib.pyplot as plt\n",
    "\n",
    "def reg_coef(x,y,label=None,color=None,**kwargs):\n",
    "    ax = plt.gca()\n",
    "    corr,pval = pearsonr(x,y)\n",
    "    ax.annotate('Correlation\\n{:.2f}'.format(corr), xy=(0.5,0.5), xycoords='axes fraction', ha='center')\n",
    "    ax.set_axis_off()\n",
    "\n",
    "sample1 = [2, 5, 4, 23, 4, 5, 15, 1]\n",
    "sample2 = [1, 3, 5, 20, 2, 6, 12, 2]\n",
    "sample3 = [3, 3, 6, 26, 4, 8, 13, 1]\n",
    "sample_df = pd.DataFrame(list(zip(sample1, sample2, sample3)), columns=['sample1', 'sample2', 'sample3'])\n",
    "\n",
    "pg = sn.PairGrid(sample_df)\n",
    "pg.map_diag(sn.histplot)\n",
    "pg.map_lower(sn.regplot)\n",
    "pg.map_upper(reg_coef)"
   ]
  },
  {
   "cell_type": "markdown",
   "id": "b8c50886",
   "metadata": {},
   "source": [
    "## Examples using the Iris library<a class=\"anchor\" id=\"examples_iris\"></a>\n",
    "\n",
    "By calculating the correlation between a dataset and every cell on a grid, spatial patterns can be identified on a map. See the example below correlating the air temperature in South Africa between January and March to global sea surface temperatures. There is a significant positive correlation between the temperature in South Africa and the sea surface temperatures in the eastern Pacific, suggesting a relationship to ENSO."
   ]
  },
  {
   "cell_type": "code",
   "execution_count": null,
   "id": "1ad2e1bd",
   "metadata": {},
   "outputs": [],
   "source": [
    "import iris\n",
    "import numpy as np\n",
    "import iris.analysis\n",
    "import pandas as pd\n",
    "from scipy.stats import pearsonr\n",
    "from matplotlib import pyplot as plt\n",
    "import cartopy.crs as ccrs\n",
    "import iris.plot as iplt\n",
    "from matplotlib import colors as clr, cm\n",
    "import matplotlib as mpl\n",
    "import cartopy.feature as cfeature\n",
    "import warnings\n",
    "warnings.filterwarnings('ignore')\n",
    "\n",
    "\n",
    "def create_new_cube(cube_to_copy, long_name):\n",
    "    '''\n",
    "    Creates an iris cube with a single time dimension\n",
    "    \n",
    "    Input:\n",
    "    -----\n",
    "    * cube_to_copy\n",
    "    iris cube of the cube_to_copy data\n",
    "    \n",
    "    Returns:\n",
    "    * cube\n",
    "    iris cube with a single time dimension\n",
    "    '''\n",
    "    corr_cube = cube_to_copy.copy()\n",
    "    corr_cube.long_name = long_name\n",
    "    corr_cube.standard_name = None\n",
    "    corr_cube.units = ''\n",
    "    corr_cube = corr_cube.collapsed('time', iris.analysis.MEAN)\n",
    "    return corr_cube\n",
    "\n",
    "def correlate(df_data1, cube_data2, fieldname):\n",
    "    '''\n",
    "    Calculates the correlations between a DataFrame and a cube\n",
    "    \n",
    "    Input:\n",
    "    -----\n",
    "    * df_data1\n",
    "        pandas DataFrame of the Jan-Mar air temperature over South Africa\n",
    "    * cube_data2\n",
    "        iris cube of sea surface temperatures\n",
    "    * fieldname\n",
    "        string of the name of the column to use in the DataFrame\n",
    "    \n",
    "    Returns:\n",
    "    --------\n",
    "    * corr_cube\n",
    "        iris cube of the calculated correlation coefficients\n",
    "    * corr_pvals_cube\n",
    "        iris cube of the p-values of the calculated correlation coefficients\n",
    "    '''\n",
    "    corr_cube = create_new_cube(cube_data2, 'Pearson Correlation Coefficient')\n",
    "    pval_cube = create_new_cube(cube_data2, 'p-values')\n",
    "    num_lats = len(cube_data2.coord('latitude').points)\n",
    "    num_lons = len(cube_data2.coord('longitude').points)\n",
    "    \n",
    "    for i,lat in enumerate(cube_data2.coord('latitude').points):\n",
    "        print('lat {} of {}'.format(i+1, num_lats))\n",
    "        for j,lon in enumerate(cube_data2.coord('longitude').points):\n",
    "            cube_lat_lon = cube_data2.extract(iris.Constraint(latitude=lat, longitude=lon))\n",
    "            corrcoefs, p_vals = pearsonr(df_data1[fieldname], cube_lat_lon.data.data)\n",
    "            corr_cube.data[i,j] = corrcoefs\n",
    "            pval_cube.data[i,j] = p_vals\n",
    "    return corr_cube, pval_cube\n",
    "\n",
    "df_data1 = pd.read_csv('data/South_Africa_JFM_temperature.csv')\n",
    "cube_data2 = iris.load_cube('data/OBS-ERA5_5deg_sst_jfm_1979_2018_low_res_5deg.nc')\n",
    "\n",
    "corr_cube, corr_pvals_cube = correlate(df_data1, cube_data2, 'Temperature_anomaly')\n",
    "\n",
    "fig = plt.figure()\n",
    "pcf = iplt.contourf(corr_cube, [-1, -0.8, -0.6, -0.4, -0.2, 0, 0.2, 0.4, 0.6, 0.8, 1], cmap='brewer_RdBu_11')\n",
    "iplt.contourf(corr_pvals_cube, colors='none', levels=[0.0, 0.05], hatches=['xx']) \n",
    "plt.gca().add_feature(cfeature.LAND, zorder=10, edgecolor='k', facecolor='white')\n",
    "cax = fig.add_axes([0.27, 0.08, 0.5, 0.04])\n",
    "cb = fig.colorbar(pcf, cax=cax, extend='None', orientation='horizontal')\n",
    "cb.set_label('Pearson correlation coefficient', size=15)"
   ]
  },
  {
   "cell_type": "markdown",
   "id": "74d0530d",
   "metadata": {},
   "source": [
    "## Exercise 1<a class=\"anchor\" id=\"exercise_1\"></a>\n",
    "\n",
    "Using any Python method, calculate the correlation matrix between the temperature and precipitation in South Africa and the maize yield, imports, exports and production. \n",
    "- Which two variables have the strongest positive correlation? \n",
    "- Which two variables have the strongest negative correlation? \n",
    "- Which two variables have the weakest correlation?\n"
   ]
  },
  {
   "cell_type": "code",
   "execution_count": null,
   "id": "0b8ea754",
   "metadata": {},
   "outputs": [],
   "source": [
    "import pandas as pd\n",
    "\n",
    "df_data = pd.read_csv('data/South_Africa_JFM_climate_crop_data.csv')"
   ]
  },
  {
   "cell_type": "markdown",
   "id": "e8daa2be",
   "metadata": {},
   "source": [
    "<br>\n",
    "<br>\n",
    "<br>\n",
    "<br>\n",
    "<br>\n",
    "<br>\n",
    "<br>\n",
    "<br>\n",
    "<br>\n",
    "<br>\n",
    "<br>\n",
    "<br>\n",
    "**Solution**\n",
    "\n",
    "<font color='red'>**NOTE**</font>: Your methods can include any Python library\n",
    "\n",
    "Maize yield and production have the strongest positive correlation\n",
    "Maize yield and temperature have the strongest negative correlation\n",
    "Exports and precipitation have the weakest correlation"
   ]
  }
 ],
 "metadata": {
  "kernelspec": {
   "display_name": "Python 3 + Jaspy",
   "language": "python",
   "name": "jaspy"
  },
  "language_info": {
   "codemirror_mode": {
    "name": "ipython",
    "version": 3
   },
   "file_extension": ".py",
   "mimetype": "text/x-python",
   "name": "python",
   "nbconvert_exporter": "python",
   "pygments_lexer": "ipython3",
   "version": "3.10.5"
  }
 },
 "nbformat": 4,
 "nbformat_minor": 5
}
