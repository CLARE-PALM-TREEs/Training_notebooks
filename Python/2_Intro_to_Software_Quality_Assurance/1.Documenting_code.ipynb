{
 "cells": [
  {
   "cell_type": "markdown",
   "id": "ed96bcc1",
   "metadata": {},
   "source": [
    "<img src=\"images/Project_logos.png\" width=\"500\" height=\"300\" align=\"center\">"
   ]
  },
  {
   "cell_type": "markdown",
   "id": "970b26ea",
   "metadata": {},
   "source": [
    "## Documentation\n",
    "\n",
    "Documentation of code is information that describes the code to its users and can be in the form of:\n",
    "\n",
    "- documentation for modules, functions, classes and methods\n",
    "- comments\n",
    "- user guides\n",
    "- developer guides\n",
    "- Application Program Interface (API) documentation\n",
    "\n",
    "Documentation can also record the development of code in the form of:\n",
    "\n",
    "- ticket documentation that summarises the development of a change\n",
    "- log messages within a Version Control System that summarises individual changes\n",
    "- release documentation that summarises the major changes that users need to be aware of when upgrading to a new version of a system"
   ]
  },
  {
   "cell_type": "markdown",
   "id": "a10f355a",
   "metadata": {},
   "source": [
    "## Aims\n",
    "\n",
    "This course will teach you:\n",
    "\n",
    "  - why documentation is important\n",
    "  - how to document your code\n"
   ]
  },
  {
   "cell_type": "markdown",
   "id": "17d4cd2b",
   "metadata": {},
   "source": [
    "## Table of Contents\n",
    "\n",
    "* [Introduction to documentation](#why_document)\n",
    "* [Docstrings](#docstrings)\n",
    "* [Exercise 1](#exercise_1)"
   ]
  },
  {
   "cell_type": "markdown",
   "id": "3f16ed95",
   "metadata": {},
   "source": [
    "## Why is documentation important?<a class=\"anchor\" id=\"why_document\"></a>\n",
    "\n",
    "Making timely updates to documentation:\n",
    "\n",
    "- clarifies the code\n",
    "- makes the code easier to understand\n",
    "- provides a user with instructions on how to use the code\n",
    "- enables a developer to understand the system and make effective changes\n",
    "- ensures that edge cases and workarounds are explained"
   ]
  },
  {
   "cell_type": "markdown",
   "id": "3c55174c",
   "metadata": {},
   "source": [
    "## How?\n",
    "\n",
    "Documentation describing the code is best located with the code itself.\n",
    "\n",
    "Documentation:\n",
    "\n",
    "- is read by both users and developers of the code\n",
    "- should exist for all public modules, functions, classes and methods\n",
    "- describe the code in a way that is easy to understand\n",
    "- provide information about:\n",
    "    - what the code does\n",
    "    - any parameters, including type information, where appropriate\n",
    "    - what the code returns\n",
    "    - any exceptions the code may raise\n",
    "    - any issues / known bugs\n",
    "    - any examples\n",
    "\n",
    "Comments:\n",
    "\n",
    "- are typically only read by developers of the code\n",
    "- that contradict the code are worse than no comments (keep comments up to date!)\n",
    "- should be complete sentences\n",
    "- are indented to the same level as the code"
   ]
  },
  {
   "cell_type": "markdown",
   "id": "87ab3f78",
   "metadata": {},
   "source": [
    "## Docstrings<a class=\"anchor\" id=\"docstrings\"></a>\n",
    "\n",
    "In Python, documentation for modules, functions, classes and methods is provided via docstrings.\n",
    "\n",
    "Docstrings:\n",
    "\n",
    "- occur as the first statement in the module, function, class or method definition\n",
    "- are strings contained within \"\"\"triple double quotes\"\"\"\n",
    "- should include a summary line specifying the effect as a command, e.g. Return the ...\n",
    "\n",
    "Consider the following function:\n",
    "\n",
    "<font color='red'>**NOTE**</font>: the following cell is for reference only; there is no need to execute this cell."
   ]
  },
  {
   "cell_type": "code",
   "execution_count": null,
   "id": "8518344b",
   "metadata": {},
   "outputs": [],
   "source": [
    "def pascal_to_atmosphere(pascal):\n",
    "    if not isinstance(pascal, Number):\n",
    "        raise TypeError('Please provide a numerical value')\n",
    "    atmosphere = float(pascal / 101325.0)\n",
    "    return atmosphere"
   ]
  },
  {
   "cell_type": "markdown",
   "id": "c1e2adaa",
   "metadata": {},
   "source": [
    "What could be documented in this case?\n",
    "\n",
    "- what the code does\n",
    "- the parameter, including type information\n",
    "- what the code returns\n",
    "- the exception the code raises\n",
    "- an example"
   ]
  },
  {
   "cell_type": "markdown",
   "id": "a7385371",
   "metadata": {},
   "source": [
    "## Exercise 1<a class=\"anchor\" id=\"exercise_1\"></a>\n",
    "\n",
    "Write a docstring for the pascal_to_atmosphere function below. Replace the text inside <> with your documentation.\n",
    "\n",
    "<font color='red'>**NOTE**</font>: the following cell is for reference only; there is no need to execute this cell."
   ]
  },
  {
   "cell_type": "code",
   "execution_count": null,
   "id": "c93765bd",
   "metadata": {},
   "outputs": [],
   "source": [
    "def pascal_to_atmosphere(pascal):\n",
    "    \"\"\"\n",
    "    <summary_line>\n",
    "    \n",
    "    Parameters\n",
    "    ----------\n",
    "    pascal : number\n",
    "        <description>\n",
    "    \n",
    "    Returns\n",
    "    -------\n",
    "    <type>\n",
    "        <description>\n",
    "        \n",
    "    Raises\n",
    "    ------\n",
    "    <exception>\n",
    "        <description of when the exception is raised>\n",
    "    \n",
    "    Example\n",
    "    -------\n",
    "    >>> <example input value for pascal>\n",
    "    >>> <example usage of the function>\n",
    "    >>> <example output from the function using the example input value>\n",
    "    \"\"\"\n",
    "    if not isinstance(pascal, Number):\n",
    "        raise TypeError('Please provide a numerical value')\n",
    "    atmosphere = float(pascal / 101325.0)\n",
    "    return atmosphere"
   ]
  },
  {
   "cell_type": "markdown",
   "id": "c3c182eb",
   "metadata": {},
   "source": [
    "<br>\n",
    "<br>\n",
    "<br>\n",
    "<br>\n",
    "<br>\n",
    "<br>\n",
    "<br>\n",
    "<br>\n",
    "<br>\n",
    "<br>\n",
    "<br>\n",
    "<br>\n",
    "**Solution**\n",
    "\n",
    "<font color='red'>**NOTE**</font>: the following cell is for reference only; there is no need to execute this cell."
   ]
  },
  {
   "cell_type": "code",
   "execution_count": null,
   "id": "c055778a",
   "metadata": {},
   "outputs": [],
   "source": [
    "def pascal_to_atmosphere(pascal):\n",
    "    \"\"\"\n",
    "    Return the pressure in units of atmosphere.\n",
    "    \n",
    "    Parameters\n",
    "    ----------\n",
    "    pascal : number\n",
    "        The pressure in units of pascal.\n",
    "    \n",
    "    Returns\n",
    "    -------\n",
    "    float\n",
    "        The pressure in units of atmosphere.\n",
    "        \n",
    "    Raises\n",
    "    ------\n",
    "    TypeError\n",
    "        When `pascal` is not a number.\n",
    "    \n",
    "    Example\n",
    "    -------    \n",
    "    >>> pressure_in_pascal = 97348.0\n",
    "    >>> pressure_in_atmosphere = pascal_to_atmosphere(pressure_in_pascal)\n",
    "    >>> pressure_in_atmosphere = 0.96\n",
    "    \"\"\"\n",
    "    if not isinstance(pascal, Number):\n",
    "        raise TypeError('Please provide a numerical value')\n",
    "    atmosphere = float(pascal / 101325.0)\n",
    "    return atmosphere"
   ]
  }
 ],
 "metadata": {
  "kernelspec": {
   "display_name": "Python 3 (ipykernel)",
   "language": "python",
   "name": "python3"
  },
  "language_info": {
   "codemirror_mode": {
    "name": "ipython",
    "version": 3
   },
   "file_extension": ".py",
   "mimetype": "text/x-python",
   "name": "python",
   "nbconvert_exporter": "python",
   "pygments_lexer": "ipython3",
   "version": "3.11.4"
  }
 },
 "nbformat": 4,
 "nbformat_minor": 5
}
