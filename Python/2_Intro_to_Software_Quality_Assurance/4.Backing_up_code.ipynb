{
 "cells": [
  {
   "cell_type": "markdown",
   "id": "ed96bcc1",
   "metadata": {},
   "source": [
    "<img src=\"images/Project_logos.png\" width=\"500\" height=\"300\" align=\"center\">"
   ]
  },
  {
   "cell_type": "markdown",
   "id": "970b26ea",
   "metadata": {},
   "source": [
    "## Backing up code\n",
    "\n",
    "A Version Control System (VCS) is a system that tracks changes as incremental versions (or revisions) of any collection of files and directories over time\n",
    "\n",
    "The files can be any type of file:\n",
    "- simple text files, e.g. code, LaTeX source (changes are easy to see)\n",
    "- binary files, e.g. images, PDFs, Word documents (changes are difficult to see)\n",
    "\n",
    "Typically, files that can be automatically generated are not included\n",
    "for very large files, consider alternative storage solutions, e.g. MASS\n",
    "enables collaborative editing and sharing of those files and directories\n",
    "\n",
    "Example VCSs include Git, Concurrent Versions System (CVS) and Subversion (SVN).\n",
    "\n",
    "Some VCSs are also Software Configuration Management (SCM) systems, which:\n",
    "\n",
    "- are specifically tailored to manage trees of source code\n",
    "- have many features that are specific to software development, e.g. supplying tools for building software\n",
    "\n",
    "Examples include Flexible Configuration Management (FCM; which uses SVN) and BitBucket (which uses Git)."
   ]
  },
  {
   "cell_type": "markdown",
   "id": "a10f355a",
   "metadata": {},
   "source": [
    "## Aims\n",
    "\n",
    "This course will teach you:\n",
    "\n",
    "  - why using a verson control system for your code is important\n",
    "  - how to use Git\n"
   ]
  },
  {
   "cell_type": "markdown",
   "id": "17d4cd2b",
   "metadata": {},
   "source": [
    "## Table of Contents\n",
    "\n",
    "* [Why using a version control system is important](#vcs_importance)\n",
    "* [Introduction to version control systems](#intro_vcs)\n",
    "* [Introduction to Git](#intro_git)\n",
    "    * [Cloning a remote repository](#clone_remote)\n",
    "    * [Adding local repository changes to the remote repository](#local_to_remote)\n",
    "    * [Branches](#branches)\n",
    "    * [Other useful commands](#other_commands)"
   ]
  },
  {
   "cell_type": "markdown",
   "id": "917d45fa",
   "metadata": {},
   "source": [
    "## Why using a version control system is important<a class=\"anchor\" id=\"vcs_importance\"></a>\n",
    "\n",
    "A VCS:\n",
    "\n",
    "- allows the exploration of all changes, making it possible to\n",
    "    - examine the history of how and why the files changed over time\n",
    "    - request older versions of the files from the repository, e.g. if code is lost\n",
    "    - revert files back to a previous state, e.g. if a change was made in error\n",
    "</br>\n",
    "- makes it easy to collaborate, such that:\n",
    "    - multiple people can modify and manage the same set of files on different computers from their respective locations, keeping track of who made which changes\n",
    "    - progress can occur more quickly without a single conduit through which all modifications must occur\n",
    "    - you can see who last modified something that might be causing a problem\n",
    "</br>\n",
    "- is convenient, providing the ability to easily:\n",
    "    - compare different versions of the files\n",
    "    - experiment with the code while keeping a fully functioning copy\n",
    "    - share the files"
   ]
  },
  {
   "cell_type": "markdown",
   "id": "3f16ed95",
   "metadata": {},
   "source": [
    "## Introduction to version control systems<a class=\"anchor\" id=\"intro_vcs\"></a>\n",
    "\n",
    "At the core of the VCS (e.g. SVN, Git) is a repository, which is the central location where the collection of files and directories are stored (typically on a remote server).\n",
    "\n",
    "A user can work freely on a local copy, or working copy, of a particular version of the repository by checking out the version they want to work on.\n",
    "\n",
    "The VCS client software (e.g. svn, git) is used to manage the working copy and to communicate changes made to its contents to and from the repository.\n",
    "\n",
    "Within a repository, the collection of files and directories exist in:\n",
    "\n",
    "- a main development line (trunk for SVN, master or main for Git)\n",
    "- any number of other development lines that exist independently from each other (branches)\n",
    "\n",
    "A branch is created by making a copy of any development line at any revision:\n",
    "\n",
    "By making changes to a branch, the main development line remains intact, so can be confidently used and released at any time.\n",
    "\n",
    "Typically, branches are created from the latest revision of the main development line to minimise the chances of conflicts when merging the changes back to the main development line."
   ]
  },
  {
   "cell_type": "markdown",
   "id": "743ba7a0",
   "metadata": {},
   "source": [
    "## Introduction to Git<a class=\"anchor\" id=\"intro_git\"></a>\n",
    "\n",
    "You have already created a Github account and used git to download these training materials, but now we will look at git in more detail.\n",
    "\n",
    "Once you have created a new git repository and made a local `clone` of it in your **working directory**, any changes you make to the code in the working directory will only be included in the repository once you have **added** the code changes to a **staging area** and then **committed** those code changes to the **local repository**. Once in the local repository the code changes cannot be accessed by anyone else until they have been **pushed** to the **remote repository**. It is the remote repository that you see in GitHub. It you are working on the code with someone else or a team and they are also pushing changes to the remote repository, you cannot see those remote changes until you **pull** the changes back to your local repository.\n",
    "\n",
    "\n",
    "<img src=\"images/basic_git_architecture.png\" width=\"800\"  align=\"center\">"
   ]
  },
  {
   "cell_type": "markdown",
   "id": "08c803e3",
   "metadata": {},
   "source": [
    "### Cloning a remote repository<a class=\"anchor\" id=\"clone_remote\"></a>\n",
    "\n",
    "As you will have done for these training materials, \n",
    "\n",
    "<img src=\"images/clone_git_repository.png\" width=\"800\"  align=\"center\">"
   ]
  },
  {
   "cell_type": "markdown",
   "id": "ca8302fd",
   "metadata": {},
   "source": [
    "### Adding local repository changes to the remote repository<a class=\"anchor\" id=\"local_to_remote\"></a>\n",
    "\n",
    "As you make changes to the code in your working directory, you need to commit these changes to your local repo. Do this frequently!\n",
    "\n",
    "To check what files have been changed and need committing, from the command line type:\n",
    "\t`git status`\n",
    "    \n",
    "To add the files to the staging area, type:\n",
    "\t`git add <file_name>` or `git add <file_name> <file_name> <file_name>` or `git add *`\n",
    "\n",
    "Use `git status` to check that you have added all the files you want to.\n",
    "\n",
    "To commit the changes to the local repo, type:\n",
    "\t`git commit –m “<short description of changes made>\"`\n",
    "    \n",
    "You may want to add all the files in one go, or you may want to add the files in groups of common changes\n",
    "\n",
    "Finally, push your commit to the local repo by typing:\n",
    "`git push origin <branch_name>\"` where the branch name is \"master\" or \"main\", or the name of the branch you are in.\n"
   ]
  },
  {
   "cell_type": "markdown",
   "id": "28d4c54e",
   "metadata": {},
   "source": [
    "### Branches<a class=\"anchor\" id=\"branches\"></a>\n",
    "\n",
    "When you first clone the repository, you will be on the “master” (or sometimes called the \"main\") branch.\n",
    "\n",
    "It is a good idea not to make changes directly on the master branch unless you are the only person using the repo. \n",
    "Instead, make changes on a branch.\n",
    "\n",
    "To create a new branch from the master branch, cd into the directory with the local repo clone and type:\n",
    "\t`git checkout –b <branch_name>`, where the branch_name can be anything you like\n",
    "\n",
    "Sometimes you might want to create a branch from a branch from the master branch\n",
    "\n",
    "When you have finished the work on your branch you `push` your changes to the remote repo and `merge` the branch\n"
   ]
  },
  {
   "cell_type": "markdown",
   "id": "facfbdd7",
   "metadata": {},
   "source": [
    "### Merging your branch into master (Option 1: via the command line)\n",
    "\n",
    "First check that your branch has all the changes committed by typing:\n",
    "`git status`\n",
    "\n",
    "Checkout the master branch by typing:\n",
    "`git checkout master`\n",
    "\n",
    "Merge your branch into master by typing:\n",
    "`git merge --no-ff <branch_name>`\n",
    "\n",
    "Push the merge to the remote repo by typing:\n",
    "`git push origin master`"
   ]
  },
  {
   "cell_type": "markdown",
   "id": "f777cfae",
   "metadata": {},
   "source": [
    "### Merging your branch into master (Option 2: via Github)\n",
    "\n",
    "First check that your branch has all the changes committed by typing:\n",
    "`git status`\n",
    "\n",
    "Then go to “Pull requests” from github and create a new pull request\n",
    "\n",
    "<img src=\"images/new_pull_request.PNG\" width=\"800\"  align=\"center\">\n",
    "\n",
    "Select “master” (or \"main\") as the base and your branch as the compare and then click \"Compare & pull request\"\n",
    "\n",
    "Check and review the changes as necessary and then click \"Merge pull request\"\n"
   ]
  },
  {
   "cell_type": "markdown",
   "id": "d2467cd4",
   "metadata": {},
   "source": [
    "### Other useful commands<a class=\"anchor\" id=\"other_commands\"></a>\n",
    "\n",
    "If you are unsure exactly what changes have been made to a file and therefore what to put in your commit message, you can check the differences by typing:\n",
    "\t`git diff <file_name>`\n",
    "\n",
    "To get a quick overview of the previous commits, type:\n",
    "`git log`\n",
    "\n",
    "To get a list of all the branches in the repo, type:\n",
    "`git branch`\n",
    "\n",
    "To switch between branches, type:\n",
    "`git checkout <branch_name>”`\n",
    "\n",
    "To remove a file from git (delete), type:\n",
    "`git rm <file_name>`\n"
   ]
  }
 ],
 "metadata": {
  "kernelspec": {
   "display_name": "Python 3 (ipykernel)",
   "language": "python",
   "name": "python3"
  },
  "language_info": {
   "codemirror_mode": {
    "name": "ipython",
    "version": 3
   },
   "file_extension": ".py",
   "mimetype": "text/x-python",
   "name": "python",
   "nbconvert_exporter": "python",
   "pygments_lexer": "ipython3",
   "version": "3.11.4"
  }
 },
 "nbformat": 4,
 "nbformat_minor": 5
}
