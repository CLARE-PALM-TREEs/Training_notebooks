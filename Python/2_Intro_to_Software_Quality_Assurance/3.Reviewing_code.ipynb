{
 "cells": [
  {
   "cell_type": "markdown",
   "id": "ed96bcc1",
   "metadata": {},
   "source": [
    "<img src=\"images/Project_logos.png\" width=\"500\" height=\"300\" align=\"center\">"
   ]
  },
  {
   "cell_type": "markdown",
   "id": "970b26ea",
   "metadata": {},
   "source": [
    "## Reviewing code\n",
    "\n",
    "Code review is:\n",
    "\n",
    "- the systematic examination of code, including the corresponding tests and documentation\n",
    "- intended to find and fix mistakes overlooked in the initial development phase, which improves:\n",
    "    - the overall quality and maintainability of code\n",
    "    - the developers’ code writing skills, saving time in the long run\n",
    "\n",
    "New users can often provide helpful advice on what aspects of a system are confusing to use or badly explained.\n",
    "\n",
    "For scientific code, it may be useful to additionally perform a science review to ensure the changes are scientifically correct."
   ]
  },
  {
   "cell_type": "markdown",
   "id": "a10f355a",
   "metadata": {},
   "source": [
    "## Aims\n",
    "\n",
    "This course will teach you:\n",
    "\n",
    "  - why code reviews are important\n",
    "  - how to review code\n"
   ]
  },
  {
   "cell_type": "markdown",
   "id": "17d4cd2b",
   "metadata": {},
   "source": [
    "## Table of Contents\n",
    "\n",
    "* [Why reviewing code is important](#review_importance)\n",
    "* [How to review code](#reviewing_code)\n",
    "* [Exercise 1](#exercise_1)\n",
    "* [Writing unit tests](#writing_unit_tests)\n",
    "* [Exercise 2](#exercise_2)"
   ]
  },
  {
   "cell_type": "markdown",
   "id": "917d45fa",
   "metadata": {},
   "source": [
    "## Why reviewing code is important<a class=\"anchor\" id=\"review_importance\"></a>\n",
    "\n",
    "Everyone makes mistakes!\n",
    "\n",
    "Reviewing code:\n",
    "\n",
    "- verifies that it works as expected\n",
    "- helps to find and fix defects early in the process\n",
    "- increases shared knowledge of the code within a team\n",
    "- helps to maintain a level of consistency in design and implementation\n",
    "- provides a different perspective; \"another set of eyes\" adds objectivity and provide the distance needed to recognize problems"
   ]
  },
  {
   "cell_type": "markdown",
   "id": "3f16ed95",
   "metadata": {},
   "source": [
    "## How to review code<a class=\"anchor\" id=\"reviewing_code\"></a>\n",
    "\n",
    "- Review fewer than 200-400 lines of code (LOC) at a time:\n",
    "- Optimal results are achieved if this amount of code is reviewed over a period of ~1 hour\n",
    "\n",
    "The reviewee should:\n",
    "- ensure all tasks and features described in the code changes have been implemented, documented and tested before review.\n",
    "- check that changes unrelated to the current code changes are not part of the review.\n",
    "- ask someone to review the code\n",
    "- provide a link to the code and any other relevant information, e.g. how to build the documentation, how to run the tests (including how to set up the environment)\n",
    "\n",
    "The reviewer:\n",
    "- can request a pair review with the reviewee if they feel they need more information after an initial look at the code\n",
    "- spends ~1 hour at a time to review 200-400 LOC\n",
    "- repeats the previous step for reviews containing more than 200-400 LOC until all code has been reviewed:\n",
    "    - if the review consists of 1000 LOC, one approach is to spend 1 hour a day for three days performing the review\n",
    "- presents the review to the reviewee via the ticket, wiki pages, e-mails, or in person, as appropriate, and should:\n",
    "    - refer to the coding standards\n",
    "    - be prepared to offer constructive criticism on the code (not on the developer!)\n",
    "    - make positive comments oriented to improving the code\n",
    "    - ask questions rather than make statements; \"What was the reasoning behind this approach?\"\n",
    "        - avoid phrases like \"Why didn't you do x?\", which can come across as personal attacks\n",
    "        - do not make personal comments about the developer\n",
    "\n",
    "The reviewee should:\n",
    "- accept criticism in a constructive way\n",
    "- make changes to the code based on the reviewer's recommendations\n",
    "- document the important points from the review about why things were done (or not done) for whatever reasons for future reference\n",
    "- take steps to update the coding standards appropriately\n",
    "\n",
    "Reviewing code is part of the development process. As such, comments made by the reviewer - and any responses to those comments by the reviewee - should be kept together. This ensures that all changes, and the reasons for those changes, are documented in the same place.\n",
    "\n",
    "A sample checklist:\n",
    "\n",
    "- Code review:\n",
    "    - do the code changes match the aims described in the code change request?\n",
    "    - are there any changes unrelated to the current code changes that should be reviewed separately?\n",
    "    - have reasons for choosing a particular implementation been documented for future reference?\n",
    "    - is the code easy to understand?\n",
    "    - has duplicate code been avoided?\n",
    "    - does the code check for common errors?\n",
    "    - does the code handle errors appropriately?\n",
    "    - does the code comply to the coding standards?\n",
    "\n",
    "- Test review:\n",
    "    - have tests been included?\n",
    "    - do the tests demonstrate that the objectives of the code changes have been achieved?\n",
    "    - are the tests appropriate for the code?\n",
    "    - can the unit tests be executed?\n",
    "\n",
    "- Documentation review:\n",
    "    - has documentation been included?\n",
    "    - is the documentation easy to understand?\n",
    "    - can the documentation be built?\n",
    "    - is the documentation rendered correctly?"
   ]
  },
  {
   "cell_type": "markdown",
   "id": "a2046755",
   "metadata": {},
   "source": [
    "\n",
    "## Exercise 1<a class=\"anchor\" id=\"exercise_1\"></a>\n",
    "\n",
    "Perform a review of the code below\n",
    "\n",
    "<font color='red'>**NOTE**</font>: the following cell is for reference only; there is no need to execute this cell."
   ]
  },
  {
   "cell_type": "code",
   "execution_count": null,
   "id": "36f26c07",
   "metadata": {},
   "outputs": [],
   "source": [
    "def convert(filename):\n",
    "    input_file_object = open(filename, 'r')\n",
    "    raw_data = input_file_object.read()\n",
    "    data = []\n",
    "    for item in raw_data.split(','):\n",
    "        data.append(float(item))\n",
    "\n",
    "    atmospheres_file_object = open('atmospheres.txt', 'w')\n",
    "    fl = []\n",
    "    abc = []\n",
    "    for item in data:\n",
    "        if not isinstance(item, Number): raise TypeError('Not a number')\n",
    "        f=float(item / 101325.0)\n",
    "        fl.append(str(f))\n",
    "    atmospheres_file_object.write(','.join(fl))\n",
    "\n",
    "    millibars_file_object = open('millibars.txt', 'w')\n",
    "    cl = []\n",
    "    for item in data:\n",
    "        if not isinstance(item, Number):\n",
    "            raise TypeError('Please provide a numerical value')\n",
    "        c = float(item/100.0)  # divide item by 100.\n",
    "        cl.append(str(c))\n",
    "    millibars_file_object.write(','.join(cl))\n",
    "\n",
    "    input_file_object.close()\n",
    "    atmospheres_file_object.close()"
   ]
  },
  {
   "cell_type": "markdown",
   "id": "5154a4c0",
   "metadata": {},
   "source": [
    "<br>\n",
    "<br>\n",
    "<br>\n",
    "<br>\n",
    "<br>\n",
    "<br>\n",
    "<br>\n",
    "<br>\n",
    "<br>\n",
    "<br>\n",
    "<br>\n",
    "<br>\n",
    "** Solution"
   ]
  },
  {
   "cell_type": "markdown",
   "id": "e17f00d8",
   "metadata": {},
   "source": [
    "The sort of comments you might provide for this piece of code are:\n",
    "\n",
    "- There is a missing docstring to describe what the function's purpose is and how to use it\n",
    "- There are no tests\n",
    "- The use of short variable name such as `fl` and `abc` is not recommended; use descriptive variable names to help better understand what the function is doing\n",
    "- Compound statements such as `if not isinstance(item, Number): raise TypeError('Not a number')` (where there are multiple statements on a single line) are generally discouraged\n",
    "- The variable `abc` is unused\n",
    "- There is duplication in the code that could be replaced by single functions"
   ]
  },
  {
   "cell_type": "code",
   "execution_count": null,
   "id": "5a2221a2",
   "metadata": {},
   "outputs": [],
   "source": []
  }
 ],
 "metadata": {
  "kernelspec": {
   "display_name": "Python 3 (ipykernel)",
   "language": "python",
   "name": "python3"
  },
  "language_info": {
   "codemirror_mode": {
    "name": "ipython",
    "version": 3
   },
   "file_extension": ".py",
   "mimetype": "text/x-python",
   "name": "python",
   "nbconvert_exporter": "python",
   "pygments_lexer": "ipython3",
   "version": "3.11.4"
  }
 },
 "nbformat": 4,
 "nbformat_minor": 5
}
