{
 "cells": [
  {
   "cell_type": "markdown",
   "id": "7ca2eec7",
   "metadata": {},
   "source": [
    "<img src=\"images/MO_MASTER_black_mono_for_light_backg_RBG.png\" width=\"500\" height=\"300\" align=\"center\">"
   ]
  },
  {
   "cell_type": "markdown",
   "id": "4ad88b27",
   "metadata": {},
   "source": [
    "## Quality Assurance\n",
    "\n",
    "Quality assurance (QA) is a systematic process that ensures the quality of software by following a set of documented procedures to prevent mistakes.\n",
    "\n",
    "QA should be performed on code, data, documentation, instrumentation and procedures in order to produce high quality, reproducable science.\n",
    "\n",
    "Performing QA:\n",
    "\n",
    "- confirms the science outputs are generated as expected\n",
    "- enables others to understand the work\n",
    "- demonstrates to others that the work is well tested\n",
    "- ensures that science outputs can be traced back to the versions of the various aspects of the system that were used to generate the scientific output (reproducibility!)\n",
    "\n",
    "This course is intended as a beginners course but assumes a basic knowledge of Python.\n",
    "\n",
    "The course will cover:\n",
    "\n",
    "1. [Documenting your code](1.Documenting_code.ipynb)\n",
    "2. [Testing your code](2.Testing_code.ipynb)\n",
    "3. [Reviewing code](3.Reviewing_code.ipynb)\n",
    "4. [Using a version control system to backup your code](4.Backing_up_code.ipynb)"
   ]
  },
  {
   "cell_type": "code",
   "execution_count": null,
   "id": "236de6d6",
   "metadata": {},
   "outputs": [],
   "source": []
  }
 ],
 "metadata": {
  "kernelspec": {
   "display_name": "Python 3 (ipykernel)",
   "language": "python",
   "name": "python3"
  },
  "language_info": {
   "codemirror_mode": {
    "name": "ipython",
    "version": 3
   },
   "file_extension": ".py",
   "mimetype": "text/x-python",
   "name": "python",
   "nbconvert_exporter": "python",
   "pygments_lexer": "ipython3",
   "version": "3.9.16"
  }
 },
 "nbformat": 4,
 "nbformat_minor": 5
}
