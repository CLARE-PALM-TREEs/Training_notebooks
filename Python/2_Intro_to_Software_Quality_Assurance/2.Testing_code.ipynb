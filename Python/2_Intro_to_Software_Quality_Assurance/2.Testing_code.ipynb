{
 "cells": [
  {
   "cell_type": "markdown",
   "id": "ed96bcc1",
   "metadata": {},
   "source": [
    "<img src=\"images/Project_logos.png\" width=\"500\" height=\"300\" align=\"center\">"
   ]
  },
  {
   "cell_type": "markdown",
   "id": "970b26ea",
   "metadata": {},
   "source": [
    "## Testing\n",
    "\n",
    "Software testing is the process of executing code:\n",
    "\n",
    "- with the intent of finding bugs\n",
    "- to validate and verify that it:\n",
    "- works as expected\n",
    "- meets the specified requirements that guided its design and development\n",
    "\n",
    "There are many different types of software testing, which can be interpreted by different people in different ways. However, it is generally accepted that these types of software testing can be grouped into four software testing levels:\n",
    "\n",
    "- unit testing\n",
    "- integration testing\n",
    "- system / end-to-end testing\n",
    "- acceptance testing"
   ]
  },
  {
   "cell_type": "markdown",
   "id": "a10f355a",
   "metadata": {},
   "source": [
    "## Aims\n",
    "\n",
    "This course will teach you:\n",
    "\n",
    "  - about different levels of testing\n",
    "  - how to test your code\n"
   ]
  },
  {
   "cell_type": "markdown",
   "id": "17d4cd2b",
   "metadata": {},
   "source": [
    "## Table of Contents\n",
    "\n",
    "* [Why testing code is important](#testing_importance)\n",
    "* [Different levels of testing](#testing_levels)\n",
    "* [How to write tests](#writing_tests)\n",
    "* [Exercise 1](#exercise_1)\n",
    "* [Writing unit tests](#writing_unit_tests)\n",
    "* [Exercise 2](#exercise_2)"
   ]
  },
  {
   "cell_type": "markdown",
   "id": "917d45fa",
   "metadata": {},
   "source": [
    "## Why testing code is important<a class=\"anchor\" id=\"testing_importance\"></a>\n",
    "\n",
    "Everyone makes mistakes!\n",
    "\n",
    "Software testing:\n",
    "\n",
    "- verifies the code works as expected, which:\n",
    "    - provides a sense of assurance\n",
    "- helps find bugs early and quickly, which:\n",
    "    - leads to more robust systems that produce accurate, consistent and reliable results\n",
    "    - increases the quality of the resulting software\n",
    "    - improves the efficiency of the overall development and QA process\n",
    "- supports code development and maintenance, so that:\n",
    "    - changes can be made more confidently\n",
    "    - existing functionality is preserved\n",
    "- demonstrates the use of the code (\"executable documentation\")"
   ]
  },
  {
   "cell_type": "markdown",
   "id": "3f16ed95",
   "metadata": {},
   "source": [
    "## Software Testing Levels<a class=\"anchor\" id=\"testing_levels\"></a>\n",
    "\n",
    "### Unit testing\n",
    "A _unit_ is the smallest testable piece of code, e.g. functions.\n",
    "\n",
    "Unit tests verify that an individual _unit_ works as expected and should:\n",
    "\n",
    "- ensure that the units work independently from each other\n",
    "- take a few seconds to run (so that they can be run frequently)\n",
    "- use synthetic data to illustrate the feature being tested\n",
    "\n",
    "### Integration testing\n",
    "Integration tests verify that multiple pieces of code work together as expected and should:\n",
    "\n",
    "- ensure that the interfaces and interaction between the pieces of code work as expected\n",
    "- take a few seconds to run (so that they can be run frequently)\n",
    "- use synthetic data to illustrate the feature being tested\n",
    "\n",
    "### System testing\n",
    "System tests, or end-to-end tests, verify that the entire system meets the customer specified requirements and should:\n",
    "\n",
    "- mimic real-world use, such as interacting with external systems or services (e.g. file system, archive stores, internet, database, libraries)\n",
    "- consist of non-functional and functional testing\n",
    "\n",
    "### Non-functional testing\n",
    "Non-functional tests verify that aspects of the code that may not be related to a specific function or user action, such as performance, resource use or scalability, meets the specified requirements and should:\n",
    "\n",
    "- use full data sets, so will run slowly\n",
    "- ensure outputs from external systems are being utilised as intended, not that the external systems return the expected outputs\n",
    "- the external system should have its own set of tests that confirm the output is as expected, which do not need duplicating\n",
    "\n",
    "### Functional testing\n",
    "Functional tests verify that a specific action or function of the code meets the customer specified requirements and should:\n",
    "\n",
    "- compare outputs against references on disk (Known Good Outputs or KGO's)\n",
    "- use full data sets, so will run slowly\n",
    "\n",
    "### Acceptance testing\n",
    "Acceptance tests are typically executed by the the intended users of the code to verify whether the software product meets their specified requirements and assess whether it is acceptable for delivery."
   ]
  },
  {
   "cell_type": "markdown",
   "id": "3c55174c",
   "metadata": {},
   "source": [
    "## Which types of tests are most valuable for scientific software?\n",
    "\n",
    "A project should define its own testing strategies based on the size and complexity of the code. For scientific software, to achieve something useful with little effort, adopt a pragmatic testing approach, for example:\n",
    "\n",
    "- write functional tests, since they can help to ensure that the science outputs are generated as expected\n",
    "- write unit tests for high risk functions, i.e. that are used in many places throughout the code, since they can help to locate specific issues quickly"
   ]
  },
  {
   "cell_type": "markdown",
   "id": "87ab3f78",
   "metadata": {},
   "source": [
    "## How to write tests<a class=\"anchor\" id=\"writing_tests\"></a>\n",
    "\n",
    "Write tests to automate:\n",
    "\n",
    "- the execution of the code to be tested\n",
    "- the comparison of the output from the code with a reference to ensure they match:\n",
    "    - the reference should be verified to ensure it is as expected\n",
    "    - it may be appropriate to use a tolerance in the comparison\n",
    "\n",
    "Ideally, tests should be written as early as possible. Sometimes, tests can even be written before the code! Test driven development is a process that involves first writing tests based on the requirements, then writing code until the tests pass.\n",
    "\n",
    "It is unrealistic to test every possible combination of inputs that even a simple program can handle. Be pragmatic; the number and types of tests should be appropriate to the size and complexity of the code. At least aim to demonstrate the code works as expected:\n",
    "\n",
    "- in normal operation\n",
    "- for important edge cases\n",
    "- when things have gone wrong\n",
    "\n",
    "Example _edge_ cases:\n",
    "- integer zero or negative\n",
    "- empty string or list\n",
    "- list comparisons where one list is a subset of the other\n",
    "- edge dates (29 February, rollover from one year to the next)\n",
    "- edge times (midnight, timezone changes, e.g. GMT --> BST)"
   ]
  },
  {
   "cell_type": "markdown",
   "id": "13ce9fa8",
   "metadata": {},
   "source": [
    "### The assert statement\n",
    "\n",
    "Here you will explore the use of the `assert` statement. \n",
    "\n",
    "To read the help available for the assert statement:"
   ]
  },
  {
   "cell_type": "code",
   "execution_count": 1,
   "id": "8518344b",
   "metadata": {},
   "outputs": [
    {
     "name": "stdout",
     "output_type": "stream",
     "text": [
      "The \"assert\" statement\n",
      "**********************\n",
      "\n",
      "Assert statements are a convenient way to insert debugging assertions\n",
      "into a program:\n",
      "\n",
      "   assert_stmt ::= \"assert\" expression [\",\" expression]\n",
      "\n",
      "The simple form, \"assert expression\", is equivalent to\n",
      "\n",
      "   if __debug__:\n",
      "       if not expression: raise AssertionError\n",
      "\n",
      "The extended form, \"assert expression1, expression2\", is equivalent to\n",
      "\n",
      "   if __debug__:\n",
      "       if not expression1: raise AssertionError(expression2)\n",
      "\n",
      "These equivalences assume that \"__debug__\" and \"AssertionError\" refer\n",
      "to the built-in variables with those names.  In the current\n",
      "implementation, the built-in variable \"__debug__\" is \"True\" under\n",
      "normal circumstances, \"False\" when optimization is requested (command\n",
      "line option \"-O\").  The current code generator emits no code for an\n",
      "assert statement when optimization is requested at compile time.  Note\n",
      "that it is unnecessary to include the source code for the expression\n",
      "that failed in the error message; it will be displayed as part of the\n",
      "stack trace.\n",
      "\n",
      "Assignments to \"__debug__\" are illegal.  The value for the built-in\n",
      "variable is determined when the interpreter starts.\n",
      "\n"
     ]
    }
   ],
   "source": [
    "help('assert')"
   ]
  },
  {
   "cell_type": "markdown",
   "id": "c1e2adaa",
   "metadata": {},
   "source": [
    "The assert statement is used to test whether a condition is true:"
   ]
  },
  {
   "cell_type": "code",
   "execution_count": null,
   "id": "93458218",
   "metadata": {},
   "outputs": [],
   "source": [
    "my_value = 123\n",
    "assert my_value == 123"
   ]
  },
  {
   "cell_type": "markdown",
   "id": "71571c3b",
   "metadata": {},
   "source": [
    "An `AssertionError` is raised if the condition is false:"
   ]
  },
  {
   "cell_type": "code",
   "execution_count": null,
   "id": "d02bbbb4",
   "metadata": {},
   "outputs": [],
   "source": [
    "assert my_value == 456"
   ]
  },
  {
   "cell_type": "markdown",
   "id": "6892d34a",
   "metadata": {},
   "source": [
    "It is possible to add a specific message to the AssertionError:"
   ]
  },
  {
   "cell_type": "code",
   "execution_count": null,
   "id": "2cfd49b6",
   "metadata": {},
   "outputs": [],
   "source": [
    "assert my_value == 456, 'value not equal to 456'"
   ]
  },
  {
   "cell_type": "markdown",
   "id": "a0764289",
   "metadata": {},
   "source": [
    "Floating-point numbers are subject to small output variations across platforms:"
   ]
  },
  {
   "cell_type": "code",
   "execution_count": null,
   "id": "4c6c8c58",
   "metadata": {},
   "outputs": [],
   "source": [
    "my_float = 1.0 / 3.0\n",
    "print(my_float)"
   ]
  },
  {
   "cell_type": "code",
   "execution_count": null,
   "id": "ccfb4d06",
   "metadata": {},
   "outputs": [],
   "source": [
    "assert my_float == 0.333333333333"
   ]
  },
  {
   "cell_type": "markdown",
   "id": "c66c77ba",
   "metadata": {},
   "source": [
    "Use the `round` function or a tolerance:"
   ]
  },
  {
   "cell_type": "code",
   "execution_count": null,
   "id": "b34a6749",
   "metadata": {},
   "outputs": [],
   "source": [
    "assert round(my_float, 6) == 0.333333"
   ]
  },
  {
   "cell_type": "code",
   "execution_count": null,
   "id": "06953023",
   "metadata": {},
   "outputs": [],
   "source": [
    "tolerance = 0.000000000001\n",
    "assert abs(my_float - 0.333333333333) < tolerance"
   ]
  },
  {
   "cell_type": "markdown",
   "id": "55ae469c",
   "metadata": {},
   "source": [
    "### Doctests:\n",
    "\n",
    "- can be thought of as executable documentation\n",
    "- enables pieces of text in docstrings that look like interactive Python sessions to be executed to verify that they work exactly as shown\n",
    "    - a docstring is a string contained within \"\"\"triple double quotes\"\"\" that occurs as the first statement in a module, function, class, or method definition. Refer to [Documenting your code](1.Documenting_code.ipynb) for more information on docstrings.\n",
    "- are generally used to show an example of how the code works, rather than to test edge cases\n",
    "\n",
    "Doctests within a docstring begin with `>>>`. These lines are the only lines within a docstring that will be run as if they were code rather than a comment."
   ]
  },
  {
   "cell_type": "markdown",
   "id": "a2046755",
   "metadata": {},
   "source": [
    "\n",
    "## Exercise 1<a class=\"anchor\" id=\"exercise_1\"></a>\n",
    "\n",
    "Write a doctest for the pascal_to_atmosphere function that uses the assert statement. Remember to take into account that floating-point numbers are subject to small output variations across platforms\n",
    "\n",
    "<font color='red'>**NOTE**</font>: the following cell is for reference only; there is no need to execute this cell."
   ]
  },
  {
   "cell_type": "code",
   "execution_count": null,
   "id": "6f577baf",
   "metadata": {},
   "outputs": [],
   "source": [
    "def pascal_to_atmosphere(pascal):\n",
    "    \"\"\"\n",
    "    >>> <insert python statements to call the function here>\n",
    "    >>> <end with an assert to complete the test>\n",
    "    \"\"\"\n",
    "    if not isinstance(pascal, Number):\n",
    "        raise TypeError('Please provide a numerical value')\n",
    "    atmosphere = float(pascal / 101325.0)\n",
    "    return atmosphere"
   ]
  },
  {
   "cell_type": "markdown",
   "id": "c3c182eb",
   "metadata": {},
   "source": [
    "<br>\n",
    "<br>\n",
    "<br>\n",
    "<br>\n",
    "<br>\n",
    "<br>\n",
    "<br>\n",
    "<br>\n",
    "<br>\n",
    "<br>\n",
    "<br>\n",
    "<br>\n",
    "**Solution\n",
    "\n",
    "<font color='red'>**NOTE**</font>: the following cell is for reference only; there is no need to execute this cell."
   ]
  },
  {
   "cell_type": "code",
   "execution_count": null,
   "id": "c055778a",
   "metadata": {},
   "outputs": [],
   "source": [
    "def pascal_to_atmosphere(pascal):\n",
    "    \"\"\"\n",
    "    >>> pressure_in_pascal = 97348.0\n",
    "    >>> pressure_in_atmosphere = pascal_to_atmosphere(pressure_in_pascal)\n",
    "    >>> assert round(pressure_in_atmosphere, 2) == 0.96\n",
    "    \"\"\"\n",
    "    if not isinstance(pascal, Number):\n",
    "        raise TypeError('Please provide a numerical value')\n",
    "    atmosphere = float(pascal / 101325.0)\n",
    "    return atmosphere"
   ]
  },
  {
   "cell_type": "markdown",
   "id": "a620de76",
   "metadata": {},
   "source": [
    "## Writing unit tests<a class=\"anchor\" id=\"writing_unit_tests\"></a>\n",
    "\n",
    "Unit tests:\n",
    "\n",
    "- are functions located in a folder called tests\n",
    "- are typically named after the module it is testing\n",
    "\n",
    "<font color='red'>**NOTE**</font>: the following cell is for reference only; there is no need to execute this cell."
   ]
  },
  {
   "cell_type": "code",
   "execution_count": null,
   "id": "ef7a4f52",
   "metadata": {},
   "outputs": [],
   "source": [
    "def pascal_to_atmosphere(pascal):\n",
    "    \"\"\"\n",
    "    >>> pressure_in_pascal = 97348.0\n",
    "    >>> pressure_in_atmosphere = pascal_to_atmosphere(pressure_in_pascal)\n",
    "    >>> assert round(pressure_in_atmosphere, 2) == 0.96\n",
    "    \"\"\"\n",
    "    if not isinstance(pascal, Number):\n",
    "        raise TypeError('Please provide a numerical value')\n",
    "    atmosphere = float(pascal / 101325.0)\n",
    "    return atmosphere"
   ]
  },
  {
   "cell_type": "markdown",
   "id": "9da78018",
   "metadata": {},
   "source": [
    "What could be tested in this case?\n",
    "\n",
    "- when `pascal` is any number (normal operation)\n",
    "- when `pascal` = 0 (edge case)\n",
    "- when `pascal` does not have the expected type (when things have gone wrong)\n",
    "\n",
    "Here's a function that will take into account that floating-point numbers are subject to small output variations across platforms. The tolerance of this function is 4 decimal places.\n",
    "\n",
    "<font color='red'>**NOTE**</font>: the following cells are for reference only; there is no need to execute these two cells."
   ]
  },
  {
   "cell_type": "code",
   "execution_count": null,
   "id": "4bf2d9b8",
   "metadata": {},
   "outputs": [],
   "source": [
    "def assert_almost_equal(value1, value2, msg):\n",
    "    \"\"\"\n",
    "    Assert whether `value1` and `value2` are the same within a\n",
    "    tolerance.\n",
    "\n",
    "    The tolerance is equal to `0.0001`.\n",
    "\n",
    "    Parameters\n",
    "    ----------\n",
    "    value1 : float\n",
    "        The first value to be compared.\n",
    "    value2 : float\n",
    "        The second value to be compared.\n",
    "    msg : string\n",
    "        The message that will be printed (via the\n",
    "        :class:`exceptions.AssertionError` exception) if `value1` and `value2`\n",
    "        are not the same within the tolerance.\n",
    "    \"\"\"\n",
    "    tolerance = 0.0001\n",
    "    assert abs(value1 - value2) < tolerance, msg"
   ]
  },
  {
   "cell_type": "code",
   "execution_count": null,
   "id": "a231ba4d",
   "metadata": {},
   "outputs": [],
   "source": [
    "def pascal_to_atmosphere(pascal):\n",
    "    \"\"\"\n",
    "    >>> pressure_in_pascal = 97348.0\n",
    "    >>> pressure_in_atmosphere = pascal_to_atmosphere(pressure_in_pascal)\n",
    "    >>> assert round(pressure_in_atmosphere, 2) == 0.96\n",
    "    \"\"\"\n",
    "    if not isinstance(pascal, Number):\n",
    "        raise TypeError('Please provide a numerical value')\n",
    "    atmosphere = float(pascal / 101325.0)\n",
    "    return atmosphere"
   ]
  },
  {
   "cell_type": "markdown",
   "id": "f48d9e90",
   "metadata": {},
   "source": [
    "## Exercise 2<a class=\"anchor\" id=\"exercise_2\"></a>\n",
    "\n",
    "Write unit tests for the pascal_to_atmosphere function above:\n",
    "\n",
    "<font color='red'>**NOTE**</font>: the following cell is for reference only; there is no need to execute this cell."
   ]
  },
  {
   "cell_type": "code",
   "execution_count": null,
   "id": "d50431c4",
   "metadata": {},
   "outputs": [],
   "source": [
    "def test_pascal_to_atmosphere_with_valid_pressure():\n",
    "    # Normal operation.\n",
    "    pressure_in_pascal = <pick a number>\n",
    "    reference = <compute expected result and put it here>\n",
    "    output = pascal_to_atmosphere(pressure_in_pascal)\n",
    "    msg = 'Reference \\\"{}\\\" does not match actual output \\\"{}\\\"'.format(reference, output)\n",
    "    assert_almost_equal(output, reference, msg)\n",
    "\n",
    "\n",
    "def test_pascal_to_atmosphere_with_zero_pressure():\n",
    "    # Edge case. As above, but with pressure of 0.\n",
    "    <replace_this_line_with_your_code_lines>\n",
    "    assert_almost_equal(output, reference, msg)"
   ]
  },
  {
   "cell_type": "markdown",
   "id": "9253cf3a",
   "metadata": {},
   "source": [
    "<br>\n",
    "<br>\n",
    "<br>\n",
    "<br>\n",
    "<br>\n",
    "<br>\n",
    "<br>\n",
    "<br>\n",
    "<br>\n",
    "<br>\n",
    "<br>\n",
    "<br>\n",
    "**Solution**\n",
    "\n",
    "<font color='red'>**NOTE**</font>: the following cell is for reference only; there is no need to execute this cell."
   ]
  },
  {
   "cell_type": "code",
   "execution_count": null,
   "id": "720d3828",
   "metadata": {},
   "outputs": [],
   "source": [
    "def test_pascal_to_atmosphere_with_valid_pressure():\n",
    "    # Normal operation.\n",
    "    pressure_in_pascal = 123456\n",
    "    reference = 1.2184\n",
    "    output = pascal_to_atmosphere(pressure_in_pascal)\n",
    "    msg = 'Reference \"{}\" does not match output \"{}\"'.format(reference, output)\n",
    "    assert_almost_equal(output, reference, msg)\n",
    "\n",
    "\n",
    "def test_pascal_to_atmosphere_with_zero_pressure():\n",
    "    # Edge case.\n",
    "    pressure_in_pascal = 0\n",
    "    reference = 0\n",
    "    output = pascal_to_atmosphere(pressure_in_pascal)\n",
    "    msg = 'Reference \"{}\" does not match output \"{}\"'.format(reference, output)\n",
    "    assert_almost_equal(output, reference, msg)"
   ]
  },
  {
   "cell_type": "markdown",
   "id": "acd55bde",
   "metadata": {},
   "source": [
    "The assert statement provides a simple, but limited, way of testing whether a condition is true. For example, it is difficult to use assert to test whether an exception is raised if pascal is not a number. \n",
    "\n",
    "The library unittest provides many more useful features and is recommended when writing tests.\n",
    "\n",
    "To run the unit tests:"
   ]
  },
  {
   "cell_type": "code",
   "execution_count": 6,
   "id": "fe2ca79a",
   "metadata": {},
   "outputs": [
    {
     "name": "stdout",
     "output_type": "stream",
     "text": [
      "/net/home/h06/cbradsha/workspace/PALM-TREEs_training/python_notebooks/2_Intro_to_Software_Quality_Assurance/example_code\n"
     ]
    }
   ],
   "source": [
    "%cd ~/workspace/PALM-TREEs_training/python_notebooks/2_Intro_to_Software_Quality_Assurance/example_code"
   ]
  },
  {
   "cell_type": "code",
   "execution_count": 10,
   "id": "ebd1d7e8",
   "metadata": {},
   "outputs": [
    {
     "name": "stdout",
     "output_type": "stream",
     "text": [
      "..\r\n",
      "----------------------------------------------------------------------\r\n",
      "Ran 2 tests in 0.000s\r\n",
      "\r\n",
      "OK\r\n"
     ]
    }
   ],
   "source": [
    "!nosetests tests/test_pascal_to_atmosphere.py"
   ]
  },
  {
   "cell_type": "markdown",
   "id": "6a1a48ba",
   "metadata": {},
   "source": [
    "<font color='red'>**NOTE**</font>:  in the exercise, we passed nosetests a path to a specific python test program to run. This isn't essential. nosetests will look for directories and files matching `test` or `Test` and run all the tests it finds. \n",
    "\n",
    "This means that you can add more test_*.py files to the tests directory and nosetests will find and run them for you automatically."
   ]
  },
  {
   "cell_type": "markdown",
   "id": "7ade7299",
   "metadata": {},
   "source": [
    "**Helpful Hints**\n",
    "\n",
    "When a bug is found, write a unit test that fails because of the bug. This will:\n",
    "\n",
    "- help to reproduce the problem\n",
    "- confirm that the bug is fixed\n",
    "- prevent the bug from creeping back into the code\n",
    "\n",
    "This type of test is known as a regression test and:\n",
    "\n",
    "- is designed to stop the code from regressing back to an earlier state\n",
    "- ensures all the old behaviour of the code continues to work in the latest version\n",
    "- may belong to any software testing level, i.e. could consist of unit, integration and / or system tests"
   ]
  },
  {
   "cell_type": "code",
   "execution_count": null,
   "id": "36f26c07",
   "metadata": {},
   "outputs": [],
   "source": []
  }
 ],
 "metadata": {
  "kernelspec": {
   "display_name": "Python 3 (ipykernel)",
   "language": "python",
   "name": "python3"
  },
  "language_info": {
   "codemirror_mode": {
    "name": "ipython",
    "version": 3
   },
   "file_extension": ".py",
   "mimetype": "text/x-python",
   "name": "python",
   "nbconvert_exporter": "python",
   "pygments_lexer": "ipython3",
   "version": "3.11.4"
  }
 },
 "nbformat": 4,
 "nbformat_minor": 5
}
