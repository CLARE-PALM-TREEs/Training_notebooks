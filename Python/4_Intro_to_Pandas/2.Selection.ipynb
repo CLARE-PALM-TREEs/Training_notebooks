{
 "cells": [
  {
   "cell_type": "markdown",
   "id": "a0ff3697",
   "metadata": {},
   "source": [
    "<img src=\"images/Project_logos.png\" width=\"500\" height=\"300\" align=\"center\">"
   ]
  },
  {
   "cell_type": "markdown",
   "id": "52da4f00",
   "metadata": {},
   "source": [
    "## Indexing and selecting data"
   ]
  },
  {
   "cell_type": "code",
   "execution_count": null,
   "id": "3880e7c6",
   "metadata": {},
   "outputs": [],
   "source": [
    "# Set up an example DataFrame\n",
    "\n",
    "import pandas as pd\n",
    "import numpy as np\n",
    "\n",
    "index_array = np.array(['Row 1', 'Row 2', 'Row 3', 'Row 4', 'Row 5', 'Row 6'])\n",
    "column_list = ('A', 'B', 'C', 'D')\n",
    "df = pd.DataFrame(np.random.randn(6, 4), index=index_array, columns=column_list)"
   ]
  },
  {
   "cell_type": "markdown",
   "id": "3d0fb985",
   "metadata": {},
   "source": [
    "### Selecting columns\n",
    "\n",
    "You can select a column using the column name:"
   ]
  },
  {
   "cell_type": "code",
   "execution_count": null,
   "id": "9ee81522",
   "metadata": {},
   "outputs": [],
   "source": [
    "df['A']"
   ]
  },
  {
   "cell_type": "code",
   "execution_count": null,
   "id": "4db08249",
   "metadata": {},
   "outputs": [],
   "source": [
    "df.A"
   ]
  },
  {
   "cell_type": "code",
   "execution_count": null,
   "id": "f4a215d1",
   "metadata": {},
   "outputs": [],
   "source": [
    "df[['B', 'C']]"
   ]
  },
  {
   "cell_type": "code",
   "execution_count": null,
   "id": "b3256b61",
   "metadata": {},
   "outputs": [],
   "source": [
    "df.loc[:, [\"A\", \"B\"]]\n",
    "\n",
    "# loc can also be used to select rows at the same time, that is why : is included to indicate all rows"
   ]
  },
  {
   "cell_type": "markdown",
   "id": "2f1d9ddb",
   "metadata": {},
   "source": [
    "### Selecting rows"
   ]
  },
  {
   "cell_type": "code",
   "execution_count": null,
   "id": "de335ada",
   "metadata": {},
   "outputs": [],
   "source": [
    "# Select based on row label\n",
    "df.loc['Row 2']"
   ]
  },
  {
   "cell_type": "code",
   "execution_count": null,
   "id": "c39facbd",
   "metadata": {},
   "outputs": [],
   "source": [
    "# Select based on row position\n",
    "df.iloc[2]"
   ]
  },
  {
   "cell_type": "markdown",
   "id": "093b4bce",
   "metadata": {},
   "source": [
    "### Slicing"
   ]
  },
  {
   "cell_type": "code",
   "execution_count": null,
   "id": "5b43cbb6",
   "metadata": {},
   "outputs": [],
   "source": [
    "# Slice over rows based on position\n",
    "df[1:3] # End index is not inclusive"
   ]
  },
  {
   "cell_type": "code",
   "execution_count": null,
   "id": "a85cd781",
   "metadata": {},
   "outputs": [],
   "source": [
    "# Slice over rows based on labels\n",
    "df.loc['Row 2':'Row 4'] # End index is inclusive"
   ]
  },
  {
   "cell_type": "code",
   "execution_count": null,
   "id": "baf9d2b4",
   "metadata": {},
   "outputs": [],
   "source": [
    "# Slice over rows and columns based on position\n",
    "df.iloc[3:5, 0:2]"
   ]
  },
  {
   "cell_type": "code",
   "execution_count": null,
   "id": "a8c781e2",
   "metadata": {},
   "outputs": [],
   "source": [
    "# Select all rows for the 2nd-4th columns\n",
    "df.iloc[:, 1:4]"
   ]
  },
  {
   "cell_type": "markdown",
   "id": "ee772e60",
   "metadata": {},
   "source": [
    "### Selecting by criteria"
   ]
  },
  {
   "cell_type": "markdown",
   "id": "fcd1150f",
   "metadata": {},
   "source": [
    "You can select rows based on whether they meet a condition."
   ]
  },
  {
   "cell_type": "code",
   "execution_count": null,
   "id": "d5795484",
   "metadata": {},
   "outputs": [],
   "source": [
    "df[df[\"C\"] > 0]"
   ]
  },
  {
   "cell_type": "code",
   "execution_count": null,
   "id": "b126f1d3",
   "metadata": {},
   "outputs": [],
   "source": [
    "df2 = df.copy()\n",
    "\n",
    "# You can add a colum like this\n",
    "\n",
    "df2[\"E\"] = [\"one\", \"one\", \"two\", \"three\", \"four\", \"three\"]\n",
    "df2[df2[\"E\"].isin([\"two\", \"four\"])]"
   ]
  },
  {
   "cell_type": "markdown",
   "id": "51dcba69",
   "metadata": {},
   "source": [
    "You can select values in a DataFrame based on whether they meet a condition."
   ]
  },
  {
   "cell_type": "code",
   "execution_count": null,
   "id": "84a57a22",
   "metadata": {},
   "outputs": [],
   "source": [
    "df[df < 0]"
   ]
  },
  {
   "cell_type": "markdown",
   "id": "0276d4d9",
   "metadata": {},
   "source": [
    "### Exercise\n",
    "From DataFrame `df`:<br>\n",
    "a) Select column C<br>\n",
    "b) Select the 4th and 5th rows<br>\n",
    "c) Select rows where column B is less than 0<br>\n",
    "d) Select values that are more than 0.5\n"
   ]
  },
  {
   "cell_type": "code",
   "execution_count": null,
   "id": "5b069d23",
   "metadata": {},
   "outputs": [],
   "source": [
    "# Space to complete the exercise"
   ]
  },
  {
   "cell_type": "markdown",
   "id": "ef4eab7f",
   "metadata": {},
   "source": [
    "### Identifying smallest or largest values\n",
    "We can find the index of the smallest value using `idxmin` and the index of the largest value using `idxmax`."
   ]
  },
  {
   "cell_type": "code",
   "execution_count": null,
   "id": "c8260060",
   "metadata": {},
   "outputs": [],
   "source": [
    "# Find index of the smallest value in each column\n",
    "df.idxmin()"
   ]
  },
  {
   "cell_type": "code",
   "execution_count": null,
   "id": "a2ea28fa",
   "metadata": {},
   "outputs": [],
   "source": [
    "# Find index of the largest value in each row\n",
    "df.idxmax(axis=1)"
   ]
  },
  {
   "cell_type": "markdown",
   "id": "00f7b903",
   "metadata": {},
   "source": [
    "We can extract the rows with the n smallest or largest values in a `Series` or specified column of a `DataFrame`."
   ]
  },
  {
   "cell_type": "code",
   "execution_count": null,
   "id": "1fb77c35",
   "metadata": {},
   "outputs": [],
   "source": [
    "# Find the rows with the 3 smallest values in column B\n",
    "df.nsmallest(3, 'B')"
   ]
  },
  {
   "cell_type": "code",
   "execution_count": null,
   "id": "2a98be7c",
   "metadata": {},
   "outputs": [],
   "source": [
    "# Find the rows with the 4 largest values in column C.\n",
    "# keep='all' ensures that if the 5th largest value is equal to the 4th largest value, that row will also be included.\n",
    "df.nsmallest(4, 'C', keep='all')"
   ]
  },
  {
   "cell_type": "markdown",
   "id": "8a98ed00-eb9c-4924-b37b-f3909b7c4ee5",
   "metadata": {},
   "source": [
    "In most cases, DataFrame operations are not usually inplace and in order to use a result it must be assigned to a variable."
   ]
  }
 ],
 "metadata": {
  "kernelspec": {
   "display_name": "Python 3 + Jaspy",
   "language": "python",
   "name": "jaspy"
  },
  "language_info": {
   "codemirror_mode": {
    "name": "ipython",
    "version": 3
   },
   "file_extension": ".py",
   "mimetype": "text/x-python",
   "name": "python",
   "nbconvert_exporter": "python",
   "pygments_lexer": "ipython3",
   "version": "3.10.5"
  }
 },
 "nbformat": 4,
 "nbformat_minor": 5
}
