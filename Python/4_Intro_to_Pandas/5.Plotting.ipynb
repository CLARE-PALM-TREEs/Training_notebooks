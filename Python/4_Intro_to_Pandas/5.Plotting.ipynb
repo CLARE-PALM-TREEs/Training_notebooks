{
 "cells": [
  {
   "cell_type": "markdown",
   "id": "234c1cc9",
   "metadata": {},
   "source": [
    "<img src=\"images/Project_logos.png\" width=\"500\" height=\"300\" align=\"center\">"
   ]
  },
  {
   "cell_type": "markdown",
   "id": "6c05d0c0",
   "metadata": {},
   "source": [
    "## Plotting\n",
    "`pandas` has built-in plotting functionality. However, `matplotlib` can also be used to plot the data in pandas structures."
   ]
  },
  {
   "cell_type": "code",
   "execution_count": null,
   "id": "6bc2c517",
   "metadata": {},
   "outputs": [],
   "source": [
    "# Setting up an example DataFrame\n",
    "\n",
    "import pandas as pd\n",
    "import numpy as np\n",
    "\n",
    "index_list = [\"1993\", \"1994\", \"1995\", \"1996\", \"1997\", \"1998\", \"1999\", \"2000\", \"2001\", \"2002\"]\n",
    "\n",
    "df1 = pd.DataFrame(np.random.randn(10, 2), index=index_list, columns=[\"A\", \"B\"])\n",
    "\n",
    "df1"
   ]
  },
  {
   "cell_type": "markdown",
   "id": "2cdcfc31",
   "metadata": {},
   "source": [
    "You can plot a line plot of the data simply using ``df.plot()``. It will use the index as the x-axis value. The columns are plotted as separate lines."
   ]
  },
  {
   "cell_type": "code",
   "execution_count": null,
   "id": "ac308bfa",
   "metadata": {},
   "outputs": [],
   "source": [
    "df1.plot()"
   ]
  },
  {
   "cell_type": "code",
   "execution_count": null,
   "id": "d807d388",
   "metadata": {},
   "outputs": [],
   "source": [
    "# Setting up an example DataFrame\n",
    "\n",
    "import pandas as pd\n",
    "import numpy as np\n",
    "\n",
    "index_1 = [\"1993\", \"1993\", \"1993\", \"1994\", \"1994\", \"1994\", \"1995\", \"1995\", \"1995\"]\n",
    "index_2 = [\"Mar\", \"Apr\", \"May\",\"Mar\", \"Apr\", \"May\", \"Mar\", \"Apr\", \"May\"]\n",
    "\n",
    "indexes = [index_1, index_2]\n",
    "\n",
    "index = pd.MultiIndex.from_arrays(indexes, names=[\"Year\", \"Month\"])\n",
    "\n",
    "df = pd.DataFrame(np.random.randn(9), index=index, columns=[\"T\"])\n",
    "\n",
    "df"
   ]
  },
  {
   "cell_type": "code",
   "execution_count": null,
   "id": "d795e0cf",
   "metadata": {},
   "outputs": [],
   "source": [
    "print(df.unstack())\n",
    "\n",
    "df.unstack().plot()"
   ]
  },
  {
   "cell_type": "code",
   "execution_count": null,
   "id": "d105072c",
   "metadata": {},
   "outputs": [],
   "source": [
    "print(df.unstack(0))\n",
    "\n",
    "df.unstack(0).plot()"
   ]
  },
  {
   "cell_type": "markdown",
   "id": "7a64051b",
   "metadata": {},
   "source": [
    "It is also possible to create other plot types from a pandas DataFrame or Series. More information can be found here: https://pandas.pydata.org/docs/user_guide/visualization.html#visualization."
   ]
  },
  {
   "cell_type": "markdown",
   "id": "4c2c3604",
   "metadata": {},
   "source": [
    "### Exercise\n",
    "Plot a bar plot of the data in `df1`."
   ]
  },
  {
   "cell_type": "code",
   "execution_count": null,
   "id": "2247f882",
   "metadata": {},
   "outputs": [],
   "source": [
    "# space to complete the exercise"
   ]
  },
  {
   "cell_type": "markdown",
   "id": "9cf1d98e",
   "metadata": {},
   "source": [
    "Plot a scatter plot of column A in `df1` vs column B in `df1`."
   ]
  },
  {
   "cell_type": "code",
   "execution_count": null,
   "id": "adbdbba2",
   "metadata": {},
   "outputs": [],
   "source": [
    "# space to complete the exercise"
   ]
  },
  {
   "cell_type": "markdown",
   "id": "bda12bf4",
   "metadata": {},
   "source": [
    "Plot a boxplot of data in `df1`."
   ]
  },
  {
   "cell_type": "code",
   "execution_count": null,
   "id": "12263497",
   "metadata": {},
   "outputs": [],
   "source": [
    "# space to complete the exercise"
   ]
  },
  {
   "cell_type": "markdown",
   "id": "479e3e96",
   "metadata": {},
   "source": [
    "### Plotting on a seconday axis\n",
    "We can plot data on a secondary y-axis using `secondary_y`."
   ]
  },
  {
   "cell_type": "code",
   "execution_count": null,
   "id": "de4778bd",
   "metadata": {},
   "outputs": [],
   "source": [
    "# Setting up example DataFrame\n",
    "\n",
    "df2 = pd.DataFrame(\n",
    "    {\"Temperature at location A\": np.array([30.0, 29.6, 28.0, 31.2, 32.1, 27.4, 27.3, 27.8, 29.5, 29.8]),\n",
    "     \"Temperature at location B\": np.array([23.1, 22.4, 19.6, 20.5, 23.3, 23.2, 19.9, 20.2, 21.1, 20.8]),\n",
    "     \"Rainfall at location A\": np.array([5.0, 6.0, 1.0, 0.0, 0.6, 7.0, 4.3, 1.3, 11.5, 1.9]),\n",
    "     \"Rainfall at location B\": np.array([0.0, 0.0, 8.0, 11.2, 3.5, 0.0, 7.3, 2.8, 0.0, 0.2])\n",
    "    }\n",
    ")\n",
    "\n",
    "# Plotting the data of 2 columns with 2 y-axes\n",
    "\n",
    "df2[\"Rainfall at location A\"].plot(kind='bar', ylabel=\"Rainfall at location A\", label=\"Rainfall at location A\", legend=True)\n",
    "df2[\"Temperature at location A\"].plot(style='k', secondary_y=True, ylabel=\"Temperature at location A\", label=\"Temperature at location A\", legend=True)\n"
   ]
  },
  {
   "cell_type": "markdown",
   "id": "ce8cdabf",
   "metadata": {},
   "source": [
    "### Plotting DataFrame columns on different subplots\n",
    "It is possible to plot each column of a `DataFrame` in a different subplot using `subplots=True`."
   ]
  },
  {
   "cell_type": "code",
   "execution_count": null,
   "id": "7dfd1690",
   "metadata": {},
   "outputs": [],
   "source": [
    "df2.plot(subplots=True, figsize=(6, 6))"
   ]
  }
 ],
 "metadata": {
  "kernelspec": {
   "display_name": "Python 3 + Jaspy",
   "language": "python",
   "name": "jaspy"
  },
  "language_info": {
   "codemirror_mode": {
    "name": "ipython",
    "version": 3
   },
   "file_extension": ".py",
   "mimetype": "text/x-python",
   "name": "python",
   "nbconvert_exporter": "python",
   "pygments_lexer": "ipython3",
   "version": "3.10.5"
  }
 },
 "nbformat": 4,
 "nbformat_minor": 5
}
