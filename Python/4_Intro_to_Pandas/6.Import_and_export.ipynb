{
 "cells": [
  {
   "cell_type": "markdown",
   "id": "3134e723",
   "metadata": {},
   "source": [
    "<img src=\"images/Project_logos.png\" width=\"500\" height=\"300\" align=\"center\">"
   ]
  },
  {
   "cell_type": "markdown",
   "id": "1e8bdd1b",
   "metadata": {},
   "source": [
    "## Importing and exporting\n",
    "Pandas can read and write CSV, Excel and parquet file formats."
   ]
  },
  {
   "cell_type": "markdown",
   "id": "0b7d07ea",
   "metadata": {},
   "source": [
    "### Saving"
   ]
  },
  {
   "cell_type": "code",
   "execution_count": null,
   "id": "6344f8b0",
   "metadata": {},
   "outputs": [],
   "source": [
    "import pandas as pd\n",
    "import numpy as np\n",
    "\n",
    "df = pd.DataFrame(np.random.randint(0, 5, (10, 5)))\n",
    "\n",
    "df.to_csv(\"foo.csv\")"
   ]
  },
  {
   "cell_type": "markdown",
   "id": "edc589ca",
   "metadata": {},
   "source": [
    "### Importing\n",
    "\n",
    "csv column and row headings can be read from from the csv into the dataframe using `header` and `index_col` keyword arguments."
   ]
  },
  {
   "cell_type": "code",
   "execution_count": null,
   "id": "e4732fde",
   "metadata": {},
   "outputs": [],
   "source": [
    "csv_df = pd.read_csv(\"foo.csv\", index_col=0, header=0)"
   ]
  },
  {
   "cell_type": "code",
   "execution_count": null,
   "id": "733ddd20",
   "metadata": {},
   "outputs": [],
   "source": [
    "csv_df"
   ]
  }
 ],
 "metadata": {
  "kernelspec": {
   "display_name": "Python 3 (ipykernel)",
   "language": "python",
   "name": "python3"
  },
  "language_info": {
   "codemirror_mode": {
    "name": "ipython",
    "version": 3
   },
   "file_extension": ".py",
   "mimetype": "text/x-python",
   "name": "python",
   "nbconvert_exporter": "python",
   "pygments_lexer": "ipython3",
   "version": "3.9.16"
  }
 },
 "nbformat": 4,
 "nbformat_minor": 5
}
