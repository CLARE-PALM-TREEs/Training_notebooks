{
 "cells": [
  {
   "cell_type": "markdown",
   "id": "5ff2c2e0",
   "metadata": {},
   "source": [
    "<img src=\"images/Project_logos.png\" width=\"500\" height=\"300\" align=\"center\">"
   ]
  },
  {
   "cell_type": "markdown",
   "id": "2922a220",
   "metadata": {},
   "source": [
    "## Pandas\n",
    "\n",
    "pandas is a Python package providing fast, flexible, and expressive data structures designed to make working with “relational” or “labeled” data both easy and intuitive.\n",
    "\n",
    "This notebook includes content from the 10 minutes to pandas (https://pandas.pydata.org/docs/user_guide/10min.html) and allows you to run the code for yourself."
   ]
  },
  {
   "cell_type": "markdown",
   "id": "f0ee0525",
   "metadata": {},
   "source": [
    "The course will cover:\n",
    "\n",
    "1. [Data structures](1.Data_structures.ipynb)\n",
    "2. [Selection](2.Selection.ipynb)\n",
    "3. [Missing data](3.Missing_data.ipynb)\n",
    "4. [Operations](4.Operations.ipynb)\n",
    "5. [Plotting](5.Plotting.ipynb)\n",
    "6. [Importing and Exporting Data](6.Import_and_export.ipynb)\n",
    "7. [Final Exercise](7.Final_Exercise.ipynb)"
   ]
  }
 ],
 "metadata": {
  "kernelspec": {
   "display_name": "Python 3 (ipykernel)",
   "language": "python",
   "name": "python3"
  },
  "language_info": {
   "codemirror_mode": {
    "name": "ipython",
    "version": 3
   },
   "file_extension": ".py",
   "mimetype": "text/x-python",
   "name": "python",
   "nbconvert_exporter": "python",
   "pygments_lexer": "ipython3",
   "version": "3.11.4"
  }
 },
 "nbformat": 4,
 "nbformat_minor": 5
}
