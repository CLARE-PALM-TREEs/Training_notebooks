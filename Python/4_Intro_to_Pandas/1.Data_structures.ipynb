{
 "cells": [
  {
   "cell_type": "markdown",
   "id": "99b4898a",
   "metadata": {},
   "source": [
    "## Data structures"
   ]
  },
  {
   "cell_type": "markdown",
   "id": "ee09776f",
   "metadata": {},
   "source": [
    "### Basic data structures\n",
    "\n",
    "There are two types of data structure in pandas:\n",
    "\n",
    "**Series**: a 1-d labelled array holding data of any type\n",
    "\n",
    "**DataFrame**: a 2-d data structure holding a 2-d array or a table with rows and columns"
   ]
  },
  {
   "cell_type": "markdown",
   "id": "403bf322",
   "metadata": {},
   "source": [
    "### Creating data structures\n",
    "You can create a Series by passing a list of values, letting pandas set up a default index:"
   ]
  },
  {
   "cell_type": "code",
   "execution_count": null,
   "id": "50ad93fc",
   "metadata": {},
   "outputs": [],
   "source": [
    "import pandas as pd\n",
    "import numpy as np\n",
    "\n",
    "s = pd.Series([1, 3, 5, np.nan, 6, 8])\n",
    "print(s)"
   ]
  },
  {
   "cell_type": "markdown",
   "id": "2f0c2d3b",
   "metadata": {},
   "source": [
    "You can create a DataFrame by passing a NumPy array, letting pandas set up a default index and column names:"
   ]
  },
  {
   "cell_type": "code",
   "execution_count": null,
   "id": "d49ce66a",
   "metadata": {},
   "outputs": [],
   "source": [
    "df = pd.DataFrame(np.random.randn(6, 4))\n",
    "print(df)"
   ]
  },
  {
   "cell_type": "markdown",
   "id": "6c46e6a8",
   "metadata": {},
   "source": [
    "You can create a DataFrame by passing a NumPy array, defining the index as an array and letting pandas set up default column names:"
   ]
  },
  {
   "cell_type": "code",
   "execution_count": null,
   "id": "14261504",
   "metadata": {},
   "outputs": [],
   "source": [
    "index_array = np.array(['Row 1', 'Row 2', 'Row 3', 'Row 4', 'Row 5', 'Row 6'])\n",
    "df = pd.DataFrame(np.random.randn(6, 4), index=index_array)\n",
    "print(df)\n",
    "\n",
    "# Note that the length of the index_array list must be equal to the number of rows in the dataframe"
   ]
  },
  {
   "cell_type": "markdown",
   "id": "21f640f0",
   "metadata": {},
   "source": [
    "You can create a DataFrame by passing a NumPy array, defining the index as an array and defining column names as a list:"
   ]
  },
  {
   "cell_type": "code",
   "execution_count": null,
   "id": "9218b735",
   "metadata": {},
   "outputs": [],
   "source": [
    "column_list = ('A', 'B', 'C', 'D')\n",
    "df = pd.DataFrame(np.random.randn(6, 4), index=index_array, columns=column_list)\n",
    "print(df)\n",
    "\n",
    "# Same as above, the column_list length must be equal to the number of columns"
   ]
  },
  {
   "cell_type": "markdown",
   "id": "e9ddb76d",
   "metadata": {},
   "source": [
    "You can create a DataFrame by passing a Python dictionary where the keys become the column names, and the values contain the data:"
   ]
  },
  {
   "cell_type": "code",
   "execution_count": null,
   "id": "fa605a14",
   "metadata": {},
   "outputs": [],
   "source": [
    "from datetime import time as dtt\n",
    "\n",
    "df2 = pd.DataFrame(\n",
    "    {\"A\": 1.0,\n",
    "     \"B\": pd.Timestamp(\"20130102\"),\n",
    "     \"C\": pd.Series(1, index=list(range(4)), dtype=\"float32\"),\n",
    "     \"D\": np.array([3] * 4, dtype=\"int32\"),\n",
    "     \"E\": pd.Categorical([\"test\", \"train\", \"test\", \"train\"]),\n",
    "     \"F\": \"foo\",\n",
    "     \"Time\": [dtt(3), dtt(6), dtt(9), dtt(12)]\n",
    "    }\n",
    ")\n",
    "\n",
    "# Note that any iterable object within the dictionary must all have the same length\n",
    "# As you can see with column A and F, they are not iterables and therefore are repeated\n",
    "# across all the rows\n",
    "\n",
    "# Sets a column to be the row index\n",
    "df2.set_index(\"Time\")"
   ]
  },
  {
   "cell_type": "markdown",
   "id": "b95ff2bb",
   "metadata": {},
   "source": [
    "### Exploring a DataFrame"
   ]
  },
  {
   "cell_type": "markdown",
   "id": "a9942490",
   "metadata": {},
   "source": [
    "You can view the index and column names of the DataFrame ``df``."
   ]
  },
  {
   "cell_type": "code",
   "execution_count": null,
   "id": "fbf55f5d",
   "metadata": {},
   "outputs": [],
   "source": [
    "df.index"
   ]
  },
  {
   "cell_type": "code",
   "execution_count": null,
   "id": "2d3795f0",
   "metadata": {},
   "outputs": [],
   "source": [
    "df.columns"
   ]
  },
  {
   "cell_type": "markdown",
   "id": "35575664",
   "metadata": {},
   "source": [
    "You can view the top and bottom rows of the DataFrame ``df``."
   ]
  },
  {
   "cell_type": "code",
   "execution_count": null,
   "id": "defbe645",
   "metadata": {},
   "outputs": [],
   "source": [
    "df.head(2) # View the top 2 rows"
   ]
  },
  {
   "cell_type": "code",
   "execution_count": null,
   "id": "68408136",
   "metadata": {},
   "outputs": [],
   "source": [
    "df.tail(3) # View the bottom 3 rows"
   ]
  },
  {
   "cell_type": "code",
   "execution_count": null,
   "id": "fe0b9d17",
   "metadata": {},
   "outputs": [],
   "source": [
    "df.head() # Without providing a number, it will return the top 5 rows"
   ]
  },
  {
   "cell_type": "markdown",
   "id": "69117fc4",
   "metadata": {},
   "source": [
    "### Exercise\n",
    "Print out the index and column names of `df2`."
   ]
  },
  {
   "cell_type": "code",
   "execution_count": null,
   "id": "b184d8b3",
   "metadata": {},
   "outputs": [],
   "source": [
    "# space for completing exercise"
   ]
  },
  {
   "cell_type": "markdown",
   "id": "ea75e92e",
   "metadata": {},
   "source": [
    "### Exercise\n",
    "Print out the bottom 2 rows of `df2`."
   ]
  },
  {
   "cell_type": "code",
   "execution_count": null,
   "id": "e90406fa",
   "metadata": {},
   "outputs": [],
   "source": [
    "# space for completing exercise"
   ]
  },
  {
   "cell_type": "markdown",
   "id": "66bee41e",
   "metadata": {},
   "source": [
    "### Transposing a DataFrame\n",
    "\n",
    "You can transpose a DataFrame (swap rows and columns):"
   ]
  },
  {
   "cell_type": "code",
   "execution_count": null,
   "id": "1e72e42f",
   "metadata": {},
   "outputs": [],
   "source": [
    "df.T"
   ]
  },
  {
   "cell_type": "markdown",
   "id": "02247d3f",
   "metadata": {},
   "source": [
    "### Reshaping a DataFrame\n",
    "A DataFrame with a ``MultiIndex`` can be set up."
   ]
  },
  {
   "cell_type": "code",
   "execution_count": null,
   "id": "2f085223",
   "metadata": {},
   "outputs": [],
   "source": [
    "index_1 = [\"1993\", \"1993\", \"1993\", \"1994\", \"1994\", \"1994\", \"1995\", \"1995\", \"1995\"]\n",
    "index_2 = [\"Mar\", \"Apr\", \"May\",\"Mar\", \"Apr\", \"May\", \"Mar\", \"Apr\", \"May\"]\n",
    "\n",
    "# Note that both arrays must have the same length\n",
    "\n",
    "indexes = [index_1, index_2]\n",
    "\n",
    "index = pd.MultiIndex.from_arrays(indexes, names=[\"Year\", \"Month\"])\n",
    "\n",
    "df = pd.DataFrame(np.random.randn(9, 2), index=index, columns=[\"T\", \"P\"])\n",
    "\n",
    "df"
   ]
  },
  {
   "cell_type": "markdown",
   "id": "565f3d61",
   "metadata": {},
   "source": [
    "You can reshape this ``DataFrame`` to make the columns into a level in a MultiIndex."
   ]
  },
  {
   "cell_type": "code",
   "execution_count": null,
   "id": "bd327d5f",
   "metadata": {},
   "outputs": [],
   "source": [
    "stacked = df.stack()\n",
    "stacked"
   ]
  },
  {
   "cell_type": "markdown",
   "id": "5fc4e9a7",
   "metadata": {},
   "source": [
    "You can also perform the reverse using ``unstack``."
   ]
  },
  {
   "cell_type": "code",
   "execution_count": null,
   "id": "65ed8ffa",
   "metadata": {},
   "outputs": [],
   "source": [
    "stacked.unstack()"
   ]
  },
  {
   "cell_type": "markdown",
   "id": "708c3451",
   "metadata": {},
   "source": [
    "It will use the final index to become the columns unless specified otherwise."
   ]
  },
  {
   "cell_type": "code",
   "execution_count": null,
   "id": "f8097352",
   "metadata": {},
   "outputs": [],
   "source": [
    "stacked.unstack(1)"
   ]
  },
  {
   "cell_type": "markdown",
   "id": "c6e21993",
   "metadata": {},
   "source": [
    "### Exercise\n",
    "Reshape `df` to use a new row for each value."
   ]
  },
  {
   "cell_type": "code",
   "execution_count": null,
   "id": "37beae67",
   "metadata": {},
   "outputs": [],
   "source": [
    "# space for completing exercise"
   ]
  }
 ],
 "metadata": {
  "kernelspec": {
   "display_name": "Python 3 + Jaspy",
   "language": "python",
   "name": "jaspy"
  },
  "language_info": {
   "codemirror_mode": {
    "name": "ipython",
    "version": 3
   },
   "file_extension": ".py",
   "mimetype": "text/x-python",
   "name": "python",
   "nbconvert_exporter": "python",
   "pygments_lexer": "ipython3",
   "version": "3.10.5"
  }
 },
 "nbformat": 4,
 "nbformat_minor": 5
}
