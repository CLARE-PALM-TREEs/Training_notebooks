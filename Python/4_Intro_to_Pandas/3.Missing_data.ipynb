{
 "cells": [
  {
   "cell_type": "markdown",
   "id": "3ea6e63f",
   "metadata": {},
   "source": [
    "<img src=\"images/Project_logos.png\" width=\"500\" height=\"300\" align=\"center\">"
   ]
  },
  {
   "cell_type": "markdown",
   "id": "924033c4",
   "metadata": {},
   "source": [
    "## Missing Data"
   ]
  },
  {
   "cell_type": "code",
   "execution_count": null,
   "id": "0d46aa1d",
   "metadata": {},
   "outputs": [],
   "source": [
    "import numpy as np\n",
    "import pandas as pd\n",
    "\n",
    "# Set up an example DataFrame\n",
    "\n",
    "index_array = np.array(['Row 1', 'Row 2', 'Row 3', 'Row 4', 'Row 5', 'Row 6'])\n",
    "column_list = ('A', 'B', 'C', 'D')\n",
    "df = pd.DataFrame(np.random.randn(6, 4), index=index_array, columns=column_list)\n",
    "\n",
    "df.loc['Row 1', 'D'] = np.nan\n",
    "df.loc['Row 4', 'B'] = np.nan\n",
    "\n",
    "df"
   ]
  },
  {
   "cell_type": "markdown",
   "id": "927b40c4",
   "metadata": {},
   "source": [
    "You can remove rows that contain missing data:"
   ]
  },
  {
   "cell_type": "code",
   "execution_count": null,
   "id": "028fd8d6",
   "metadata": {},
   "outputs": [],
   "source": [
    "df.dropna()"
   ]
  },
  {
   "cell_type": "markdown",
   "id": "fd1e7429",
   "metadata": {},
   "source": [
    "You can replace missing data with a fill value:"
   ]
  },
  {
   "cell_type": "code",
   "execution_count": null,
   "id": "3d13b3eb",
   "metadata": {},
   "outputs": [],
   "source": [
    "df.fillna(value=1000)"
   ]
  },
  {
   "cell_type": "markdown",
   "id": "21b04ff1",
   "metadata": {},
   "source": [
    "You can create a boolean mask where values are missing:"
   ]
  },
  {
   "cell_type": "code",
   "execution_count": null,
   "id": "09457c91",
   "metadata": {},
   "outputs": [],
   "source": [
    "pd.isna(df)"
   ]
  }
 ],
 "metadata": {
  "kernelspec": {
   "display_name": "Python 3 (ipykernel)",
   "language": "python",
   "name": "python3"
  },
  "language_info": {
   "codemirror_mode": {
    "name": "ipython",
    "version": 3
   },
   "file_extension": ".py",
   "mimetype": "text/x-python",
   "name": "python",
   "nbconvert_exporter": "python",
   "pygments_lexer": "ipython3",
   "version": "3.9.16"
  }
 },
 "nbformat": 4,
 "nbformat_minor": 5
}
