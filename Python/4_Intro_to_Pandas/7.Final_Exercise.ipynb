{
 "cells": [
  {
   "cell_type": "markdown",
   "id": "dea43a1f",
   "metadata": {},
   "source": [
    "<img src=\"images/Project_logos.png\" width=\"500\" height=\"300\" align=\"center\">"
   ]
  },
  {
   "cell_type": "code",
   "execution_count": null,
   "id": "0772a0d8",
   "metadata": {},
   "outputs": [],
   "source": [
    "%matplotlib inline"
   ]
  },
  {
   "cell_type": "markdown",
   "id": "f99c1df3",
   "metadata": {},
   "source": [
    "## Final Exercise\n",
    "This exercise will require use of a variety of pandas functionality."
   ]
  },
  {
   "cell_type": "markdown",
   "id": "47cf5d84",
   "metadata": {},
   "source": [
    "1) Load annual mean temperature data from tas_3locs.csv"
   ]
  },
  {
   "cell_type": "code",
   "execution_count": null,
   "id": "52d51a99",
   "metadata": {},
   "outputs": [],
   "source": []
  },
  {
   "cell_type": "markdown",
   "id": "fe853fce",
   "metadata": {},
   "source": [
    "2) Load annual total precipitation data from pr_3locs.csv"
   ]
  },
  {
   "cell_type": "code",
   "execution_count": null,
   "id": "70dc26ec",
   "metadata": {},
   "outputs": [],
   "source": []
  },
  {
   "cell_type": "markdown",
   "id": "57b51bc6",
   "metadata": {},
   "source": [
    "3) What year has the highest annual mean temperature in Cape Town?"
   ]
  },
  {
   "cell_type": "code",
   "execution_count": null,
   "id": "28a60a05",
   "metadata": {},
   "outputs": [],
   "source": []
  },
  {
   "cell_type": "markdown",
   "id": "afe57ade",
   "metadata": {},
   "source": [
    "4a) What are the lowest 3 annual total precipitation values?"
   ]
  },
  {
   "cell_type": "code",
   "execution_count": null,
   "id": "b8b7633a",
   "metadata": {},
   "outputs": [],
   "source": []
  },
  {
   "cell_type": "markdown",
   "id": "f1824e09",
   "metadata": {},
   "source": [
    "4b) Where and when?"
   ]
  },
  {
   "cell_type": "code",
   "execution_count": null,
   "id": "1ef52200",
   "metadata": {},
   "outputs": [],
   "source": []
  },
  {
   "cell_type": "markdown",
   "id": "dabbb3df",
   "metadata": {},
   "source": [
    "4c) What are the annual mean temperatures at those locations in those years?"
   ]
  },
  {
   "cell_type": "code",
   "execution_count": null,
   "id": "4f7f4ef8",
   "metadata": {},
   "outputs": [],
   "source": []
  },
  {
   "cell_type": "markdown",
   "id": "fe00bacd",
   "metadata": {},
   "source": [
    "5) What is the 1991-2020 climatological mean annual mean temperature and annual total precipitation for each location?"
   ]
  },
  {
   "cell_type": "code",
   "execution_count": null,
   "id": "bea8e162",
   "metadata": {},
   "outputs": [],
   "source": []
  },
  {
   "cell_type": "markdown",
   "id": "6b049432",
   "metadata": {},
   "source": [
    "6a) Create a DataFrame of the relative precipitation anomalies from the 5-year moving average."
   ]
  },
  {
   "cell_type": "code",
   "execution_count": null,
   "id": "f1d8b83f",
   "metadata": {},
   "outputs": [],
   "source": []
  },
  {
   "cell_type": "markdown",
   "id": "ba158072",
   "metadata": {},
   "source": [
    "6b) Save this DataFrame to a csv file."
   ]
  },
  {
   "cell_type": "code",
   "execution_count": null,
   "id": "59ed4122",
   "metadata": {},
   "outputs": [],
   "source": []
  },
  {
   "cell_type": "markdown",
   "id": "8fcc5388",
   "metadata": {},
   "source": [
    "7) Plot scatter plots and calculate correlations between the annual mean temperature at the different locations."
   ]
  },
  {
   "cell_type": "code",
   "execution_count": null,
   "id": "875bd38d",
   "metadata": {},
   "outputs": [],
   "source": []
  },
  {
   "cell_type": "markdown",
   "id": "a76bbdcc",
   "metadata": {},
   "source": [
    "8) Plot time series of T (each location on a different subplot)."
   ]
  },
  {
   "cell_type": "code",
   "execution_count": null,
   "id": "bac3bfb8",
   "metadata": {},
   "outputs": [],
   "source": []
  },
  {
   "cell_type": "markdown",
   "id": "476756e6",
   "metadata": {},
   "source": [
    "9) Plot time series of T and P for Oxford (use a secondary y-axis)."
   ]
  },
  {
   "cell_type": "code",
   "execution_count": null,
   "id": "54ca2010",
   "metadata": {},
   "outputs": [],
   "source": []
  }
 ],
 "metadata": {
  "kernelspec": {
   "display_name": "Python 3 (ipykernel)",
   "language": "python",
   "name": "python3"
  },
  "language_info": {
   "codemirror_mode": {
    "name": "ipython",
    "version": 3
   },
   "file_extension": ".py",
   "mimetype": "text/x-python",
   "name": "python",
   "nbconvert_exporter": "python",
   "pygments_lexer": "ipython3",
   "version": "3.9.16"
  }
 },
 "nbformat": 4,
 "nbformat_minor": 5
}
