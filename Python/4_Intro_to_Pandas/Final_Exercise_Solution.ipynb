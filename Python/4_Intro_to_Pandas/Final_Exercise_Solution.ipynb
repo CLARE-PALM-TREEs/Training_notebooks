{
 "cells": [
  {
   "cell_type": "markdown",
   "id": "3d5d9000",
   "metadata": {},
   "source": [
    "<img src=\"images/Project_logos.png\" width=\"500\" height=\"300\" align=\"center\">"
   ]
  },
  {
   "cell_type": "code",
   "execution_count": null,
   "id": "1a9a5234",
   "metadata": {},
   "outputs": [],
   "source": [
    "%matplotlib inline"
   ]
  },
  {
   "cell_type": "markdown",
   "id": "f99c1df3",
   "metadata": {},
   "source": [
    "## Final Exercise Solution\n",
    "This exercise requires use of a variety of pandas functionality."
   ]
  },
  {
   "cell_type": "markdown",
   "id": "47cf5d84",
   "metadata": {},
   "source": [
    "1) Load annual mean temperature data from tas_3locs.csv"
   ]
  },
  {
   "cell_type": "code",
   "execution_count": null,
   "id": "52d51a99",
   "metadata": {},
   "outputs": [],
   "source": [
    "import pandas as pd\n",
    "\n",
    "tas_df = pd.read_csv('tas_3locs.csv', index_col=0)\n",
    "print(tas_df)"
   ]
  },
  {
   "cell_type": "markdown",
   "id": "fe853fce",
   "metadata": {},
   "source": [
    "2) Load annual total precipitation data from pr_3locs.csv"
   ]
  },
  {
   "cell_type": "code",
   "execution_count": null,
   "id": "70dc26ec",
   "metadata": {},
   "outputs": [],
   "source": [
    "pr_df = pd.read_csv('pr_3locs.csv', index_col=0)\n",
    "print(pr_df)"
   ]
  },
  {
   "cell_type": "markdown",
   "id": "57b51bc6",
   "metadata": {},
   "source": [
    "3) What year has the highest annual mean temperature in Cape Town?"
   ]
  },
  {
   "cell_type": "code",
   "execution_count": null,
   "id": "28a60a05",
   "metadata": {},
   "outputs": [],
   "source": [
    "tas_df['Cape Town'].idxmax()"
   ]
  },
  {
   "cell_type": "markdown",
   "id": "afe57ade",
   "metadata": {},
   "source": [
    "4a) What are the lowest 3 annual total precipitation values?"
   ]
  },
  {
   "cell_type": "code",
   "execution_count": null,
   "id": "b8b7633a",
   "metadata": {},
   "outputs": [],
   "source": [
    "pr_df.nsmallest(3, pr_df.columns, keep='all')"
   ]
  },
  {
   "cell_type": "markdown",
   "id": "848d85af",
   "metadata": {},
   "source": [
    "This command has given us the rows of data with the smallest 3 annual total precipitation values (287mm, 295mm, 307mm)."
   ]
  },
  {
   "cell_type": "markdown",
   "id": "f1824e09",
   "metadata": {},
   "source": [
    "4b) Where and when?"
   ]
  },
  {
   "cell_type": "markdown",
   "id": "bb387398",
   "metadata": {},
   "source": [
    "Cape Town - 1953, 1949, 1947"
   ]
  },
  {
   "cell_type": "markdown",
   "id": "dabbb3df",
   "metadata": {},
   "source": [
    "4c) What are the annual mean temperatures at those locations in those years?"
   ]
  },
  {
   "cell_type": "code",
   "execution_count": null,
   "id": "4f7f4ef8",
   "metadata": {},
   "outputs": [],
   "source": [
    "print(tas_df['Cape Town'].loc[1953])\n",
    "print(tas_df['Cape Town'].loc[1949])\n",
    "print(tas_df['Cape Town'].loc[1947])"
   ]
  },
  {
   "cell_type": "markdown",
   "id": "fe00bacd",
   "metadata": {},
   "source": [
    "5) What is the 1991-2020 climatological mean annual mean temperature and annual total precipitation for each location?"
   ]
  },
  {
   "cell_type": "code",
   "execution_count": null,
   "id": "bea8e162",
   "metadata": {},
   "outputs": [],
   "source": [
    "print('Temperature')\n",
    "print(tas_df.loc[1991:2020].mean())\n",
    "\n",
    "print('Precipitation')\n",
    "print(pr_df.loc[1991:2020].mean())"
   ]
  },
  {
   "cell_type": "markdown",
   "id": "6b049432",
   "metadata": {},
   "source": [
    "6a) Create a DataFrame of the relative precipitation anomalies from the 5-year moving average."
   ]
  },
  {
   "cell_type": "code",
   "execution_count": null,
   "id": "f1d8b83f",
   "metadata": {},
   "outputs": [],
   "source": [
    "pr_anom_df = 100.0 * (pr_df - pr_df.rolling(window=5, center=True).mean())/pr_df.rolling(window=3, center=True).mean()\n",
    "\n",
    "print(pr_anom_df)"
   ]
  },
  {
   "cell_type": "markdown",
   "id": "ba158072",
   "metadata": {},
   "source": [
    "6b) Save this DataFrame to a csv file."
   ]
  },
  {
   "cell_type": "code",
   "execution_count": null,
   "id": "59ed4122",
   "metadata": {},
   "outputs": [],
   "source": [
    "pr_anom_df.to_csv('relative_pr_anom.csv')"
   ]
  },
  {
   "cell_type": "markdown",
   "id": "8fcc5388",
   "metadata": {},
   "source": [
    "7) Plot scatter plots and calculate correlations between the annual mean temperature at the different locations."
   ]
  },
  {
   "cell_type": "code",
   "execution_count": null,
   "id": "875bd38d",
   "metadata": {},
   "outputs": [],
   "source": [
    "import matplotlib.pyplot as plt\n",
    "\n",
    "pd.plotting.scatter_matrix(tas_df)\n",
    "plt.show()"
   ]
  },
  {
   "cell_type": "code",
   "execution_count": null,
   "id": "369e19de",
   "metadata": {},
   "outputs": [],
   "source": [
    "print(tas_df.corr())"
   ]
  },
  {
   "cell_type": "markdown",
   "id": "45e32d40",
   "metadata": {},
   "source": [
    "The correlation between the annual mean temperature values are:\n",
    "\n",
    "Cape Town and Oxford 0.370\n",
    "Cape Town and Hyderabad 0.435\n",
    "Oxford and Hyderabad 0.303"
   ]
  },
  {
   "cell_type": "markdown",
   "id": "a76bbdcc",
   "metadata": {},
   "source": [
    "8) Plot time series of T (each location on a different subplot)."
   ]
  },
  {
   "cell_type": "code",
   "execution_count": null,
   "id": "bac3bfb8",
   "metadata": {},
   "outputs": [],
   "source": [
    "tas_df.plot(subplots=True)\n",
    "plt.show()"
   ]
  },
  {
   "cell_type": "markdown",
   "id": "476756e6",
   "metadata": {},
   "source": [
    "9) Plot time series of T and P for Oxford (use a secondary y-axis)."
   ]
  },
  {
   "cell_type": "code",
   "execution_count": null,
   "id": "54ca2010",
   "metadata": {},
   "outputs": [],
   "source": [
    "result = pd.concat([tas_df, pr_df], keys=[\"Annual mean temperature\", \"Annual total precipitation\"])\n",
    "oxford_result = result['Oxford'].unstack().T\n",
    "\n",
    "oxford_result[\"Annual mean temperature\"].plot(style='k', ylabel=\"Annual mean temperature\", label=\"Annual mean temperature\", legend=True)\n",
    "oxford_result[\"Annual total precipitation\"].plot(style='b', secondary_y=True, ylabel=\"Annual total precipitation\", label=\"Annual total precipitation\", legend=True)\n",
    "plt.show()"
   ]
  }
 ],
 "metadata": {
  "kernelspec": {
   "display_name": "Python 3 (ipykernel)",
   "language": "python",
   "name": "python3"
  },
  "language_info": {
   "codemirror_mode": {
    "name": "ipython",
    "version": 3
   },
   "file_extension": ".py",
   "mimetype": "text/x-python",
   "name": "python",
   "nbconvert_exporter": "python",
   "pygments_lexer": "ipython3",
   "version": "3.11.4"
  }
 },
 "nbformat": 4,
 "nbformat_minor": 5
}
