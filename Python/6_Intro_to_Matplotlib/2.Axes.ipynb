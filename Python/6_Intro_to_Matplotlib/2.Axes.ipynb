{
 "cells": [
  {
   "cell_type": "markdown",
   "id": "3a6da0ad",
   "metadata": {},
   "source": [
    "<img src=\"images/Project_logos.png\" width=\"500\" height=\"300\" align=\"center\">"
   ]
  },
  {
   "cell_type": "code",
   "execution_count": null,
   "id": "f5e254ce",
   "metadata": {},
   "outputs": [],
   "source": [
    "%matplotlib inline"
   ]
  },
  {
   "cell_type": "markdown",
   "id": "3176fd4b",
   "metadata": {},
   "source": [
    "## Working with the Axes\n",
    "\n",
    "**Learning Outcomes:** by the end of this section, you will be able to add data to a matplotlib axes and control its presentation.\n",
    "\n",
    "As has already been mentioned, most of your time building a graphic in matplotlib will be spent on the Axes. Whilst the matplotlib documentation for the Axes is very detailed, it is also rather difficult to navigate (though this is an area of ongoing improvement).\n",
    "\n",
    "As a result, it is often easier to find new plot types by looking at the pyplot module's documentation.\n",
    "\n",
    "The first and most common Axes method is ``plot``. Go ahead and look at the ``plot`` documentation from the following sources:\n",
    "\n",
    " * http://matplotlib.org/api/pyplot_summary.html\n",
    " * http://matplotlib.org/api/pyplot_api.html#matplotlib.pyplot.plot\n",
    " * http://matplotlib.org/api/axes_api.html?#matplotlib.axes.Axes.plot\n",
    " \n",
    "Plot can be used to draw one or more lines in axes data space:"
   ]
  },
  {
   "cell_type": "code",
   "execution_count": null,
   "id": "869fc3c6",
   "metadata": {},
   "outputs": [],
   "source": [
    "import matplotlib.pyplot as plt\n",
    "\n",
    "ax = plt.axes()\n",
    "line1, = ax.plot([0, 1, 2, 1.5], [3, 1, 2, 4])\n",
    "plt.show()"
   ]
  },
  {
   "cell_type": "markdown",
   "id": "f60375eb",
   "metadata": {},
   "source": [
    "Notice how the Axes view limits (``ax.viewLim``) have been updated to include the whole of the line.\n",
    "Should we want to add some spacing around the edges of our Axes we can set a margin using the [``margins``](http://matplotlib.org/api/axes_api.html?highlight=axes#matplotlib.axes.Axes.margins) method. Alternatively, we can manually set the limits with the [``set_xlim``](http://matplotlib.org/api/axes_api.html?#matplotlib.axes.Axes.set_xlim) and [``set_ylim``](http://matplotlib.org/api/axes_api.html?#matplotlib.axes.Axes.set_ylim) methods."
   ]
  },
  {
   "cell_type": "markdown",
   "id": "c5f2f158",
   "metadata": {},
   "source": [
    "### Exercise 2\n",
    "\n",
    "Modify the previous example to produce three different Figures that control the limits of the Axes."
   ]
  },
  {
   "cell_type": "markdown",
   "id": "5de139aa",
   "metadata": {},
   "source": [
    "1\\. Manually set the x and y limits to $[0.5, 2]$ and $[1, 5]$ respectively."
   ]
  },
  {
   "cell_type": "code",
   "execution_count": null,
   "id": "0bedb597",
   "metadata": {},
   "outputs": [],
   "source": []
  },
  {
   "cell_type": "markdown",
   "id": "d54a3bba",
   "metadata": {},
   "source": [
    "  2\\. Define a margin such that there is 10% whitespace inside the axes around the drawn line (Hint: numbers to margins are normalised such that 0% is 0.0 and 100% is 1.0)."
   ]
  },
  {
   "cell_type": "code",
   "execution_count": null,
   "id": "cc0e64b9",
   "metadata": {},
   "outputs": [],
   "source": []
  },
  {
   "cell_type": "markdown",
   "id": "4f157796",
   "metadata": {},
   "source": [
    "--------------\n",
    "\n",
    "If we want to create a plot in its simplest form, without any modifications to the Figure or Axes, we can leave out the creation of artist variables. Our simple line example then becomes:"
   ]
  },
  {
   "cell_type": "code",
   "execution_count": null,
   "id": "78a05af0",
   "metadata": {},
   "outputs": [],
   "source": [
    "plt.plot([0, 1, 2, 1.5], [3, 1, 2, 4])\n",
    "plt.show()"
   ]
  },
  {
   "cell_type": "markdown",
   "id": "b6c5bb1f",
   "metadata": {},
   "source": [
    "The simplicity of this example shows how visualisations can be produced quickly and easily with matplotlib, but it is worth remembering that for full control of the Figure and Axes artists we can mix the convenience of ``pyplot`` with the power of matplotlib's object oriented design."
   ]
  },
  {
   "cell_type": "markdown",
   "id": "166d5c36",
   "metadata": {},
   "source": [
    "### Exercise 3\n",
    "\n",
    "By calling ``plot`` multiple times, create a single Axes showing the line plots of $y=sin(x)$ and $y=cos(x)$ in the interval $[0, 2\\pi]$ with 200 linearly spaced $x$ samples."
   ]
  },
  {
   "cell_type": "code",
   "execution_count": null,
   "id": "44f36218",
   "metadata": {},
   "outputs": [],
   "source": []
  }
 ],
 "metadata": {
  "kernelspec": {
   "display_name": "Python 3 (ipykernel)",
   "language": "python",
   "name": "python3"
  },
  "language_info": {
   "codemirror_mode": {
    "name": "ipython",
    "version": 3
   },
   "file_extension": ".py",
   "mimetype": "text/x-python",
   "name": "python",
   "nbconvert_exporter": "python",
   "pygments_lexer": "ipython3",
   "version": "3.9.16"
  }
 },
 "nbformat": 4,
 "nbformat_minor": 5
}
