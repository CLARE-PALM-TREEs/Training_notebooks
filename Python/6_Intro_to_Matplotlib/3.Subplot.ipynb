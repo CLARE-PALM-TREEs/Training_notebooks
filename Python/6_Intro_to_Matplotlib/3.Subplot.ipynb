{
 "cells": [
  {
   "cell_type": "markdown",
   "id": "47febfb4",
   "metadata": {},
   "source": [
    "<img src=\"images/Project_logos.png\" width=\"500\" height=\"300\" align=\"center\">"
   ]
  },
  {
   "cell_type": "code",
   "execution_count": null,
   "id": "56629384",
   "metadata": {},
   "outputs": [],
   "source": [
    "%matplotlib inline"
   ]
  },
  {
   "cell_type": "markdown",
   "id": "d3d6083d",
   "metadata": {},
   "source": [
    "--------\n",
    "\n",
    "## Subplot\n",
    "\n",
    "**Learning Outcomes:** by the end of this section, you will be able to understand how to produce a single figure containing multiple axes.\n",
    "\n",
    "Subplot is matplotlib's description of adding multiple axes to a single Figure.\n",
    "\n",
    "Matplotlib makes it relatively easy to add more than one Axes object to a Figure. The ``Figure.add_subplot()`` method, which is wrapped by the ``pyplot.subplot()`` function, adds an Axes in the grid position specified. To compute the position, we tell matplotlib the number of rows and columns (respectively) to divide the figure into, followed by the index of the axes to be created (1 based). \n",
    "\n",
    "For example, to create an axes grid with two columns, the grid specification would be ``plt.subplot(1, 2, <plot_number>)``.  \n",
    "The left-hand Axes is plot number 1, created with ``subplot(1, 2, 1)``, and the right-hand one is number 2, ``subplot(1, 2, 2)`` :"
   ]
  },
  {
   "cell_type": "code",
   "execution_count": null,
   "id": "8200dfe3",
   "metadata": {},
   "outputs": [],
   "source": [
    "import matplotlib.pyplot as plt\n",
    "\n",
    "ax_left = plt.subplot(1, 2, 1)\n",
    "plt.plot([2,1,3,4])\n",
    "plt.title('left = #1')\n",
    "\n",
    "ax_right = plt.subplot(1, 2, 2)\n",
    "plt.plot([4,1,3,2])\n",
    "plt.title('right = #2')\n",
    "plt.show()"
   ]
  },
  {
   "cell_type": "markdown",
   "id": "dd9e161a",
   "metadata": {},
   "source": [
    "Likewise, for plots above + below one another we would use *two* rows and *one* column, as in ``subplot(2, 1, <plot_number>)``."
   ]
  },
  {
   "cell_type": "markdown",
   "id": "ddac1245",
   "metadata": {},
   "source": [
    "Now let's expand our grid to two rows and three columns, and place one set of axes on the top right (grid specification ``(2, 3, 3)``) and another on the bottom left (grid specification ``(2, 3, 4)``)"
   ]
  },
  {
   "cell_type": "code",
   "execution_count": null,
   "id": "e8fe99ee",
   "metadata": {},
   "outputs": [],
   "source": [
    "top_right_ax = plt.subplot(2, 3, 3, title='#3 = top-right')\n",
    "bottom_left_ax = plt.subplot(2, 3, 4, title='#4 = bottom-left')\n",
    "plt.show()"
   ]
  },
  {
   "cell_type": "markdown",
   "id": "d4c2137e",
   "metadata": {},
   "source": [
    "--------\n",
    "\n",
    "**Exercise 3 continued:** Copy the answer from the previous task (plotting $y=sin(x)$ and $y=cos(x)$) and add the appropriate ``plt.subplot`` calls to create a Figure with two rows of Axes, one showing $y=sin(x)$ and the other showing $y=cos(x)$."
   ]
  },
  {
   "cell_type": "code",
   "execution_count": null,
   "id": "791da251",
   "metadata": {},
   "outputs": [],
   "source": []
  },
  {
   "cell_type": "markdown",
   "id": "b9c60a45",
   "metadata": {},
   "source": [
    "### Removing an axis"
   ]
  },
  {
   "cell_type": "code",
   "execution_count": null,
   "id": "2dad0c00",
   "metadata": {},
   "outputs": [],
   "source": [
    "figure, axes = plt.subplots(nrows=3, ncols=2, figsize=(15, 15))\n",
    "\n",
    "# Remove the plot at the bottom right\n",
    "figure.delaxes(axes[2][1]); # Cols and Rows - starts at 0"
   ]
  }
 ],
 "metadata": {
  "kernelspec": {
   "display_name": "Python 3 (ipykernel)",
   "language": "python",
   "name": "python3"
  },
  "language_info": {
   "codemirror_mode": {
    "name": "ipython",
    "version": 3
   },
   "file_extension": ".py",
   "mimetype": "text/x-python",
   "name": "python",
   "nbconvert_exporter": "python",
   "pygments_lexer": "ipython3",
   "version": "3.11.4"
  }
 },
 "nbformat": 4,
 "nbformat_minor": 5
}
