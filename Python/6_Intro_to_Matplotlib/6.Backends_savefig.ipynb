{
 "cells": [
  {
   "cell_type": "code",
   "execution_count": null,
   "id": "1840a61a",
   "metadata": {},
   "outputs": [],
   "source": [
    "%matplotlib inline"
   ]
  },
  {
   "cell_type": "markdown",
   "id": "d12a3e60",
   "metadata": {},
   "source": [
    "## Backends and savefig\n",
    "\n",
    "**Learning Outcomes:** by the end of this section, you will be able to save a plot to a file.\n",
    "\n",
    "Matplotlib allows you to specify a \"backend\" to drive rendering the Figure. The backend includes the graphical user interface (GUI) library to use, and the most used backend (as it is normally the default one) is the \"TkAgg\" backend. When ``plt.show()`` is called, this backend pops up a Figure in a new TkInter window, which is rendered by the anti-grain graphics library (also known as \"agg\"). Generally, the most common reason to want to change backends is for automated Figure production on a headless server. In this situation, the \"agg\" backend can be used:\n",
    "\n",
    "    import matplotlib\n",
    "    matplotlib.use('agg')\n",
    "    import matplotlib.pyplot as plt\n",
    "    \n",
    "Note: The backend must be chosen before importing pyplot for the first time, unless the ``force`` keyword is added.\n",
    "\n",
    "Non-interactive backends such as the \"agg\" backend will do nothing when **``plt.show()``** is called - this is because there is nowhere (no graphical display) specified for a Figure to be displayed.\n",
    "\n",
    "To save a Figure programmatically the ``savefig`` function can be used from _any_ backend:"
   ]
  },
  {
   "cell_type": "code",
   "execution_count": null,
   "id": "f64c9be6",
   "metadata": {},
   "outputs": [],
   "source": [
    "import matplotlib.pyplot as plt\n",
    "\n",
    "plt.plot(range(10))\n",
    "plt.savefig('simple.svg')"
   ]
  },
  {
   "cell_type": "markdown",
   "id": "3888dc79",
   "metadata": {},
   "source": [
    "For graphical backends, showing and subsequently closing the window of a Figure results in the Figure being cleared from the matplotlib system. This is not the case for ``plt.savefig``, which typically should be called before ``plt.show``.\n",
    "\n",
    "It is also possible to manually close Figures without showing them by using the ``plt.close`` function. This could be called to remove the current Figure after saving it with ``plt.savefig`` on the occasion where not clearing the Figure might interfere with subsequent plots to be created.\n",
    "\n",
    "More can be found out about saving options (e.g. setting the resolution, format etc.) here: https://matplotlib.org/stable/api/_as_gen/matplotlib.pyplot.savefig.html"
   ]
  }
 ],
 "metadata": {
  "kernelspec": {
   "display_name": "Python 3 (ipykernel)",
   "language": "python",
   "name": "python3"
  },
  "language_info": {
   "codemirror_mode": {
    "name": "ipython",
    "version": 3
   },
   "file_extension": ".py",
   "mimetype": "text/x-python",
   "name": "python",
   "nbconvert_exporter": "python",
   "pygments_lexer": "ipython3",
   "version": "3.11.5"
  }
 },
 "nbformat": 4,
 "nbformat_minor": 5
}
