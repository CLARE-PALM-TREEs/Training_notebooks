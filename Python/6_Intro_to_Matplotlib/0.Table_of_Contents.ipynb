{
 "cells": [
  {
   "cell_type": "markdown",
   "id": "78bf9dab",
   "metadata": {},
   "source": [
    "<img src=\"images/Project_logos.png\" width=\"500\" height=\"300\" align=\"center\">"
   ]
  },
  {
   "cell_type": "markdown",
   "id": "459bd81a",
   "metadata": {},
   "source": [
    "## Matplotlib\n",
    "\n",
    "Matplotlib is a Python package used widely throughout the scientific Python community to produce high quality 2D publication graphics. It transparently supports a wide range of output formats including PNG (and other raster formats), PostScript/EPS, PDF and SVG and has interfaces for all of the major desktop GUI (Graphical User Interface) toolkits.\n",
    "\n",
    "Matplotlib comes with a convenience sub-package called pyplot. For consistency with the wider maptlotlib community, this should always be imported as plt:\n"
   ]
  },
  {
   "cell_type": "code",
   "execution_count": null,
   "id": "cac9dad0",
   "metadata": {},
   "outputs": [],
   "source": [
    "import matplotlib.pyplot as plt"
   ]
  },
  {
   "cell_type": "markdown",
   "id": "77f4f388",
   "metadata": {},
   "source": [
    "The aim of this course is to enable you to construct, modify and save matplotlib plots.\n",
    "\n",
    "We’ll use the command\n",
    "\n",
    "`% matplotlib inline`\n",
    "\n",
    "at the top of each notebook so that any plot we create will be automatically embedded below the code cell once the code has been executed.\n",
    "\n",
    "The course will cover:\n",
    "\n",
    "1. [The matplotlib Figure](1.Figure.ipynb)\n",
    "2. [Working with the Axes](2.Axes.ipynb)\n",
    "3. [Subplot](3.Subplot.ipynb)\n",
    "4. [Further plot types](4.Further_plot_types.ipynb)\n",
    "5. [Titles, legends, colorbars and annotations](5.Titles_legends_colorbars_annotations.ipynb)\n",
    "6. [Backends and savefig](6.Backends_savefig.ipynb)"
   ]
  }
 ],
 "metadata": {
  "kernelspec": {
   "display_name": "Python 3 (ipykernel)",
   "language": "python",
   "name": "python3"
  },
  "language_info": {
   "codemirror_mode": {
    "name": "ipython",
    "version": 3
   },
   "file_extension": ".py",
   "mimetype": "text/x-python",
   "name": "python",
   "nbconvert_exporter": "python",
   "pygments_lexer": "ipython3",
   "version": "3.9.16"
  }
 },
 "nbformat": 4,
 "nbformat_minor": 5
}
