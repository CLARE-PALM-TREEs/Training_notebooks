{
 "cells": [
  {
   "cell_type": "markdown",
   "id": "f8e4af5e",
   "metadata": {},
   "source": [
    "<img src=\"images/Project_logos.png\" width=\"500\" height=\"300\" align=\"center\">"
   ]
  },
  {
   "cell_type": "code",
   "execution_count": null,
   "id": "73c2d575",
   "metadata": {},
   "outputs": [],
   "source": [
    "%matplotlib inline"
   ]
  },
  {
   "cell_type": "markdown",
   "id": "954fa7f9",
   "metadata": {},
   "source": [
    "## The matplotlib Figure\n",
    "\n",
    "**Learning Outcomes:** by the end of this section, you will be able to understand the purpose of the matplotlib Figure object.\n",
    "\n",
    "At the heart of every matplotlib plot is the \"Figure\". The Figure is the top level concept that can be drawn to one of the many output formats, or simply just to screen.\n",
    "\n",
    "Let's create our first Figure using pyplot, and then show it:"
   ]
  },
  {
   "cell_type": "code",
   "execution_count": null,
   "id": "1da9dfad",
   "metadata": {},
   "outputs": [],
   "source": [
    "import matplotlib.pyplot as plt\n",
    "\n",
    "fig = plt.figure()\n",
    "plt.show()"
   ]
  },
  {
   "cell_type": "markdown",
   "id": "15e9f1b7",
   "metadata": {},
   "source": [
    "On its own, drawing the Figure is uninteresting and will result in an empty piece of paper (that's why we didn't see anything above).  \n",
    "Other visible elements are added to a Figure to make a plot.  All visible items in Matplotlib are instances of the [Artist](http://matplotlib.org/api/artist_api.html#artist-class) class :  The Figure and Axes are both types of Artist.\n",
    "\n",
    "To start with we can draw an [Axes](http://matplotlib.org/api/axes_api.html) artist in the Figure, to represent our data space. The most basic Axes is rectangular and has tick labels and tick marks.  Multiple Axes artists can be placed on a Figure.\n",
    "\n",
    "Let's go ahead and create a Figure with a single Axes, and show it using pyplot:"
   ]
  },
  {
   "cell_type": "code",
   "execution_count": null,
   "id": "086c4341",
   "metadata": {},
   "outputs": [],
   "source": [
    "ax = plt.axes()\n",
    "plt.show()"
   ]
  },
  {
   "cell_type": "markdown",
   "id": "b5f045a3",
   "metadata": {},
   "source": [
    "Matplotlib's ``pyplot`` module makes the process of creating graphics easier by allowing us to skip some of the tedious object construction. For example, we did not need to manually create the Figure with ``plt.figure`` because it was implicit that we needed a Figure when we created the Axes.\n",
    "\n",
    "Under the hood matplotlib still had to create a Figure; we just didn't need to capture it into a variable. We can access the created object with the \"state\" functions found in pyplot called **``gcf``** and **``gca``**."
   ]
  },
  {
   "cell_type": "markdown",
   "id": "a8db320f",
   "metadata": {},
   "source": [
    "### Exercise 1\n",
    "\n",
    "Go to matplotlib.org and search for what these strangely named functions do.\n",
    "\n",
    "Hint: you will find multiple results so remember we are looking for the ``pyplot`` versions of these functions."
   ]
  },
  {
   "cell_type": "markdown",
   "id": "e31f9dfd",
   "metadata": {},
   "source": [
    "### Figure size\n",
    "\n",
    "The size of the plot can be specified using the figsize parameter.\n",
    "\n",
    "The figsize keyword argument takes a tuple – (width, height) and is measured in inches. The default is (6.4, 4.8)."
   ]
  },
  {
   "cell_type": "code",
   "execution_count": null,
   "id": "4a0c1bc4",
   "metadata": {},
   "outputs": [],
   "source": [
    "# Create our figure and our axes\n",
    "\n",
    "figure, axes = plt.subplots(figsize=(4, 4))"
   ]
  },
  {
   "cell_type": "markdown",
   "id": "5e0221fd",
   "metadata": {},
   "source": [
    "### Adding gridlines\n",
    "\n",
    "We can show gridlines on the plot using ``grid`` (https://matplotlib.org/stable/api/_as_gen/matplotlib.axes.Axes.grid.html)."
   ]
  },
  {
   "cell_type": "code",
   "execution_count": null,
   "id": "6ae26164",
   "metadata": {},
   "outputs": [],
   "source": [
    "figure, axes = plt.subplots(figsize=(4, 4))\n",
    "\n",
    "# Gridlines\n",
    "axes.grid(visible=True, which=\"major\", color=(0.745, 0.745, 0.745))\n",
    "axes.set_axisbelow(True) # This will make sure the gridlines are behind the data points"
   ]
  },
  {
   "cell_type": "markdown",
   "id": "119c8427",
   "metadata": {},
   "source": [
    "### Removing frame\n",
    "\n",
    "We can choose whether to show the plot frame or not using ``set_frame_on``."
   ]
  },
  {
   "cell_type": "code",
   "execution_count": null,
   "id": "696037bc",
   "metadata": {},
   "outputs": [],
   "source": [
    "figure, axes = plt.subplots(figsize=(4, 4))\n",
    "axes.grid(visible=True, which=\"major\", color=(0.745, 0.745, 0.745))\n",
    "axes.set_frame_on(False)"
   ]
  }
 ],
 "metadata": {
  "kernelspec": {
   "display_name": "Python 3 + Jaspy",
   "language": "python",
   "name": "jaspy"
  },
  "language_info": {
   "codemirror_mode": {
    "name": "ipython",
    "version": 3
   },
   "file_extension": ".py",
   "mimetype": "text/x-python",
   "name": "python",
   "nbconvert_exporter": "python",
   "pygments_lexer": "ipython3",
   "version": "3.10.5"
  }
 },
 "nbformat": 4,
 "nbformat_minor": 5
}
