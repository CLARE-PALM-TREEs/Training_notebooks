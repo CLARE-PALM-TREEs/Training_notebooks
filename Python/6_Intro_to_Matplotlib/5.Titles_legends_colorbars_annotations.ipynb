{
 "cells": [
  {
   "cell_type": "code",
   "execution_count": null,
   "id": "f2d77046",
   "metadata": {},
   "outputs": [],
   "source": [
    "%matplotlib inline"
   ]
  },
  {
   "cell_type": "markdown",
   "id": "8517ee57",
   "metadata": {},
   "source": [
    "## Titles, legends, colorbars and annotations\n",
    "\n",
    "**Learning Outcomes:** by the end of this section, you will be able to modify matplotlib plots to display further descriptive detail."
   ]
  },
  {
   "cell_type": "markdown",
   "id": "21d3d052",
   "metadata": {},
   "source": [
    "Matplotlib has convenience functions for the addition of plot elements such as titles, legends, colorbars and text based annotation.\n",
    "\n",
    "The ``suptitle`` pyplot function allows us to set the title of a Figure, and the ``set_title`` method on an Axes allows us to set the title of an individual Axes. Additionally, an Axes has methods named ``set_xlabel`` and ``set_ylabel`` to label the respective x and y axes. Finally, we can add text, located by data coordinates, with the Axes ``text`` method:\n",
    "\n",
    "We can change the font style using the ``fontname`` keyword argument and font size using the ``fontsize`` keyword argument."
   ]
  },
  {
   "cell_type": "code",
   "execution_count": null,
   "id": "a220ad23",
   "metadata": {},
   "outputs": [],
   "source": [
    "import matplotlib.pyplot as plt\n",
    "\n",
    "fig = plt.figure()\n",
    "ax = plt.axes()\n",
    "# Adjust the created axes so its topmost extent is 0.8 of the figure.\n",
    "fig.subplots_adjust(top=0.8)\n",
    "\n",
    "fig.suptitle('Figure title', fontname=\"Arial\", fontsize=18, fontweight='bold')\n",
    "ax.set_title('Axes title', fontsize=16)\n",
    "\n",
    "ax.set_xlabel('The X axis')\n",
    "ax.set_ylabel('The Y axis $y=f(x)$', fontsize=16)\n",
    "\n",
    "ax.text(0.5, 0.5, 'Text centered at (0.5, 0.5)\\nin data coordinates.',\n",
    "        horizontalalignment='center', fontsize=14)\n",
    "\n",
    "plt.show()"
   ]
  },
  {
   "cell_type": "markdown",
   "id": "e3c1e6db",
   "metadata": {},
   "source": [
    "The creation of a legend is as simple as adding a \"label\" to lines of interest. This can be done in the call to ``plt.plot`` and then followed up with a call to ``plt.legend``:"
   ]
  },
  {
   "cell_type": "code",
   "execution_count": null,
   "id": "34a660ae",
   "metadata": {},
   "outputs": [],
   "source": [
    "import numpy as np\n",
    "\n",
    "x = np.linspace(-3, 7, 200)\n",
    "plt.plot(x, 0.5*x**3 - 3*x**2, linewidth=2,\n",
    "         label='$f(x)=0.5x^3-3x^2$')\n",
    "plt.plot(x, 1.5*x**2 - 6*x, linewidth=2, linestyle='--',\n",
    "         label='Gradient of $f(x)$', )\n",
    "plt.legend(loc='lower right')\n",
    "plt.grid()\n",
    "plt.show()"
   ]
  },
  {
   "cell_type": "markdown",
   "id": "fb098c08",
   "metadata": {},
   "source": [
    "Colorbars are created with the ``plt.colorbar`` function:"
   ]
  },
  {
   "cell_type": "code",
   "execution_count": null,
   "id": "9e466f05",
   "metadata": {},
   "outputs": [],
   "source": [
    "x = np.linspace(-180, 180, 60)\n",
    "y = np.linspace(-90, 90, 30)\n",
    "x2d, y2d = np.meshgrid(x, y)\n",
    "data = np.cos(3 * np.deg2rad(x2d)) + np.sin(2 * np.deg2rad(y2d))\n",
    "\n",
    "plt.contourf(x, y, data)\n",
    "plt.colorbar(orientation='horizontal')\n",
    "plt.show()"
   ]
  },
  {
   "cell_type": "markdown",
   "id": "34d34c82",
   "metadata": {},
   "source": [
    "Matplotlib comes with powerful annotation capabilities, which  are described in detail at http://matplotlib.org/users/annotations_intro.html.\n",
    "\n",
    "The annotation's power can mean that the syntax is a little harder to read, which is demonstrated by one of the simplest examples of using annotate:"
   ]
  },
  {
   "cell_type": "code",
   "execution_count": null,
   "id": "7abc1a7d",
   "metadata": {},
   "outputs": [],
   "source": [
    "x = np.linspace(-3, 7, 200)\n",
    "plt.plot(x, 0.5*x**3 - 3*x**2, linewidth=2)\n",
    "plt.annotate('Local minimum',\n",
    "             xy=(4, -18),\n",
    "             xytext=(-2, -40), fontsize=15,\n",
    "             arrowprops={'facecolor': 'black', 'headlength': 10})\n",
    "plt.grid()\n",
    "plt.show()"
   ]
  }
 ],
 "metadata": {
  "kernelspec": {
   "display_name": "Python 3 (ipykernel)",
   "language": "python",
   "name": "python3"
  },
  "language_info": {
   "codemirror_mode": {
    "name": "ipython",
    "version": 3
   },
   "file_extension": ".py",
   "mimetype": "text/x-python",
   "name": "python",
   "nbconvert_exporter": "python",
   "pygments_lexer": "ipython3",
   "version": "3.11.5"
  }
 },
 "nbformat": 4,
 "nbformat_minor": 5
}
