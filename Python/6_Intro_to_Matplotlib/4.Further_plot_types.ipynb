{
 "cells": [
  {
   "cell_type": "markdown",
   "id": "70ccc262",
   "metadata": {},
   "source": [
    "<img src=\"images/Project_logos.png\" width=\"500\" height=\"300\" align=\"center\">"
   ]
  },
  {
   "cell_type": "code",
   "execution_count": null,
   "id": "cf166d18",
   "metadata": {},
   "outputs": [],
   "source": [
    "%matplotlib inline"
   ]
  },
  {
   "cell_type": "markdown",
   "id": "98f2906d",
   "metadata": {},
   "source": [
    "--------\n",
    "\n",
    "# Further plot types\n",
    "\n",
    "**Learning Outcomes:** by the end of this section, you will be able to choose an appropriate matplotlib plot type to present your data.\n",
    "\n",
    "Matplotlib comes with a huge variety of different plot types. Here is a quick demonstration of the more common ones."
   ]
  },
  {
   "cell_type": "code",
   "execution_count": null,
   "id": "8b672489",
   "metadata": {},
   "outputs": [],
   "source": [
    "import matplotlib.pyplot as plt\n",
    "import numpy as np"
   ]
  },
  {
   "cell_type": "code",
   "execution_count": null,
   "id": "adbbeabb",
   "metadata": {},
   "outputs": [],
   "source": [
    "x = np.linspace(-180, 180, 60)\n",
    "y = np.linspace(-90, 90, 30)\n",
    "x2d, y2d = np.meshgrid(x, y)\n",
    "data = np.cos(3 * np.deg2rad(x2d)) + np.sin(2 * np.deg2rad(y2d))"
   ]
  },
  {
   "cell_type": "markdown",
   "id": "2ddcc90a",
   "metadata": {},
   "source": [
    "## Filled contour plots"
   ]
  },
  {
   "cell_type": "code",
   "execution_count": null,
   "id": "6f2b0b7e",
   "metadata": {},
   "outputs": [],
   "source": [
    "plt.contourf(x, y, data)\n",
    "plt.show()"
   ]
  },
  {
   "cell_type": "markdown",
   "id": "39eeb343",
   "metadata": {},
   "source": [
    "We can control the ticks and tick labels using ``xticks`` and ``yticks``."
   ]
  },
  {
   "cell_type": "code",
   "execution_count": null,
   "id": "311577ba",
   "metadata": {},
   "outputs": [],
   "source": [
    "my_xticks = [-100, 0, 100]\n",
    "my_yticks = [-75, -50, -25, 0, 25, 50, 75]\n",
    "\n",
    "my_xtick_labels = ['-100', 'zero', '100']\n",
    "my_ytick_labels = ['-75', '-50', '-25', 'zero', '25', '50', '75']\n",
    "\n",
    "plt.contourf(x, y, data)\n",
    "\n",
    "# Set the x and y ticks\n",
    "plt.xticks(my_xticks, labels=my_xtick_labels)\n",
    "plt.yticks(my_yticks, labels=my_ytick_labels)\n",
    "\n",
    "plt.show()"
   ]
  },
  {
   "cell_type": "markdown",
   "id": "41919453",
   "metadata": {},
   "source": [
    "## Imshow"
   ]
  },
  {
   "cell_type": "code",
   "execution_count": null,
   "id": "b7f70b2d",
   "metadata": {},
   "outputs": [],
   "source": [
    "plt.imshow(data, extent=[-180, 180, -90, 90],\n",
    "           interpolation='nearest', origin='lower')\n",
    "plt.show()"
   ]
  },
  {
   "cell_type": "markdown",
   "id": "9fb8b358",
   "metadata": {},
   "source": [
    "## Pcolormesh"
   ]
  },
  {
   "cell_type": "code",
   "execution_count": null,
   "id": "7ec8d619",
   "metadata": {},
   "outputs": [],
   "source": [
    "plt.pcolormesh(x, y, data)\n",
    "plt.show()"
   ]
  },
  {
   "cell_type": "markdown",
   "id": "41810cd5",
   "metadata": {},
   "source": [
    "We can change the colour map by using ``cmap``. Preset colour maps can be found here: https://matplotlib.org/stable/users/explain/colors/colormaps.html.\n",
    "\n",
    "Additional information about colour map creation can be found here: https://matplotlib.org/stable/users/explain/colors/colormap-manipulation.html"
   ]
  },
  {
   "cell_type": "code",
   "execution_count": null,
   "id": "9ba25ebb",
   "metadata": {},
   "outputs": [],
   "source": [
    "from matplotlib import cm\n",
    "\n",
    "plt.pcolormesh(x, y, data, cmap=cm.PRGn)\n",
    "plt.show()"
   ]
  },
  {
   "cell_type": "markdown",
   "id": "a79c5c7c",
   "metadata": {},
   "source": [
    "### Exercise\n",
    "\n",
    "Choose a colour map of your choice and plot ``x``, ``y``, ``data`` as either a filled contour plot or a pcolormesh plot."
   ]
  },
  {
   "cell_type": "code",
   "execution_count": null,
   "id": "fe866fbf",
   "metadata": {},
   "outputs": [],
   "source": []
  },
  {
   "cell_type": "markdown",
   "id": "4e4a4f4e",
   "metadata": {},
   "source": [
    "## Scatter plot"
   ]
  },
  {
   "cell_type": "code",
   "execution_count": null,
   "id": "9cdc1e52",
   "metadata": {},
   "outputs": [],
   "source": [
    "x_data = np.random.rand(300)\n",
    "y_data = np.random.rand(300)\n",
    "\n",
    "plt.scatter(x_data, y_data)\n",
    "plt.show()"
   ]
  },
  {
   "cell_type": "markdown",
   "id": "a60d55e4",
   "metadata": {},
   "source": [
    "We can change the marker using the ``marker`` keyword argument, the size using ``s``, the colour using ``color`` and the transparency of the shading using ``alpha``."
   ]
  },
  {
   "cell_type": "code",
   "execution_count": null,
   "id": "b4a15c4b",
   "metadata": {},
   "outputs": [],
   "source": [
    "plt.scatter(x_data, y_data, marker='s', color='g', s=25, alpha=0.3)\n",
    "plt.show()"
   ]
  },
  {
   "cell_type": "markdown",
   "id": "5f1a5d0d",
   "metadata": {},
   "source": [
    "We can set the colour by the value of a third variable using the ``c`` keyword argument."
   ]
  },
  {
   "cell_type": "code",
   "execution_count": null,
   "id": "7faa4cd3",
   "metadata": {},
   "outputs": [],
   "source": [
    "plt.scatter(x2d, y2d, c=data, s=15)\n",
    "plt.show()"
   ]
  },
  {
   "cell_type": "markdown",
   "id": "45f4ce4b",
   "metadata": {},
   "source": [
    "### Exercise\n",
    "\n",
    "Choose a marker shape, marker size, colour and transparency.\n",
    "Plot a scatter plot of ``xdata`` and ``ydata`` with this formatting."
   ]
  },
  {
   "cell_type": "code",
   "execution_count": null,
   "id": "19c00a85",
   "metadata": {},
   "outputs": [],
   "source": []
  },
  {
   "cell_type": "markdown",
   "id": "6fc72d9d",
   "metadata": {},
   "source": [
    "## Bar plot"
   ]
  },
  {
   "cell_type": "code",
   "execution_count": null,
   "id": "e52c1ecd",
   "metadata": {},
   "outputs": [],
   "source": [
    "plt.bar(x, data.sum(axis=0), width=np.diff(x)[0])\n",
    "plt.show()"
   ]
  },
  {
   "cell_type": "markdown",
   "id": "b6b923f5",
   "metadata": {},
   "source": [
    "We can add horizontal or vertical lines using ``axhline`` or ``axvline``."
   ]
  },
  {
   "cell_type": "code",
   "execution_count": null,
   "id": "3dba70a6",
   "metadata": {},
   "outputs": [],
   "source": [
    "plt.bar(x, data.sum(axis=0), width=np.diff(x)[0])\n",
    "plt.axhline(0, linestyle='--', color='k')\n",
    "plt.axvline(120, linestyle='-', color='r')\n",
    "plt.show()"
   ]
  },
  {
   "cell_type": "markdown",
   "id": "7a343fa9",
   "metadata": {},
   "source": [
    "We can plot multiple bar plots on the same figure."
   ]
  },
  {
   "cell_type": "code",
   "execution_count": null,
   "id": "6f9db4d7",
   "metadata": {},
   "outputs": [],
   "source": [
    "x_data = np.arange(10)\n",
    "y_data = np.random.randint(100, size=(10))\n",
    "z_data = np.random.randint(100, size=(10))\n",
    "a_data = np.random.randint(100, size=(10))\n",
    "\n",
    "plt.bar(x_data-0.3, y_data, width=0.3)\n",
    "plt.bar(x_data, z_data, width=0.3)\n",
    "plt.bar(x_data+0.3, a_data, width=0.3)\n",
    "\n",
    "plt.show()"
   ]
  },
  {
   "cell_type": "markdown",
   "id": "5e1d4ba9",
   "metadata": {},
   "source": [
    "## Line plot\n",
    "\n",
    "We can change the **line style** (https://matplotlib.org/stable/api/_as_gen/matplotlib.lines.Line2D.html#matplotlib.lines.Line2D.set_linestyle), **colour** (https://matplotlib.org/stable/users/explain/colors/colors.html), **marker shape** (https://matplotlib.org/stable/api/markers_api.html) and **marker size** (https://matplotlib.org/stable/api/_as_gen/matplotlib.lines.Line2D.html#matplotlib.lines.Line2D.set_markersize) using keyword arguments."
   ]
  },
  {
   "cell_type": "code",
   "execution_count": null,
   "id": "e959b568",
   "metadata": {},
   "outputs": [],
   "source": [
    "plt.plot(x, data.sum(axis=0), linestyle='--',\n",
    "         marker='d', markersize=6, color='red')\n",
    "plt.show()"
   ]
  },
  {
   "cell_type": "markdown",
   "id": "3fd17ca9",
   "metadata": {},
   "source": [
    "We can overplot multiple line plots on the same figure."
   ]
  },
  {
   "cell_type": "code",
   "execution_count": null,
   "id": "538ca21b",
   "metadata": {},
   "outputs": [],
   "source": [
    "plt.plot(x, data.sum(axis=0), linestyle='-',\n",
    "         marker='d', markersize=6, color='red')\n",
    "plt.plot(x, -data.sum(axis=0), linestyle='-',\n",
    "         marker='d', markersize=6, color='blue')\n",
    "plt.show()"
   ]
  },
  {
   "cell_type": "markdown",
   "id": "8dcad76b",
   "metadata": {},
   "source": [
    "## Histograms"
   ]
  },
  {
   "cell_type": "code",
   "execution_count": null,
   "id": "86821837",
   "metadata": {},
   "outputs": [],
   "source": [
    "hist_data = np.random.rand(100)\n",
    "\n",
    "plt.hist(hist_data)\n",
    "plt.show()"
   ]
  },
  {
   "cell_type": "markdown",
   "id": "00579dc2",
   "metadata": {},
   "source": [
    "We can set the number of bins."
   ]
  },
  {
   "cell_type": "code",
   "execution_count": null,
   "id": "1690d6b5",
   "metadata": {},
   "outputs": [],
   "source": [
    "plt.hist(hist_data, bins=5)\n",
    "plt.show()"
   ]
  },
  {
   "cell_type": "markdown",
   "id": "22e79ebf",
   "metadata": {},
   "source": [
    "We can set the bin bounds by providing an array to ``bins``."
   ]
  },
  {
   "cell_type": "code",
   "execution_count": null,
   "id": "be3c38cb",
   "metadata": {},
   "outputs": [],
   "source": [
    "plt.hist(hist_data, bins=[0, 0.1, 0.4, 0.5, 0.6, 0.9, 1.0])\n",
    "plt.show()"
   ]
  },
  {
   "cell_type": "code",
   "execution_count": null,
   "id": "d3ef67d5",
   "metadata": {},
   "outputs": [],
   "source": [
    "plt.hist(hist_data, bins=np.arange(start = 0, stop = 1, step = 0.05))\n",
    "plt.show()"
   ]
  },
  {
   "cell_type": "markdown",
   "id": "4c34a923",
   "metadata": {},
   "source": [
    "### Exercise\n",
    "\n",
    "Plot ``test_data`` as a histogram, choosing how to arrange the bins, and plotting vertical lines at 1.5 and -1.5."
   ]
  },
  {
   "cell_type": "code",
   "execution_count": null,
   "id": "05453cd6",
   "metadata": {},
   "outputs": [],
   "source": [
    "test_data = np.random.normal(size=100)"
   ]
  },
  {
   "cell_type": "code",
   "execution_count": null,
   "id": "4e1d7477",
   "metadata": {},
   "outputs": [],
   "source": []
  },
  {
   "cell_type": "markdown",
   "id": "478b7873",
   "metadata": {},
   "source": [
    "## Boxplots"
   ]
  },
  {
   "cell_type": "code",
   "execution_count": null,
   "id": "c4c527cf",
   "metadata": {
    "scrolled": true
   },
   "outputs": [],
   "source": [
    "plt.boxplot(hist_data)\n",
    "plt.show()"
   ]
  },
  {
   "cell_type": "code",
   "execution_count": null,
   "id": "034a98b1",
   "metadata": {},
   "outputs": [],
   "source": [
    "plt.boxplot(hist_data,\n",
    "            boxprops = dict(linestyle=\"-\", linewidth=2, color=\"b\"), # customise the box\n",
    "            medianprops = dict(linestyle=\"-\", linewidth=2, color=\"r\"))  # customise the median\n",
    "plt.show()"
   ]
  },
  {
   "cell_type": "code",
   "execution_count": null,
   "id": "d04a8b4d",
   "metadata": {},
   "outputs": [],
   "source": [
    "boxplot_data = np.random.rand(20)\n",
    "boxplot_extra_data = np.random.rand(50)\n",
    "\n",
    "plt.boxplot([hist_data, boxplot_data, boxplot_extra_data], labels=['Dataset 1', 'Dataset 2', 'Dataset 3'])\n",
    "plt.show()"
   ]
  },
  {
   "cell_type": "markdown",
   "id": "24377f04",
   "metadata": {},
   "source": [
    "## Violin plots"
   ]
  },
  {
   "cell_type": "code",
   "execution_count": null,
   "id": "2fdd06fc",
   "metadata": {
    "scrolled": true
   },
   "outputs": [],
   "source": [
    "plt.violinplot(hist_data)\n",
    "plt.show()"
   ]
  },
  {
   "cell_type": "code",
   "execution_count": null,
   "id": "6f20ce8b",
   "metadata": {},
   "outputs": [],
   "source": [
    "plt.violinplot([hist_data, boxplot_data, boxplot_extra_data])\n",
    "plt.xticks(ticks=[1, 2, 3], labels=['Dataset 1', 'Dataset 2', 'Dataset 3'])\n",
    "plt.show()"
   ]
  },
  {
   "cell_type": "code",
   "execution_count": null,
   "id": "434cc550",
   "metadata": {},
   "outputs": [],
   "source": []
  }
 ],
 "metadata": {
  "kernelspec": {
   "display_name": "Python 3 (ipykernel)",
   "language": "python",
   "name": "python3"
  },
  "language_info": {
   "codemirror_mode": {
    "name": "ipython",
    "version": 3
   },
   "file_extension": ".py",
   "mimetype": "text/x-python",
   "name": "python",
   "nbconvert_exporter": "python",
   "pygments_lexer": "ipython3",
   "version": "3.11.4"
  }
 },
 "nbformat": 4,
 "nbformat_minor": 5
}
