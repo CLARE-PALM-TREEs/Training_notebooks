{
 "cells": [
  {
   "cell_type": "markdown",
   "id": "18f155d0",
   "metadata": {},
   "source": [
    "<img src=\"images/Project_logos.png\" width=\"500\" height=\"300\" align=\"center\">"
   ]
  },
  {
   "cell_type": "code",
   "execution_count": null,
   "id": "6e928512",
   "metadata": {},
   "outputs": [],
   "source": [
    "%matplotlib inline\n",
    "\n",
    "import matplotlib.pyplot as plt\n",
    "import cartopy.crs as ccrs"
   ]
  },
  {
   "cell_type": "markdown",
   "id": "dcbb42bd",
   "metadata": {},
   "source": [
    "## Adding features\n",
    "\n",
    "We can add features from the [Natural Earth](http://www.naturalearthdata.com/) database to maps we produce. Natural Earth datasets are downloaded and cached when they are first used, so you need an internet connection to use them, and you may encounter warnings when you first download them.\n",
    "\n",
    "We add features to maps via the [cartopy feature interface](http://scitools.org.uk/cartopy/docs/latest/matplotlib/feature_interface.html).\n",
    "\n",
    "For example, let's add political borders to a map:"
   ]
  },
  {
   "cell_type": "code",
   "execution_count": null,
   "id": "aa2f361b",
   "metadata": {},
   "outputs": [],
   "source": [
    "import cartopy.feature as cfeat\n",
    "\n",
    "fig = plt.figure(figsize=(14, 7))\n",
    "\n",
    "ax = plt.axes(projection=ccrs.Miller())\n",
    "ax.coastlines('50m')\n",
    "\n",
    "# ax.add_feature(cfeat.BORDERS, edgecolor='b')\n",
    "\n",
    "political_bdrys = cfeat.NaturalEarthFeature(category='cultural',\n",
    "                                            name='admin_0_countries',\n",
    "                                            scale='50m')\n",
    "ax.add_feature(political_bdrys,\n",
    "               edgecolor='b', facecolor='none',\n",
    "               linestyle='--', zorder=-1)\n",
    "\n",
    "plt.show()"
   ]
  },
  {
   "cell_type": "markdown",
   "id": "2f73b87f",
   "metadata": {},
   "source": [
    "We can add graticule lines and tick labels to the map using the gridlines method (this currently is limited to just a few coordinate reference systems):"
   ]
  },
  {
   "cell_type": "code",
   "execution_count": null,
   "id": "dd55ab74",
   "metadata": {},
   "outputs": [],
   "source": [
    "ax = plt.axes(projection=ccrs.Mercator())\n",
    "ax.coastlines()\n",
    "gl = ax.gridlines(draw_labels=True)\n",
    "plt.show()"
   ]
  },
  {
   "cell_type": "markdown",
   "id": "1a580ad3",
   "metadata": {},
   "source": [
    "We can control the specific tick values by using matplotlib's locator object, and the formatting can be controlled with matplotlib formatters:"
   ]
  },
  {
   "cell_type": "code",
   "execution_count": null,
   "id": "80652211",
   "metadata": {},
   "outputs": [],
   "source": [
    "import matplotlib.ticker as mticker\n",
    "from cartopy.mpl.gridliner import LATITUDE_FORMATTER\n",
    "\n",
    "ax = plt.axes(projection=ccrs.PlateCarree())\n",
    "ax.coastlines()\n",
    "gl = ax.gridlines(draw_labels=True)\n",
    "\n",
    "gl.xlocator = mticker.FixedLocator([-180, -45, 0, 45, 180])\n",
    "gl.yformatter = LATITUDE_FORMATTER\n",
    "\n",
    "plt.show()"
   ]
  },
  {
   "cell_type": "markdown",
   "id": "a3740686",
   "metadata": {},
   "source": [
    "Cartopy cannot currently label all types of projection, though more work is intended on this functionality in the future."
   ]
  }
 ],
 "metadata": {
  "kernelspec": {
   "display_name": "Python 3 + Jaspy",
   "language": "python",
   "name": "jaspy"
  },
  "language_info": {
   "codemirror_mode": {
    "name": "ipython",
    "version": 3
   },
   "file_extension": ".py",
   "mimetype": "text/x-python",
   "name": "python",
   "nbconvert_exporter": "python",
   "pygments_lexer": "ipython3",
   "version": "3.10.5"
  }
 },
 "nbformat": 4,
 "nbformat_minor": 5
}
