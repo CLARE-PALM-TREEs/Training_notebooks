{
 "cells": [
  {
   "cell_type": "markdown",
   "id": "f46a75b6",
   "metadata": {},
   "source": [
    "# A First Look at Cartopy (for Iris)\n",
    "\n",
    "## Course aims and objectives\n",
    "\n",
    "The **aim** of the cartopy course is to introduce the cartopy library and highlight of some of its features.\n",
    "\n",
    "The **learning outcomes** of the cartopy course are as follows. By the end of the course, you will be able to:\n",
    "\n",
    "* understand the functionality provided by the `cartopy.crs` module,\n",
    "* explain the purpose and usage of the `projection` and `transform` keyword arguments, and\n",
    "* add geolocated data, grid lines and Natural Earth features to a cartopy map.\n",
    "\n",
    "The course will cover:\n",
    "\n",
    "1. [Introduction: maps and projections](1.Introduction_maps_projections.ipynb)\n",
    "2. [Transforming data](2.Transforming_data.ipynb)\n",
    "3. [Adding features](3.Adding_features.ipynb)\n",
    "4. [Exercise](4.Exercise.ipynb)\n",
    "\n",
    "\n"
   ]
  },
  {
   "cell_type": "code",
   "execution_count": null,
   "id": "f46971e6",
   "metadata": {},
   "outputs": [],
   "source": []
  }
 ],
 "metadata": {
  "kernelspec": {
   "display_name": "Python 3 (ipykernel)",
   "language": "python",
   "name": "python3"
  },
  "language_info": {
   "codemirror_mode": {
    "name": "ipython",
    "version": 3
   },
   "file_extension": ".py",
   "mimetype": "text/x-python",
   "name": "python",
   "nbconvert_exporter": "python",
   "pygments_lexer": "ipython3",
   "version": "3.11.5"
  }
 },
 "nbformat": 4,
 "nbformat_minor": 5
}
