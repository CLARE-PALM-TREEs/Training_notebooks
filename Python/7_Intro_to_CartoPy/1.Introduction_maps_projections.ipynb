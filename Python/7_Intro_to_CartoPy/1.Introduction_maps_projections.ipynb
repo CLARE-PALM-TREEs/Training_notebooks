{
 "cells": [
  {
   "cell_type": "code",
   "execution_count": null,
   "id": "8ed28339",
   "metadata": {},
   "outputs": [],
   "source": [
    "%matplotlib inline"
   ]
  },
  {
   "cell_type": "markdown",
   "id": "ad638882",
   "metadata": {},
   "source": [
    "## Introduction: maps and projections\n",
    "\n",
    "Cartopy is a Python package that provides easy creation of maps, using matplotlib, for the analysis and visualisation of geospatial data."
   ]
  },
  {
   "cell_type": "markdown",
   "id": "b2690fb4",
   "metadata": {},
   "source": [
    "In order to create a map with cartopy and matplotlib, we typically need to import pyplot from matplotlib and cartopy's crs (coordinate reference system) submodule. These are typically imported as follows:"
   ]
  },
  {
   "cell_type": "code",
   "execution_count": null,
   "id": "c3a95b37",
   "metadata": {},
   "outputs": [],
   "source": [
    "import matplotlib.pyplot as plt\n",
    "import cartopy.crs as ccrs"
   ]
  },
  {
   "cell_type": "markdown",
   "id": "470b0c02",
   "metadata": {},
   "source": [
    "Cartopy's matplotlib interface is set up via the **`projection`** keyword when constructing a matplotlib `Axes` / `SubAxes` instance. The resulting axes instance has new methods, such as the **``coastlines()``** method, which are specific to drawing cartographic data:"
   ]
  },
  {
   "cell_type": "code",
   "execution_count": null,
   "id": "9f4c5327",
   "metadata": {},
   "outputs": [],
   "source": [
    "ax = plt.axes(projection=ccrs.PlateCarree())\n",
    "ax.coastlines()\n",
    "plt.show()"
   ]
  },
  {
   "cell_type": "markdown",
   "id": "3e589c41",
   "metadata": {},
   "source": [
    "A full list of Cartopy projections is available at http://scitools.org.uk/cartopy/docs/latest/crs/projections.html."
   ]
  },
  {
   "cell_type": "markdown",
   "id": "925a3be7",
   "metadata": {},
   "source": [
    "<div class=\"alert alert-block alert-warning\">\n",
    "    <b><font color='brown'>Suggested Activity :</font></b> Try modifying the above code to plot a different projection.\n",
    "</div>"
   ]
  },
  {
   "cell_type": "code",
   "execution_count": null,
   "id": "4925f758",
   "metadata": {},
   "outputs": [],
   "source": [
    "#\n",
    "# EDIT for user code ...\n",
    "#"
   ]
  },
  {
   "cell_type": "markdown",
   "id": "bf1520b6",
   "metadata": {},
   "source": [
    "<b><font color=\"brown\">SAMPLE SOLUTION:</font></b>  \n",
    "Un-comment and execute the following, to view a possible code solution.  \n",
    "Then run it ..."
   ]
  },
  {
   "cell_type": "code",
   "execution_count": null,
   "id": "eed9db57",
   "metadata": {},
   "outputs": [],
   "source": [
    "# %load solutions/cartopy_exercise_1"
   ]
  },
  {
   "cell_type": "markdown",
   "id": "15ba0c24",
   "metadata": {},
   "source": [
    "Let's compare the Plate Carree projection to another projection from the projection list; being the Orthographic projection. We'll do that by plotting two subplots next to each other at the same time:"
   ]
  },
  {
   "cell_type": "code",
   "execution_count": null,
   "id": "7470363c",
   "metadata": {},
   "outputs": [],
   "source": [
    "# Make sure the figure is a decent size when plotted.\n",
    "fig = plt.figure(figsize=(14, 7))\n",
    "\n",
    "# Left plot.\n",
    "ax1 = fig.add_subplot(1, 2, 1, projection=ccrs.PlateCarree())\n",
    "ax1.coastlines()\n",
    "\n",
    "# Right plot.\n",
    "ax2 = fig.add_subplot(1, 2, 2, projection=ccrs.Orthographic())\n",
    "ax2.coastlines()\n",
    "\n",
    "# Show both subplots on the same figure.\n",
    "plt.show()"
   ]
  }
 ],
 "metadata": {
  "kernelspec": {
   "display_name": "Python 3 + Jaspy",
   "language": "python",
   "name": "jaspy"
  },
  "language_info": {
   "codemirror_mode": {
    "name": "ipython",
    "version": 3
   },
   "file_extension": ".py",
   "mimetype": "text/x-python",
   "name": "python",
   "nbconvert_exporter": "python",
   "pygments_lexer": "ipython3",
   "version": "3.10.5"
  }
 },
 "nbformat": 4,
 "nbformat_minor": 5
}
