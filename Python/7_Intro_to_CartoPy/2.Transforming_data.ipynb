{
 "cells": [
  {
   "cell_type": "code",
   "execution_count": null,
   "id": "9bd352f3",
   "metadata": {},
   "outputs": [],
   "source": [
    "%matplotlib inline\n",
    "\n",
    "import matplotlib.pyplot as plt\n",
    "import cartopy.crs as ccrs"
   ]
  },
  {
   "cell_type": "markdown",
   "id": "c0f5f6c6",
   "metadata": {},
   "source": [
    "## Transforming data\n",
    "\n",
    "To draw cartographic data, we use the standard matplotlib plotting routines with an additional **`transform`** keyword argument. The value of the `transform` argument should be the cartopy coordinate reference system *of the data being plotted*.\n",
    "\n",
    "First let's plot a line on a PlateCarree projection."
   ]
  },
  {
   "cell_type": "code",
   "execution_count": null,
   "id": "58e6f11d",
   "metadata": {},
   "outputs": [],
   "source": [
    "ax = plt.axes(projection=ccrs.PlateCarree())\n",
    "ax.coastlines()\n",
    "x0, y0 = -50, -30\n",
    "x1, y1 = 10, 55\n",
    "plt.plot([x0, x1], [y0, y1], linewidth=4)\n",
    "plt.show()"
   ]
  },
  {
   "cell_type": "markdown",
   "id": "3bada0ff",
   "metadata": {},
   "source": [
    "Now let's try plotting the same line on an `EquidistantConic` projection."
   ]
  },
  {
   "cell_type": "code",
   "execution_count": null,
   "id": "a0fe48c6",
   "metadata": {},
   "outputs": [],
   "source": [
    "proj = ccrs.EquidistantConic()\n",
    "\n",
    "ax = plt.axes(projection=proj)\n",
    "ax.coastlines()\n",
    "plt.plot([x0, x1], [y0, y1], linewidth=4)\n",
    "plt.show()"
   ]
  },
  {
   "cell_type": "markdown",
   "id": "fcabdfe9",
   "metadata": {},
   "source": [
    "The above plot is ***not*** what we intended.  \n",
    "We have set up the axes to be in the Equidistant Conic projection, but we have not told Cartopy that the coordinates of the line are \"in PlateCarree\".  \n",
    "To do this, we use the `transform` keyword in the plt.plot function :"
   ]
  },
  {
   "cell_type": "code",
   "execution_count": null,
   "id": "35997127",
   "metadata": {},
   "outputs": [],
   "source": [
    "ax = plt.axes(projection=proj)\n",
    "ax.coastlines()\n",
    "plt.plot([x0, x1], [y0, y1], linewidth=4, transform=ccrs.PlateCarree())\n",
    "plt.show()"
   ]
  },
  {
   "cell_type": "markdown",
   "id": "f2437e4b",
   "metadata": {},
   "source": [
    "Notice that the plotted line is bent :  It is a straight line ***in the coordinate system it is defined in***, so that makes it a curved line on this map.\n",
    "\n",
    "Also note that, unless we specify a map extent, the map zooms to contain just the plotted data.  \n",
    "A very simple alternative to that is to plot the 'full map', by calling the **``set_global``** method on the Axes, as in this case :"
   ]
  },
  {
   "cell_type": "code",
   "execution_count": null,
   "id": "039ad5ba",
   "metadata": {},
   "outputs": [],
   "source": [
    "ax = plt.axes(projection=proj)\n",
    "ax.coastlines()\n",
    "ax.set_global()\n",
    "plt.plot([x0, x1], [y0, y1], linewidth=4, transform=ccrs.PlateCarree())\n",
    "plt.show()"
   ]
  },
  {
   "cell_type": "markdown",
   "id": "ec67a2e1",
   "metadata": {},
   "source": [
    "<div class=\"alert alert-block alert-warning\">\n",
    "    <b><font color='brown'>Suggested Activity :</font></b> Try re-plotting the \"failed plot\" above, but adding a \"set_global\" call to show the full map extent.\n",
    "\n",
    "What does this tell you about what was actually being plotted in that case ?\n",
    "</div>"
   ]
  },
  {
   "cell_type": "code",
   "execution_count": null,
   "id": "290fb625",
   "metadata": {},
   "outputs": [],
   "source": [
    "#\n",
    "# edit space for user code ...\n",
    "#"
   ]
  },
  {
   "cell_type": "code",
   "execution_count": null,
   "id": "41300e81",
   "metadata": {},
   "outputs": [],
   "source": [
    "# %load solutions/cartopy_exercise_2"
   ]
  },
  {
   "cell_type": "markdown",
   "id": "e5426fb0",
   "metadata": {},
   "source": [
    "<div class=\"alert alert-block alert-warning\">\n",
    "    <b><font color='brown'>Suggested Activity :</font></b> Try taking more control of the plot region,  \n",
    "using the <a href=\"https://scitools.org.uk/cartopy/docs/latest/matplotlib/geoaxes.html?highlight=set_extent#cartopy.mpl.geoaxes.GeoAxes.set_extent\"> Geoaxes.set_extents</a> method. <br>\n",
    "( look this up ! )\n",
    "\n",
    "What is the _coordinate system_ of the coordinate values which you pass into this method ?\n",
    "</div>"
   ]
  },
  {
   "cell_type": "code",
   "execution_count": null,
   "id": "bb898435",
   "metadata": {},
   "outputs": [],
   "source": [
    "#\n",
    "# edit space for user code ...\n",
    "#"
   ]
  },
  {
   "cell_type": "code",
   "execution_count": null,
   "id": "c073d370",
   "metadata": {},
   "outputs": [],
   "source": [
    "# %load solutions/cartopy_exercise_3"
   ]
  }
 ],
 "metadata": {
  "kernelspec": {
   "display_name": "Python 3 + Jaspy",
   "language": "python",
   "name": "jaspy"
  },
  "language_info": {
   "codemirror_mode": {
    "name": "ipython",
    "version": 3
   },
   "file_extension": ".py",
   "mimetype": "text/x-python",
   "name": "python",
   "nbconvert_exporter": "python",
   "pygments_lexer": "ipython3",
   "version": "3.10.5"
  }
 },
 "nbformat": 4,
 "nbformat_minor": 5
}
